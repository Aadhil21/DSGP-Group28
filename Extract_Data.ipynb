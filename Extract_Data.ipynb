{
 "nbformat": 4,
 "nbformat_minor": 0,
 "metadata": {
  "colab": {
   "provenance": [],
   "authorship_tag": "ABX9TyNTJdN48xYdlQcu9ATT9Vga",
   "include_colab_link": true
  },
  "kernelspec": {
   "name": "python3",
   "language": "python",
   "display_name": "Python 3 (ipykernel)"
  },
  "language_info": {
   "name": "python"
  }
 },
 "cells": [
  {
   "cell_type": "markdown",
   "metadata": {
    "id": "view-in-github",
    "colab_type": "text"
   },
   "source": [
    "<a href=\"https://colab.research.google.com/github/Aadhil21/DSGP-Group28/blob/branch-Aadhil/Extract_Data.ipynb\" target=\"_parent\"><img src=\"https://colab.research.google.com/assets/colab-badge.svg\" alt=\"Open In Colab\"/></a>"
   ]
  },
  {
   "cell_type": "markdown",
   "source": [
    "#Import Libraries"
   ],
   "metadata": {
    "id": "b27APJ9dDb81"
   }
  },
  {
   "cell_type": "code",
   "outputs": [],
   "source": [
    "import pandas as pd\n",
    "import cv2\n",
    "import os\n",
    "import mediapipe as mp\n",
    "import time"
   ],
   "metadata": {
    "collapsed": false,
    "ExecuteTime": {
     "end_time": "2024-01-19T06:59:37.019582Z",
     "start_time": "2024-01-19T06:59:36.166017700Z"
    }
   },
   "execution_count": 10
  },
  {
   "cell_type": "markdown",
   "source": [
    "#Initialize mediapipe model"
   ],
   "metadata": {
    "id": "RVs-LtU4DgG2"
   }
  },
  {
   "cell_type": "code",
   "source": [
    "mp_pose = mp.solutions.pose\n",
    "mp_drawing = mp.solutions.drawing_utils\n",
    "pose = mp_pose.Pose(min_detection_confidence=0.6,\n",
    "                    min_tracking_confidence=0.6,\n",
    "                    static_image_mode=False,\n",
    "                    smooth_landmarks=True,\n",
    "                    model_complexity=2)"
   ],
   "metadata": {
    "id": "G55GViGjyBNl",
    "ExecuteTime": {
     "end_time": "2024-01-19T06:59:37.173956900Z",
     "start_time": "2024-01-19T06:59:36.896423400Z"
    }
   },
   "execution_count": 11,
   "outputs": []
  },
  {
   "cell_type": "markdown",
   "source": [],
   "metadata": {
    "collapsed": false
   }
  },
  {
   "cell_type": "markdown",
   "source": [
    "##Set Directory Path"
   ],
   "metadata": {
    "id": "VH1g2EjbDkzo"
   }
  },
  {
   "cell_type": "code",
   "source": [
    "# if not os.path.exists('Videos'):\n",
    "#     os.mkdir('Videos')\n",
    "# if not os.path.exists('Datasets'):\n",
    "#     os.mkdir('Datasets')\n",
    "\n",
    "video_name = 'WPushUp.mp4'\n",
    "video_path = 'Videos/' + video_name\n",
    "dataset_path = 'Datasets/'"
   ],
   "metadata": {
    "id": "Wy8OKunA6p3-",
    "ExecuteTime": {
     "end_time": "2024-01-19T06:59:37.238571Z",
     "start_time": "2024-01-19T06:59:37.158498600Z"
    }
   },
   "execution_count": 12,
   "outputs": []
  },
  {
   "cell_type": "code",
   "source": [
    "frame_count = 0\n",
    "frame_numbers = []\n",
    "data_dict = {}\n",
    "desired_width = 480\n",
    "desired_height = 360"
   ],
   "metadata": {
    "id": "l6-yK1776W4m",
    "ExecuteTime": {
     "end_time": "2024-01-19T06:59:37.292131600Z",
     "start_time": "2024-01-19T06:59:37.220044600Z"
    }
   },
   "execution_count": 13,
   "outputs": []
  },
  {
   "cell_type": "code",
   "source": [
    "cap = cv2.VideoCapture(video_path)"
   ],
   "metadata": {
    "id": "c23qJr3s7jBf",
    "ExecuteTime": {
     "end_time": "2024-01-19T06:59:37.473177500Z",
     "start_time": "2024-01-19T06:59:37.294484700Z"
    }
   },
   "execution_count": 14,
   "outputs": []
  },
  {
   "cell_type": "markdown",
   "source": [
    "##Populate keypoints dictionary"
   ],
   "metadata": {
    "id": "jtIgnbuFDq0q"
   }
  },
  {
   "cell_type": "code",
   "source": [
    "for landmark in mp_pose.PoseLandmark:\n",
    "    x_list_name = f\"{landmark.name}_Point_x\"\n",
    "    y_list_name = f\"{landmark.name}_Point_y\"\n",
    "    z_list_name = f\"{landmark.name}_Point_z\"\n",
    "    visibility_list_name = f\"{landmark.name}_visibility\"\n",
    "\n",
    "    data_dict[x_list_name] = []\n",
    "    data_dict[y_list_name] = []\n",
    "    data_dict[z_list_name] = []\n",
    "    data_dict[visibility_list_name] = []"
   ],
   "metadata": {
    "id": "kAjW-bCr8Sc-",
    "ExecuteTime": {
     "end_time": "2024-01-19T06:59:37.486913600Z",
     "start_time": "2024-01-19T06:59:37.469074300Z"
    }
   },
   "execution_count": 15,
   "outputs": []
  },
  {
   "cell_type": "markdown",
   "source": [
    "##Process Frames"
   ],
   "metadata": {
    "id": "VGgwdQBZDx6f"
   }
  },
  {
   "cell_type": "code",
   "source": [
    "while cap.isOpened():\n",
    "    success, image = cap.read()\n",
    "    if not success:\n",
    "        break\n",
    "\n",
    "    # Increment frame_count\n",
    "    frame_count += 1\n",
    "    print(f'Processing frame {frame_count}')\n",
    "\n",
    "    # Resize the frame to the desired width and height\n",
    "    image = cv2.resize(image, (desired_width, desired_height))\n",
    "\n",
    "    # Convert the image from BGR to RGB\n",
    "    image_rgb = cv2.cvtColor(image, cv2.COLOR_BGR2RGB)\n",
    "\n",
    "    results = pose.process(image_rgb)\n",
    "\n",
    "    if results.pose_landmarks:\n",
    "\n",
    "        frame_numbers.append(frame_count)\n",
    "\n",
    "        for landmark in mp_pose.PoseLandmark:\n",
    "            x_list_name = f\"{landmark.name}_Point_x\"\n",
    "            y_list_name = f\"{landmark.name}_Point_y\"\n",
    "            z_list_name = f\"{landmark.name}_Point_z\"\n",
    "            visibility_list_name = f\"{landmark.name}_visibility\"\n",
    "\n",
    "            data_dict[x_list_name].append(results.pose_landmarks.landmark[landmark].x)\n",
    "            data_dict[y_list_name].append(results.pose_landmarks.landmark[landmark].y)\n",
    "            data_dict[z_list_name].append(results.pose_landmarks.landmark[landmark].z)\n",
    "            data_dict[visibility_list_name].append(results.pose_landmarks.landmark[landmark].visibility)\n",
    "\n",
    "    time.sleep(0.01)\n",
    "\n",
    "    if cv2.waitKey(1) & 0xFF == ord('q'):\n",
    "        break"
   ],
   "metadata": {
    "id": "5IsIdd406xtX",
    "ExecuteTime": {
     "end_time": "2024-01-19T07:00:31.701899600Z",
     "start_time": "2024-01-19T06:59:37.497899900Z"
    }
   },
   "execution_count": 16,
   "outputs": [
    {
     "name": "stdout",
     "output_type": "stream",
     "text": [
      "Processing frame 1\n"
     ]
    },
    {
     "name": "stderr",
     "output_type": "stream",
     "text": [
      "C:\\Python311\\Lib\\site-packages\\google\\protobuf\\symbol_database.py:55: UserWarning: SymbolDatabase.GetPrototype() is deprecated. Please use message_factory.GetMessageClass() instead. SymbolDatabase.GetPrototype() will be removed soon.\n",
      "  warnings.warn('SymbolDatabase.GetPrototype() is deprecated. Please '\n"
     ]
    },
    {
     "name": "stdout",
     "output_type": "stream",
     "text": [
      "Processing frame 2\n",
      "Processing frame 3\n",
      "Processing frame 4\n",
      "Processing frame 5\n",
      "Processing frame 6\n",
      "Processing frame 7\n",
      "Processing frame 8\n",
      "Processing frame 9\n",
      "Processing frame 10\n",
      "Processing frame 11\n",
      "Processing frame 12\n",
      "Processing frame 13\n",
      "Processing frame 14\n",
      "Processing frame 15\n",
      "Processing frame 16\n",
      "Processing frame 17\n",
      "Processing frame 18\n",
      "Processing frame 19\n",
      "Processing frame 20\n",
      "Processing frame 21\n",
      "Processing frame 22\n",
      "Processing frame 23\n",
      "Processing frame 24\n",
      "Processing frame 25\n",
      "Processing frame 26\n",
      "Processing frame 27\n",
      "Processing frame 28\n",
      "Processing frame 29\n",
      "Processing frame 30\n",
      "Processing frame 31\n",
      "Processing frame 32\n",
      "Processing frame 33\n",
      "Processing frame 34\n",
      "Processing frame 35\n",
      "Processing frame 36\n",
      "Processing frame 37\n",
      "Processing frame 38\n",
      "Processing frame 39\n",
      "Processing frame 40\n",
      "Processing frame 41\n",
      "Processing frame 42\n",
      "Processing frame 43\n",
      "Processing frame 44\n",
      "Processing frame 45\n",
      "Processing frame 46\n",
      "Processing frame 47\n",
      "Processing frame 48\n",
      "Processing frame 49\n",
      "Processing frame 50\n",
      "Processing frame 51\n",
      "Processing frame 52\n",
      "Processing frame 53\n",
      "Processing frame 54\n",
      "Processing frame 55\n",
      "Processing frame 56\n",
      "Processing frame 57\n",
      "Processing frame 58\n",
      "Processing frame 59\n",
      "Processing frame 60\n",
      "Processing frame 61\n",
      "Processing frame 62\n",
      "Processing frame 63\n",
      "Processing frame 64\n",
      "Processing frame 65\n",
      "Processing frame 66\n",
      "Processing frame 67\n",
      "Processing frame 68\n",
      "Processing frame 69\n",
      "Processing frame 70\n",
      "Processing frame 71\n",
      "Processing frame 72\n",
      "Processing frame 73\n",
      "Processing frame 74\n",
      "Processing frame 75\n",
      "Processing frame 76\n",
      "Processing frame 77\n",
      "Processing frame 78\n",
      "Processing frame 79\n",
      "Processing frame 80\n",
      "Processing frame 81\n",
      "Processing frame 82\n",
      "Processing frame 83\n",
      "Processing frame 84\n",
      "Processing frame 85\n",
      "Processing frame 86\n",
      "Processing frame 87\n",
      "Processing frame 88\n",
      "Processing frame 89\n",
      "Processing frame 90\n",
      "Processing frame 91\n",
      "Processing frame 92\n",
      "Processing frame 93\n",
      "Processing frame 94\n",
      "Processing frame 95\n",
      "Processing frame 96\n",
      "Processing frame 97\n",
      "Processing frame 98\n",
      "Processing frame 99\n",
      "Processing frame 100\n",
      "Processing frame 101\n",
      "Processing frame 102\n",
      "Processing frame 103\n",
      "Processing frame 104\n",
      "Processing frame 105\n",
      "Processing frame 106\n",
      "Processing frame 107\n",
      "Processing frame 108\n",
      "Processing frame 109\n",
      "Processing frame 110\n",
      "Processing frame 111\n",
      "Processing frame 112\n",
      "Processing frame 113\n",
      "Processing frame 114\n",
      "Processing frame 115\n",
      "Processing frame 116\n",
      "Processing frame 117\n",
      "Processing frame 118\n",
      "Processing frame 119\n",
      "Processing frame 120\n",
      "Processing frame 121\n",
      "Processing frame 122\n",
      "Processing frame 123\n",
      "Processing frame 124\n",
      "Processing frame 125\n",
      "Processing frame 126\n",
      "Processing frame 127\n",
      "Processing frame 128\n",
      "Processing frame 129\n",
      "Processing frame 130\n",
      "Processing frame 131\n",
      "Processing frame 132\n",
      "Processing frame 133\n",
      "Processing frame 134\n",
      "Processing frame 135\n",
      "Processing frame 136\n",
      "Processing frame 137\n",
      "Processing frame 138\n",
      "Processing frame 139\n",
      "Processing frame 140\n",
      "Processing frame 141\n",
      "Processing frame 142\n",
      "Processing frame 143\n",
      "Processing frame 144\n",
      "Processing frame 145\n",
      "Processing frame 146\n",
      "Processing frame 147\n",
      "Processing frame 148\n",
      "Processing frame 149\n",
      "Processing frame 150\n",
      "Processing frame 151\n",
      "Processing frame 152\n",
      "Processing frame 153\n",
      "Processing frame 154\n",
      "Processing frame 155\n",
      "Processing frame 156\n",
      "Processing frame 157\n",
      "Processing frame 158\n",
      "Processing frame 159\n",
      "Processing frame 160\n",
      "Processing frame 161\n",
      "Processing frame 162\n",
      "Processing frame 163\n",
      "Processing frame 164\n",
      "Processing frame 165\n",
      "Processing frame 166\n",
      "Processing frame 167\n",
      "Processing frame 168\n",
      "Processing frame 169\n",
      "Processing frame 170\n",
      "Processing frame 171\n",
      "Processing frame 172\n",
      "Processing frame 173\n",
      "Processing frame 174\n",
      "Processing frame 175\n",
      "Processing frame 176\n",
      "Processing frame 177\n",
      "Processing frame 178\n",
      "Processing frame 179\n",
      "Processing frame 180\n",
      "Processing frame 181\n",
      "Processing frame 182\n",
      "Processing frame 183\n",
      "Processing frame 184\n",
      "Processing frame 185\n",
      "Processing frame 186\n",
      "Processing frame 187\n",
      "Processing frame 188\n",
      "Processing frame 189\n",
      "Processing frame 190\n",
      "Processing frame 191\n",
      "Processing frame 192\n",
      "Processing frame 193\n",
      "Processing frame 194\n",
      "Processing frame 195\n",
      "Processing frame 196\n",
      "Processing frame 197\n",
      "Processing frame 198\n",
      "Processing frame 199\n",
      "Processing frame 200\n",
      "Processing frame 201\n",
      "Processing frame 202\n",
      "Processing frame 203\n",
      "Processing frame 204\n",
      "Processing frame 205\n",
      "Processing frame 206\n",
      "Processing frame 207\n",
      "Processing frame 208\n",
      "Processing frame 209\n",
      "Processing frame 210\n",
      "Processing frame 211\n",
      "Processing frame 212\n",
      "Processing frame 213\n",
      "Processing frame 214\n",
      "Processing frame 215\n",
      "Processing frame 216\n",
      "Processing frame 217\n",
      "Processing frame 218\n",
      "Processing frame 219\n",
      "Processing frame 220\n",
      "Processing frame 221\n",
      "Processing frame 222\n",
      "Processing frame 223\n",
      "Processing frame 224\n",
      "Processing frame 225\n",
      "Processing frame 226\n",
      "Processing frame 227\n",
      "Processing frame 228\n",
      "Processing frame 229\n",
      "Processing frame 230\n",
      "Processing frame 231\n",
      "Processing frame 232\n",
      "Processing frame 233\n",
      "Processing frame 234\n",
      "Processing frame 235\n",
      "Processing frame 236\n",
      "Processing frame 237\n",
      "Processing frame 238\n",
      "Processing frame 239\n",
      "Processing frame 240\n",
      "Processing frame 241\n",
      "Processing frame 242\n",
      "Processing frame 243\n",
      "Processing frame 244\n",
      "Processing frame 245\n",
      "Processing frame 246\n",
      "Processing frame 247\n",
      "Processing frame 248\n",
      "Processing frame 249\n",
      "Processing frame 250\n",
      "Processing frame 251\n"
     ]
    }
   ]
  },
  {
   "cell_type": "markdown",
   "source": [
    "## Save Key points to File"
   ],
   "metadata": {
    "id": "V9XU2EkrD2lm"
   }
  },
  {
   "cell_type": "code",
   "outputs": [
    {
     "name": "stdout",
     "output_type": "stream",
     "text": [
      "Data saved to pose_landmark_data_WPushUp.xlsx\n"
     ]
    }
   ],
   "source": [
    "# Creating a DataFrame from the dictionary\n",
    "df = pd.DataFrame(data_dict)\n",
    "\n",
    "# Adding a column for the frame number\n",
    "df.insert(0, 'Frame_Number', frame_numbers)\n",
    "\n",
    "# Writing the DataFrame to an Excel file\n",
    "file_name = 'pose_landmark_data_' + video_name.split('.')[0] + '.xlsx'\n",
    "\n",
    "df.to_excel(dataset_path + '/' + file_name, index=False)\n",
    "\n",
    "print(f\"Data saved to {file_name}\")"
   ],
   "metadata": {
    "collapsed": false,
    "ExecuteTime": {
     "end_time": "2024-01-19T07:00:32.904046500Z",
     "start_time": "2024-01-19T07:00:31.697179200Z"
    }
   },
   "execution_count": 17
  },
  {
   "cell_type": "markdown",
   "source": [
    "## Reading Key points from File"
   ],
   "metadata": {
    "id": "t5j3-f5ID6SG"
   }
  },
  {
   "cell_type": "code",
   "source": [
    "df_excel = pd.read_excel('Datasets/' + file_name)\n",
    "df_excel"
   ],
   "metadata": {
    "id": "bCR5OVGyAtYR",
    "outputId": "a688331b-d2ea-46ee-b714-17def8be9665",
    "colab": {
     "base_uri": "https://localhost:8080/",
     "height": 443
    },
    "ExecuteTime": {
     "end_time": "2024-01-19T07:00:33.742657600Z",
     "start_time": "2024-01-19T07:00:32.893608300Z"
    }
   },
   "execution_count": 18,
   "outputs": [
    {
     "data": {
      "text/plain": "     Frame_Number  NOSE_Point_x  NOSE_Point_y  NOSE_Point_z  NOSE_visibility   \n0               1      0.254621      0.302891     -0.016454         0.999914  \\\n1               2      0.255304      0.302962     -0.039610         0.999917   \n2               3      0.255342      0.306269     -0.021503         0.999911   \n3               4      0.251655      0.308809      0.025822         0.999917   \n4               5      0.247827      0.312926      0.020259         0.999909   \n..            ...           ...           ...           ...              ...   \n222           246      0.224735      0.327147      0.211180         0.898402   \n223           248      0.276313      0.364584      0.453348         0.820865   \n224           249      0.246253      0.340955      0.225557         0.838225   \n225           250      0.243613      0.339273      0.191251         0.853815   \n226           251      0.228938      0.325813      0.274706         0.867139   \n\n     LEFT_EYE_INNER_Point_x  LEFT_EYE_INNER_Point_y  LEFT_EYE_INNER_Point_z   \n0                  0.249138                0.278250               -0.045513  \\\n1                  0.249683                0.278400               -0.072141   \n2                  0.250044                0.280966               -0.053738   \n3                  0.247719                0.285840                0.000819   \n4                  0.244061                0.291691                0.003745   \n..                      ...                     ...                     ...   \n222                0.215912                0.316137                0.194252   \n223                0.271730                0.358414                0.444885   \n224                0.237305                0.323673                0.214109   \n225                0.233871                0.321845                0.173282   \n226                0.214471                0.313064                0.252468   \n\n     LEFT_EYE_INNER_visibility  LEFT_EYE_Point_x  ...  RIGHT_HEEL_Point_z   \n0                     0.999861          0.250954  ...            0.291700  \\\n1                     0.999866          0.251444  ...            0.407340   \n2                     0.999859          0.251828  ...            0.379696   \n3                     0.999869          0.249826  ...            0.219868   \n4                     0.999864          0.246229  ...            0.193430   \n..                         ...               ...  ...                 ...   \n222                   0.900432          0.216361  ...            0.045927   \n223                   0.825158          0.270966  ...           -0.096089   \n224                   0.842355          0.237455  ...           -0.038515   \n225                   0.857851          0.233878  ...            0.041984   \n226                   0.871198          0.213296  ...           -0.083890   \n\n     RIGHT_HEEL_visibility  LEFT_FOOT_INDEX_Point_x  LEFT_FOOT_INDEX_Point_y   \n0                 0.055152                 0.934912                 0.507480  \\\n1                 0.057414                 0.937241                 0.508591   \n2                 0.055038                 0.939340                 0.505883   \n3                 0.052821                 0.915376                 0.534277   \n4                 0.052662                 0.304477                 0.342846   \n..                     ...                      ...                      ...   \n222               0.286617                 0.263923                 0.572164   \n223               0.258070                 0.203008                 0.380190   \n224               0.252789                 0.310586                 0.501042   \n225               0.235594                 0.309524                 0.540204   \n226               0.290166                 0.273155                 0.572123   \n\n     LEFT_FOOT_INDEX_Point_z  LEFT_FOOT_INDEX_visibility   \n0                  -0.007927                    0.258004  \\\n1                   0.100030                    0.262736   \n2                   0.085299                    0.256015   \n3                  -0.022528                    0.253592   \n4                  -0.202465                    0.239753   \n..                       ...                         ...   \n222                -0.068789                    0.364256   \n223                -0.420590                    0.327936   \n224                 0.041617                    0.297581   \n225                 0.155494                    0.269453   \n226                 0.174758                    0.245789   \n\n     RIGHT_FOOT_INDEX_Point_x  RIGHT_FOOT_INDEX_Point_y   \n0                    0.920347                  0.474278  \\\n1                    0.933384                  0.473314   \n2                    0.935431                  0.469985   \n3                    0.913949                  0.472692   \n4                    0.344384                  0.346067   \n..                        ...                       ...   \n222                  0.338562                  0.379395   \n223                  0.378837                  0.362017   \n224                  0.448940                  0.384846   \n225                  0.378085                  0.394025   \n226                  0.736619                  0.385279   \n\n     RIGHT_FOOT_INDEX_Point_z  RIGHT_FOOT_INDEX_visibility  \n0                    0.232524                     0.035637  \n1                    0.342932                     0.037212  \n2                    0.320846                     0.035728  \n3                    0.162995                     0.034842  \n4                    0.161913                     0.034747  \n..                        ...                          ...  \n222                  0.021906                     0.213263  \n223                 -0.135097                     0.191961  \n224                 -0.056386                     0.184980  \n225                  0.036455                     0.170082  \n226                 -0.151014                     0.221106  \n\n[227 rows x 133 columns]",
      "text/html": "<div>\n<style scoped>\n    .dataframe tbody tr th:only-of-type {\n        vertical-align: middle;\n    }\n\n    .dataframe tbody tr th {\n        vertical-align: top;\n    }\n\n    .dataframe thead th {\n        text-align: right;\n    }\n</style>\n<table border=\"1\" class=\"dataframe\">\n  <thead>\n    <tr style=\"text-align: right;\">\n      <th></th>\n      <th>Frame_Number</th>\n      <th>NOSE_Point_x</th>\n      <th>NOSE_Point_y</th>\n      <th>NOSE_Point_z</th>\n      <th>NOSE_visibility</th>\n      <th>LEFT_EYE_INNER_Point_x</th>\n      <th>LEFT_EYE_INNER_Point_y</th>\n      <th>LEFT_EYE_INNER_Point_z</th>\n      <th>LEFT_EYE_INNER_visibility</th>\n      <th>LEFT_EYE_Point_x</th>\n      <th>...</th>\n      <th>RIGHT_HEEL_Point_z</th>\n      <th>RIGHT_HEEL_visibility</th>\n      <th>LEFT_FOOT_INDEX_Point_x</th>\n      <th>LEFT_FOOT_INDEX_Point_y</th>\n      <th>LEFT_FOOT_INDEX_Point_z</th>\n      <th>LEFT_FOOT_INDEX_visibility</th>\n      <th>RIGHT_FOOT_INDEX_Point_x</th>\n      <th>RIGHT_FOOT_INDEX_Point_y</th>\n      <th>RIGHT_FOOT_INDEX_Point_z</th>\n      <th>RIGHT_FOOT_INDEX_visibility</th>\n    </tr>\n  </thead>\n  <tbody>\n    <tr>\n      <th>0</th>\n      <td>1</td>\n      <td>0.254621</td>\n      <td>0.302891</td>\n      <td>-0.016454</td>\n      <td>0.999914</td>\n      <td>0.249138</td>\n      <td>0.278250</td>\n      <td>-0.045513</td>\n      <td>0.999861</td>\n      <td>0.250954</td>\n      <td>...</td>\n      <td>0.291700</td>\n      <td>0.055152</td>\n      <td>0.934912</td>\n      <td>0.507480</td>\n      <td>-0.007927</td>\n      <td>0.258004</td>\n      <td>0.920347</td>\n      <td>0.474278</td>\n      <td>0.232524</td>\n      <td>0.035637</td>\n    </tr>\n    <tr>\n      <th>1</th>\n      <td>2</td>\n      <td>0.255304</td>\n      <td>0.302962</td>\n      <td>-0.039610</td>\n      <td>0.999917</td>\n      <td>0.249683</td>\n      <td>0.278400</td>\n      <td>-0.072141</td>\n      <td>0.999866</td>\n      <td>0.251444</td>\n      <td>...</td>\n      <td>0.407340</td>\n      <td>0.057414</td>\n      <td>0.937241</td>\n      <td>0.508591</td>\n      <td>0.100030</td>\n      <td>0.262736</td>\n      <td>0.933384</td>\n      <td>0.473314</td>\n      <td>0.342932</td>\n      <td>0.037212</td>\n    </tr>\n    <tr>\n      <th>2</th>\n      <td>3</td>\n      <td>0.255342</td>\n      <td>0.306269</td>\n      <td>-0.021503</td>\n      <td>0.999911</td>\n      <td>0.250044</td>\n      <td>0.280966</td>\n      <td>-0.053738</td>\n      <td>0.999859</td>\n      <td>0.251828</td>\n      <td>...</td>\n      <td>0.379696</td>\n      <td>0.055038</td>\n      <td>0.939340</td>\n      <td>0.505883</td>\n      <td>0.085299</td>\n      <td>0.256015</td>\n      <td>0.935431</td>\n      <td>0.469985</td>\n      <td>0.320846</td>\n      <td>0.035728</td>\n    </tr>\n    <tr>\n      <th>3</th>\n      <td>4</td>\n      <td>0.251655</td>\n      <td>0.308809</td>\n      <td>0.025822</td>\n      <td>0.999917</td>\n      <td>0.247719</td>\n      <td>0.285840</td>\n      <td>0.000819</td>\n      <td>0.999869</td>\n      <td>0.249826</td>\n      <td>...</td>\n      <td>0.219868</td>\n      <td>0.052821</td>\n      <td>0.915376</td>\n      <td>0.534277</td>\n      <td>-0.022528</td>\n      <td>0.253592</td>\n      <td>0.913949</td>\n      <td>0.472692</td>\n      <td>0.162995</td>\n      <td>0.034842</td>\n    </tr>\n    <tr>\n      <th>4</th>\n      <td>5</td>\n      <td>0.247827</td>\n      <td>0.312926</td>\n      <td>0.020259</td>\n      <td>0.999909</td>\n      <td>0.244061</td>\n      <td>0.291691</td>\n      <td>0.003745</td>\n      <td>0.999864</td>\n      <td>0.246229</td>\n      <td>...</td>\n      <td>0.193430</td>\n      <td>0.052662</td>\n      <td>0.304477</td>\n      <td>0.342846</td>\n      <td>-0.202465</td>\n      <td>0.239753</td>\n      <td>0.344384</td>\n      <td>0.346067</td>\n      <td>0.161913</td>\n      <td>0.034747</td>\n    </tr>\n    <tr>\n      <th>...</th>\n      <td>...</td>\n      <td>...</td>\n      <td>...</td>\n      <td>...</td>\n      <td>...</td>\n      <td>...</td>\n      <td>...</td>\n      <td>...</td>\n      <td>...</td>\n      <td>...</td>\n      <td>...</td>\n      <td>...</td>\n      <td>...</td>\n      <td>...</td>\n      <td>...</td>\n      <td>...</td>\n      <td>...</td>\n      <td>...</td>\n      <td>...</td>\n      <td>...</td>\n      <td>...</td>\n    </tr>\n    <tr>\n      <th>222</th>\n      <td>246</td>\n      <td>0.224735</td>\n      <td>0.327147</td>\n      <td>0.211180</td>\n      <td>0.898402</td>\n      <td>0.215912</td>\n      <td>0.316137</td>\n      <td>0.194252</td>\n      <td>0.900432</td>\n      <td>0.216361</td>\n      <td>...</td>\n      <td>0.045927</td>\n      <td>0.286617</td>\n      <td>0.263923</td>\n      <td>0.572164</td>\n      <td>-0.068789</td>\n      <td>0.364256</td>\n      <td>0.338562</td>\n      <td>0.379395</td>\n      <td>0.021906</td>\n      <td>0.213263</td>\n    </tr>\n    <tr>\n      <th>223</th>\n      <td>248</td>\n      <td>0.276313</td>\n      <td>0.364584</td>\n      <td>0.453348</td>\n      <td>0.820865</td>\n      <td>0.271730</td>\n      <td>0.358414</td>\n      <td>0.444885</td>\n      <td>0.825158</td>\n      <td>0.270966</td>\n      <td>...</td>\n      <td>-0.096089</td>\n      <td>0.258070</td>\n      <td>0.203008</td>\n      <td>0.380190</td>\n      <td>-0.420590</td>\n      <td>0.327936</td>\n      <td>0.378837</td>\n      <td>0.362017</td>\n      <td>-0.135097</td>\n      <td>0.191961</td>\n    </tr>\n    <tr>\n      <th>224</th>\n      <td>249</td>\n      <td>0.246253</td>\n      <td>0.340955</td>\n      <td>0.225557</td>\n      <td>0.838225</td>\n      <td>0.237305</td>\n      <td>0.323673</td>\n      <td>0.214109</td>\n      <td>0.842355</td>\n      <td>0.237455</td>\n      <td>...</td>\n      <td>-0.038515</td>\n      <td>0.252789</td>\n      <td>0.310586</td>\n      <td>0.501042</td>\n      <td>0.041617</td>\n      <td>0.297581</td>\n      <td>0.448940</td>\n      <td>0.384846</td>\n      <td>-0.056386</td>\n      <td>0.184980</td>\n    </tr>\n    <tr>\n      <th>225</th>\n      <td>250</td>\n      <td>0.243613</td>\n      <td>0.339273</td>\n      <td>0.191251</td>\n      <td>0.853815</td>\n      <td>0.233871</td>\n      <td>0.321845</td>\n      <td>0.173282</td>\n      <td>0.857851</td>\n      <td>0.233878</td>\n      <td>...</td>\n      <td>0.041984</td>\n      <td>0.235594</td>\n      <td>0.309524</td>\n      <td>0.540204</td>\n      <td>0.155494</td>\n      <td>0.269453</td>\n      <td>0.378085</td>\n      <td>0.394025</td>\n      <td>0.036455</td>\n      <td>0.170082</td>\n    </tr>\n    <tr>\n      <th>226</th>\n      <td>251</td>\n      <td>0.228938</td>\n      <td>0.325813</td>\n      <td>0.274706</td>\n      <td>0.867139</td>\n      <td>0.214471</td>\n      <td>0.313064</td>\n      <td>0.252468</td>\n      <td>0.871198</td>\n      <td>0.213296</td>\n      <td>...</td>\n      <td>-0.083890</td>\n      <td>0.290166</td>\n      <td>0.273155</td>\n      <td>0.572123</td>\n      <td>0.174758</td>\n      <td>0.245789</td>\n      <td>0.736619</td>\n      <td>0.385279</td>\n      <td>-0.151014</td>\n      <td>0.221106</td>\n    </tr>\n  </tbody>\n</table>\n<p>227 rows × 133 columns</p>\n</div>"
     },
     "execution_count": 18,
     "metadata": {},
     "output_type": "execute_result"
    }
   ]
  }
 ]
}
