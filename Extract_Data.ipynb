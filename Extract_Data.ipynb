{
  "nbformat": 4,
  "nbformat_minor": 0,
  "metadata": {
    "colab": {
      "provenance": [],
      "authorship_tag": "ABX9TyP6bofW2dw7+AkA2Ka4R2SI",
      "include_colab_link": true
    },
    "kernelspec": {
      "name": "python3",
      "display_name": "Python 3"
    },
    "language_info": {
      "name": "python"
    }
  },
  "cells": [
    {
      "cell_type": "markdown",
      "metadata": {
        "id": "view-in-github",
        "colab_type": "text"
      },
      "source": [
        "<a href=\"https://colab.research.google.com/github/Aadhil21/DSGP-Group28/blob/branch-Aadhil/Extract_Data.ipynb\" target=\"_parent\"><img src=\"https://colab.research.google.com/assets/colab-badge.svg\" alt=\"Open In Colab\"/></a>"
      ]
    },
    {
      "cell_type": "markdown",
      "source": [
        "#Install Libraries"
      ],
      "metadata": {
        "id": "1GXX3sj-DYCp"
      }
    },
    {
      "cell_type": "code",
      "execution_count": 54,
      "metadata": {
        "colab": {
          "base_uri": "https://localhost:8080/"
        },
        "id": "JluwW4UJwbVZ",
        "outputId": "c8f91996-19c6-4fac-d698-8c9e40069170"
      },
      "outputs": [
        {
          "output_type": "stream",
          "name": "stdout",
          "text": [
            "Requirement already satisfied: mediapipe in /usr/local/lib/python3.10/dist-packages (0.10.8)\n",
            "Requirement already satisfied: absl-py in /usr/local/lib/python3.10/dist-packages (from mediapipe) (1.4.0)\n",
            "Requirement already satisfied: attrs>=19.1.0 in /usr/local/lib/python3.10/dist-packages (from mediapipe) (23.1.0)\n",
            "Requirement already satisfied: flatbuffers>=2.0 in /usr/local/lib/python3.10/dist-packages (from mediapipe) (23.5.26)\n",
            "Requirement already satisfied: matplotlib in /usr/local/lib/python3.10/dist-packages (from mediapipe) (3.7.1)\n",
            "Requirement already satisfied: numpy in /usr/local/lib/python3.10/dist-packages (from mediapipe) (1.23.5)\n",
            "Requirement already satisfied: opencv-contrib-python in /usr/local/lib/python3.10/dist-packages (from mediapipe) (4.8.0.76)\n",
            "Requirement already satisfied: protobuf<4,>=3.11 in /usr/local/lib/python3.10/dist-packages (from mediapipe) (3.20.3)\n",
            "Requirement already satisfied: sounddevice>=0.4.4 in /usr/local/lib/python3.10/dist-packages (from mediapipe) (0.4.6)\n",
            "Requirement already satisfied: CFFI>=1.0 in /usr/local/lib/python3.10/dist-packages (from sounddevice>=0.4.4->mediapipe) (1.16.0)\n",
            "Requirement already satisfied: contourpy>=1.0.1 in /usr/local/lib/python3.10/dist-packages (from matplotlib->mediapipe) (1.2.0)\n",
            "Requirement already satisfied: cycler>=0.10 in /usr/local/lib/python3.10/dist-packages (from matplotlib->mediapipe) (0.12.1)\n",
            "Requirement already satisfied: fonttools>=4.22.0 in /usr/local/lib/python3.10/dist-packages (from matplotlib->mediapipe) (4.45.1)\n",
            "Requirement already satisfied: kiwisolver>=1.0.1 in /usr/local/lib/python3.10/dist-packages (from matplotlib->mediapipe) (1.4.5)\n",
            "Requirement already satisfied: packaging>=20.0 in /usr/local/lib/python3.10/dist-packages (from matplotlib->mediapipe) (23.2)\n",
            "Requirement already satisfied: pillow>=6.2.0 in /usr/local/lib/python3.10/dist-packages (from matplotlib->mediapipe) (9.4.0)\n",
            "Requirement already satisfied: pyparsing>=2.3.1 in /usr/local/lib/python3.10/dist-packages (from matplotlib->mediapipe) (3.1.1)\n",
            "Requirement already satisfied: python-dateutil>=2.7 in /usr/local/lib/python3.10/dist-packages (from matplotlib->mediapipe) (2.8.2)\n",
            "Requirement already satisfied: pycparser in /usr/local/lib/python3.10/dist-packages (from CFFI>=1.0->sounddevice>=0.4.4->mediapipe) (2.21)\n",
            "Requirement already satisfied: six>=1.5 in /usr/local/lib/python3.10/dist-packages (from python-dateutil>=2.7->matplotlib->mediapipe) (1.16.0)\n"
          ]
        }
      ],
      "source": [
        "!pip install mediapipe"
      ]
    },
    {
      "cell_type": "markdown",
      "source": [
        "#Import Libraries"
      ],
      "metadata": {
        "id": "b27APJ9dDb81"
      }
    },
    {
      "cell_type": "code",
      "source": [
        "import pandas as pd\n",
        "import matplotlib.pyplot as plt\n",
        "import cv2\n",
        "import numpy as np\n",
        "import os\n",
        "import time\n",
        "import threading\n",
        "import openpyxl\n",
        "import mediapipe as mp\n",
        "from mediapipe.tasks import python\n",
        "from mediapipe.tasks.python import vision"
      ],
      "metadata": {
        "id": "5XWMC7dBwgeI"
      },
      "execution_count": 55,
      "outputs": []
    },
    {
      "cell_type": "markdown",
      "source": [
        "#Initialize mediapipe model"
      ],
      "metadata": {
        "id": "RVs-LtU4DgG2"
      }
    },
    {
      "cell_type": "code",
      "source": [
        "mp_pose = mp.solutions.pose\n",
        "mp_drawing = mp.solutions.drawing_utils\n",
        "pose = mp_pose.Pose(min_detection_confidence=0.2,\n",
        "                    min_tracking_confidence=0.5,\n",
        "                    static_image_mode=False,\n",
        "                    smooth_landmarks=True,\n",
        "                    model_complexity=1)"
      ],
      "metadata": {
        "id": "G55GViGjyBNl"
      },
      "execution_count": 65,
      "outputs": []
    },
    {
      "cell_type": "markdown",
      "source": [
        "##Set Directory Path"
      ],
      "metadata": {
        "id": "VH1g2EjbDkzo"
      }
    },
    {
      "cell_type": "code",
      "source": [
        "if not os.path.exists('Videos'):\n",
        "  os.mkdir('Videos')\n",
        "if not os.path.exists('Datasets'):\n",
        "  os.mkdir('Datasets')\n",
        "\n",
        "video_path = '/content/DSGP-Group28/Videos/PushUp.mp4'\n",
        "dataset_path = '/content/DSGP-Group28/Datasets/'"
      ],
      "metadata": {
        "id": "Wy8OKunA6p3-"
      },
      "execution_count": 74,
      "outputs": []
    },
    {
      "cell_type": "code",
      "source": [
        "frame_count = 0\n",
        "frame_numbers = []\n",
        "data_dict = {}\n",
        "desired_width = 480\n",
        "desired_height = 360"
      ],
      "metadata": {
        "id": "l6-yK1776W4m"
      },
      "execution_count": 75,
      "outputs": []
    },
    {
      "cell_type": "code",
      "source": [
        "cap = cv2.VideoCapture(video_path)"
      ],
      "metadata": {
        "id": "c23qJr3s7jBf"
      },
      "execution_count": 76,
      "outputs": []
    },
    {
      "cell_type": "markdown",
      "source": [
        "##Populate keypoints dictionary"
      ],
      "metadata": {
        "id": "jtIgnbuFDq0q"
      }
    },
    {
      "cell_type": "code",
      "source": [
        "for landmark in mp_pose.PoseLandmark:\n",
        "  x_list_name = f\"{landmark.name}_Point_x\"\n",
        "  y_list_name = f\"{landmark.name}_Point_y\"\n",
        "  z_list_name = f\"{landmark.name}_Point_z\"\n",
        "  data_dict[x_list_name] = []\n",
        "  data_dict[y_list_name] = []\n",
        "  data_dict[z_list_name] = []"
      ],
      "metadata": {
        "id": "kAjW-bCr8Sc-"
      },
      "execution_count": 77,
      "outputs": []
    },
    {
      "cell_type": "markdown",
      "source": [
        "##Process Frames"
      ],
      "metadata": {
        "id": "VGgwdQBZDx6f"
      }
    },
    {
      "cell_type": "code",
      "source": [
        "while cap.isOpened():\n",
        "  success, image = cap.read()\n",
        "  if not success:\n",
        "    break\n",
        "\n",
        "  # Increment frame_count\n",
        "  frame_count += 1\n",
        "  print(f'Processing frame {frame_count}')\n",
        "\n",
        "  # Resize the frame to the desired width and height\n",
        "  image = cv2.resize(image, (desired_width, desired_height))\n",
        "\n",
        "  # Convert the image from BGR to RGB\n",
        "  image_rgb = cv2.cvtColor(image, cv2.COLOR_BGR2RGB)\n",
        "\n",
        "  results = pose.process(image_rgb)\n",
        "\n",
        "  if results.pose_landmarks:\n",
        "\n",
        "    frame_numbers.append(frame_count)\n",
        "\n",
        "    for landmark in mp_pose.PoseLandmark:\n",
        "      x_list_name = f\"{landmark.name}_Point_x\"\n",
        "      y_list_name = f\"{landmark.name}_Point_y\"\n",
        "      z_list_name = f\"{landmark.name}_Point_z\"\n",
        "\n",
        "      data_dict[x_list_name].append(results.pose_landmarks.landmark[landmark].x)\n",
        "      data_dict[y_list_name].append(results.pose_landmarks.landmark[landmark].y)\n",
        "      data_dict[z_list_name].append(results.pose_landmarks.landmark[landmark].z)\n",
        "\n",
        "  if cv2.waitKey(1) & 0xFF == ord('q'):\n",
        "    break"
      ],
      "metadata": {
        "colab": {
          "base_uri": "https://localhost:8080/"
        },
        "id": "5IsIdd406xtX",
        "outputId": "c4198f2b-5a52-4fc5-dcd4-088169ac1547"
      },
      "execution_count": 78,
      "outputs": [
        {
          "output_type": "stream",
          "name": "stdout",
          "text": [
            "Processing frame 1\n",
            "Processing frame 2\n",
            "Processing frame 3\n",
            "Processing frame 4\n",
            "Processing frame 5\n",
            "Processing frame 6\n",
            "Processing frame 7\n",
            "Processing frame 8\n",
            "Processing frame 9\n",
            "Processing frame 10\n",
            "Processing frame 11\n",
            "Processing frame 12\n",
            "Processing frame 13\n",
            "Processing frame 14\n",
            "Processing frame 15\n",
            "Processing frame 16\n",
            "Processing frame 17\n",
            "Processing frame 18\n",
            "Processing frame 19\n",
            "Processing frame 20\n",
            "Processing frame 21\n",
            "Processing frame 22\n",
            "Processing frame 23\n",
            "Processing frame 24\n",
            "Processing frame 25\n",
            "Processing frame 26\n",
            "Processing frame 27\n",
            "Processing frame 28\n",
            "Processing frame 29\n",
            "Processing frame 30\n",
            "Processing frame 31\n",
            "Processing frame 32\n",
            "Processing frame 33\n",
            "Processing frame 34\n",
            "Processing frame 35\n",
            "Processing frame 36\n",
            "Processing frame 37\n",
            "Processing frame 38\n",
            "Processing frame 39\n",
            "Processing frame 40\n",
            "Processing frame 41\n",
            "Processing frame 42\n",
            "Processing frame 43\n",
            "Processing frame 44\n",
            "Processing frame 45\n",
            "Processing frame 46\n",
            "Processing frame 47\n",
            "Processing frame 48\n",
            "Processing frame 49\n",
            "Processing frame 50\n",
            "Processing frame 51\n",
            "Processing frame 52\n",
            "Processing frame 53\n",
            "Processing frame 54\n",
            "Processing frame 55\n",
            "Processing frame 56\n",
            "Processing frame 57\n",
            "Processing frame 58\n",
            "Processing frame 59\n",
            "Processing frame 60\n",
            "Processing frame 61\n",
            "Processing frame 62\n",
            "Processing frame 63\n",
            "Processing frame 64\n",
            "Processing frame 65\n",
            "Processing frame 66\n",
            "Processing frame 67\n",
            "Processing frame 68\n",
            "Processing frame 69\n",
            "Processing frame 70\n",
            "Processing frame 71\n",
            "Processing frame 72\n",
            "Processing frame 73\n",
            "Processing frame 74\n",
            "Processing frame 75\n",
            "Processing frame 76\n",
            "Processing frame 77\n",
            "Processing frame 78\n",
            "Processing frame 79\n",
            "Processing frame 80\n",
            "Processing frame 81\n",
            "Processing frame 82\n",
            "Processing frame 83\n",
            "Processing frame 84\n",
            "Processing frame 85\n",
            "Processing frame 86\n",
            "Processing frame 87\n",
            "Processing frame 88\n",
            "Processing frame 89\n",
            "Processing frame 90\n",
            "Processing frame 91\n",
            "Processing frame 92\n",
            "Processing frame 93\n",
            "Processing frame 94\n",
            "Processing frame 95\n",
            "Processing frame 96\n",
            "Processing frame 97\n",
            "Processing frame 98\n",
            "Processing frame 99\n",
            "Processing frame 100\n",
            "Processing frame 101\n",
            "Processing frame 102\n",
            "Processing frame 103\n",
            "Processing frame 104\n",
            "Processing frame 105\n",
            "Processing frame 106\n",
            "Processing frame 107\n",
            "Processing frame 108\n",
            "Processing frame 109\n",
            "Processing frame 110\n",
            "Processing frame 111\n",
            "Processing frame 112\n",
            "Processing frame 113\n",
            "Processing frame 114\n",
            "Processing frame 115\n",
            "Processing frame 116\n",
            "Processing frame 117\n",
            "Processing frame 118\n",
            "Processing frame 119\n",
            "Processing frame 120\n",
            "Processing frame 121\n",
            "Processing frame 122\n",
            "Processing frame 123\n",
            "Processing frame 124\n",
            "Processing frame 125\n",
            "Processing frame 126\n",
            "Processing frame 127\n",
            "Processing frame 128\n",
            "Processing frame 129\n",
            "Processing frame 130\n",
            "Processing frame 131\n",
            "Processing frame 132\n",
            "Processing frame 133\n",
            "Processing frame 134\n",
            "Processing frame 135\n",
            "Processing frame 136\n",
            "Processing frame 137\n",
            "Processing frame 138\n",
            "Processing frame 139\n",
            "Processing frame 140\n",
            "Processing frame 141\n",
            "Processing frame 142\n",
            "Processing frame 143\n",
            "Processing frame 144\n",
            "Processing frame 145\n",
            "Processing frame 146\n",
            "Processing frame 147\n",
            "Processing frame 148\n",
            "Processing frame 149\n",
            "Processing frame 150\n",
            "Processing frame 151\n",
            "Processing frame 152\n",
            "Processing frame 153\n",
            "Processing frame 154\n",
            "Processing frame 155\n",
            "Processing frame 156\n",
            "Processing frame 157\n",
            "Processing frame 158\n",
            "Processing frame 159\n",
            "Processing frame 160\n",
            "Processing frame 161\n",
            "Processing frame 162\n",
            "Processing frame 163\n",
            "Processing frame 164\n",
            "Processing frame 165\n",
            "Processing frame 166\n",
            "Processing frame 167\n",
            "Processing frame 168\n",
            "Processing frame 169\n",
            "Processing frame 170\n",
            "Processing frame 171\n",
            "Processing frame 172\n",
            "Processing frame 173\n",
            "Processing frame 174\n",
            "Processing frame 175\n",
            "Processing frame 176\n",
            "Processing frame 177\n",
            "Processing frame 178\n",
            "Processing frame 179\n",
            "Processing frame 180\n",
            "Processing frame 181\n",
            "Processing frame 182\n",
            "Processing frame 183\n",
            "Processing frame 184\n",
            "Processing frame 185\n",
            "Processing frame 186\n",
            "Processing frame 187\n",
            "Processing frame 188\n",
            "Processing frame 189\n",
            "Processing frame 190\n",
            "Processing frame 191\n",
            "Processing frame 192\n",
            "Processing frame 193\n",
            "Processing frame 194\n",
            "Processing frame 195\n",
            "Processing frame 196\n",
            "Processing frame 197\n",
            "Processing frame 198\n",
            "Processing frame 199\n",
            "Processing frame 200\n",
            "Processing frame 201\n",
            "Processing frame 202\n",
            "Processing frame 203\n",
            "Processing frame 204\n",
            "Processing frame 205\n",
            "Processing frame 206\n",
            "Processing frame 207\n",
            "Processing frame 208\n",
            "Processing frame 209\n",
            "Processing frame 210\n",
            "Processing frame 211\n",
            "Processing frame 212\n",
            "Processing frame 213\n",
            "Processing frame 214\n",
            "Processing frame 215\n",
            "Processing frame 216\n",
            "Processing frame 217\n",
            "Processing frame 218\n",
            "Processing frame 219\n",
            "Processing frame 220\n",
            "Processing frame 221\n",
            "Processing frame 222\n",
            "Processing frame 223\n",
            "Processing frame 224\n",
            "Processing frame 225\n",
            "Processing frame 226\n",
            "Processing frame 227\n",
            "Processing frame 228\n",
            "Processing frame 229\n",
            "Processing frame 230\n",
            "Processing frame 231\n",
            "Processing frame 232\n",
            "Processing frame 233\n",
            "Processing frame 234\n",
            "Processing frame 235\n",
            "Processing frame 236\n",
            "Processing frame 237\n",
            "Processing frame 238\n",
            "Processing frame 239\n",
            "Processing frame 240\n",
            "Processing frame 241\n",
            "Processing frame 242\n",
            "Processing frame 243\n",
            "Processing frame 244\n",
            "Processing frame 245\n",
            "Processing frame 246\n",
            "Processing frame 247\n",
            "Processing frame 248\n",
            "Processing frame 249\n",
            "Processing frame 250\n",
            "Processing frame 251\n",
            "Processing frame 252\n",
            "Processing frame 253\n",
            "Processing frame 254\n",
            "Processing frame 255\n",
            "Processing frame 256\n",
            "Processing frame 257\n",
            "Processing frame 258\n",
            "Processing frame 259\n",
            "Processing frame 260\n",
            "Processing frame 261\n",
            "Processing frame 262\n",
            "Processing frame 263\n",
            "Processing frame 264\n",
            "Processing frame 265\n",
            "Processing frame 266\n",
            "Processing frame 267\n",
            "Processing frame 268\n",
            "Processing frame 269\n",
            "Processing frame 270\n",
            "Processing frame 271\n",
            "Processing frame 272\n",
            "Processing frame 273\n",
            "Processing frame 274\n",
            "Processing frame 275\n",
            "Processing frame 276\n",
            "Processing frame 277\n",
            "Processing frame 278\n",
            "Processing frame 279\n",
            "Processing frame 280\n",
            "Processing frame 281\n",
            "Processing frame 282\n",
            "Processing frame 283\n",
            "Processing frame 284\n",
            "Processing frame 285\n",
            "Processing frame 286\n",
            "Processing frame 287\n",
            "Processing frame 288\n",
            "Processing frame 289\n",
            "Processing frame 290\n",
            "Processing frame 291\n",
            "Processing frame 292\n",
            "Processing frame 293\n",
            "Processing frame 294\n",
            "Processing frame 295\n",
            "Processing frame 296\n",
            "Processing frame 297\n",
            "Processing frame 298\n",
            "Processing frame 299\n",
            "Processing frame 300\n",
            "Processing frame 301\n"
          ]
        }
      ]
    },
    {
      "cell_type": "markdown",
      "source": [
        "## Save Key points to File"
      ],
      "metadata": {
        "id": "V9XU2EkrD2lm"
      }
    },
    {
      "cell_type": "code",
      "source": [
        "# Creating a DataFrame from the dictionary\n",
        "df = pd.DataFrame(data_dict)\n",
        "\n",
        "# Adding a column for the frame number\n",
        "df.insert(0, 'Frame_Number', frame_numbers)\n",
        "\n",
        "# Writing the DataFrame to an Excel file\n",
        "file_name = 'pose_landmark_data_' + video_path.split('/')[-1] + '.xlsx'\n",
        "\n",
        "df.to_excel(dataset_path + '/' + file_name, index=False)\n",
        "\n",
        "print(f\"Data saved to {file_name}\")"
      ],
      "metadata": {
        "colab": {
          "base_uri": "https://localhost:8080/"
        },
        "id": "osvCJLR89TaH",
        "outputId": "86ce5994-c97f-4a23-d214-9e63a0d74013"
      },
      "execution_count": 79,
      "outputs": [
        {
          "output_type": "stream",
          "name": "stdout",
          "text": [
            "Data saved to pose_landmark_data_PushUp.mp4.xlsx\n"
          ]
        }
      ]
    },
    {
      "cell_type": "markdown",
      "source": [
        "## Reading Key points from File"
      ],
      "metadata": {
        "id": "t5j3-f5ID6SG"
      }
    },
    {
      "cell_type": "code",
      "source": [
        "df_excel = pd.read_excel('/content/DSGP-Group28/Datasets/pose_landmark_data_PushUp.mp4.xlsx')"
      ],
      "metadata": {
        "id": "bCR5OVGyAtYR"
      },
      "execution_count": 83,
      "outputs": []
    }
  ]
}