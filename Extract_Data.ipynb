{
 "nbformat": 4,
 "nbformat_minor": 0,
 "metadata": {
  "colab": {
   "provenance": [],
   "authorship_tag": "ABX9TyNTJdN48xYdlQcu9ATT9Vga",
   "include_colab_link": true
  },
  "kernelspec": {
   "name": "python3",
   "language": "python",
   "display_name": "Python 3 (ipykernel)"
  },
  "language_info": {
   "name": "python"
  }
 },
 "cells": [
  {
   "cell_type": "markdown",
   "metadata": {
    "id": "view-in-github",
    "colab_type": "text"
   },
   "source": [
    "<a href=\"https://colab.research.google.com/github/Aadhil21/DSGP-Group28/blob/branch-Aadhil/Extract_Data.ipynb\" target=\"_parent\"><img src=\"https://colab.research.google.com/assets/colab-badge.svg\" alt=\"Open In Colab\"/></a>"
   ]
  },
  {
   "cell_type": "markdown",
   "source": [
    "#Import Libraries"
   ],
   "metadata": {
    "id": "b27APJ9dDb81"
   }
  },
  {
   "cell_type": "code",
   "outputs": [],
   "source": [
    "import pandas as pd\n",
    "import cv2\n",
    "import os\n",
    "import mediapipe as mp"
   ],
   "metadata": {
    "collapsed": false,
    "ExecuteTime": {
     "end_time": "2023-12-27T06:22:35.543977400Z",
     "start_time": "2023-12-27T06:22:35.418997700Z"
    }
   },
   "execution_count": 18
  },
  {
   "cell_type": "markdown",
   "source": [
    "#Initialize mediapipe model"
   ],
   "metadata": {
    "id": "RVs-LtU4DgG2"
   }
  },
  {
   "cell_type": "code",
   "source": [
    "mp_pose = mp.solutions.pose\n",
    "mp_drawing = mp.solutions.drawing_utils\n",
    "pose = mp_pose.Pose(min_detection_confidence=0.6,\n",
    "                    min_tracking_confidence=0.6,\n",
    "                    static_image_mode=False,\n",
    "                    smooth_landmarks=True,\n",
    "                    model_complexity=2)"
   ],
   "metadata": {
    "id": "G55GViGjyBNl",
    "ExecuteTime": {
     "end_time": "2023-12-27T06:22:35.749800Z",
     "start_time": "2023-12-27T06:22:35.615740300Z"
    }
   },
   "execution_count": 19,
   "outputs": []
  },
  {
   "cell_type": "markdown",
   "source": [],
   "metadata": {
    "collapsed": false
   }
  },
  {
   "cell_type": "markdown",
   "source": [
    "##Set Directory Path"
   ],
   "metadata": {
    "id": "VH1g2EjbDkzo"
   }
  },
  {
   "cell_type": "code",
   "source": [
    "if not os.path.exists('Videos'):\n",
    "    os.mkdir('Videos')\n",
    "if not os.path.exists('Datasets'):\n",
    "    os.mkdir('Datasets')\n",
    "\n",
    "video_name = 'PushUp.mp4'\n",
    "video_path = 'Videos/' + video_name\n",
    "dataset_path = 'Datasets/'"
   ],
   "metadata": {
    "id": "Wy8OKunA6p3-",
    "ExecuteTime": {
     "end_time": "2023-12-27T06:22:35.796471100Z",
     "start_time": "2023-12-27T06:22:35.686986400Z"
    }
   },
   "execution_count": 20,
   "outputs": []
  },
  {
   "cell_type": "code",
   "source": [
    "frame_count = 0\n",
    "frame_numbers = []\n",
    "data_dict = {}\n",
    "desired_width = 480\n",
    "desired_height = 360"
   ],
   "metadata": {
    "id": "l6-yK1776W4m",
    "ExecuteTime": {
     "end_time": "2023-12-27T06:22:35.858765400Z",
     "start_time": "2023-12-27T06:22:35.761060500Z"
    }
   },
   "execution_count": 21,
   "outputs": []
  },
  {
   "cell_type": "code",
   "source": [
    "cap = cv2.VideoCapture(video_path)"
   ],
   "metadata": {
    "id": "c23qJr3s7jBf",
    "ExecuteTime": {
     "end_time": "2023-12-27T06:22:35.984269500Z",
     "start_time": "2023-12-27T06:22:35.843131Z"
    }
   },
   "execution_count": 22,
   "outputs": []
  },
  {
   "cell_type": "markdown",
   "source": [
    "##Populate keypoints dictionary"
   ],
   "metadata": {
    "id": "jtIgnbuFDq0q"
   }
  },
  {
   "cell_type": "code",
   "source": [
    "for landmark in mp_pose.PoseLandmark:\n",
    "    x_list_name = f\"{landmark.name}_Point_x\"\n",
    "    y_list_name = f\"{landmark.name}_Point_y\"\n",
    "    z_list_name = f\"{landmark.name}_Point_z\"\n",
    "    visibility_list_name = f\"{landmark.name}_visibility\"\n",
    "\n",
    "    data_dict[x_list_name] = []\n",
    "    data_dict[y_list_name] = []\n",
    "    data_dict[z_list_name] = []\n",
    "    data_dict[visibility_list_name] = []"
   ],
   "metadata": {
    "id": "kAjW-bCr8Sc-",
    "ExecuteTime": {
     "end_time": "2023-12-27T06:22:36.024222700Z",
     "start_time": "2023-12-27T06:22:35.958997Z"
    }
   },
   "execution_count": 23,
   "outputs": []
  },
  {
   "cell_type": "markdown",
   "source": [
    "##Process Frames"
   ],
   "metadata": {
    "id": "VGgwdQBZDx6f"
   }
  },
  {
   "cell_type": "code",
   "source": [
    "while cap.isOpened():\n",
    "    success, image = cap.read()\n",
    "    if not success:\n",
    "        break\n",
    "\n",
    "    # Increment frame_count\n",
    "    frame_count += 1\n",
    "    print(f'Processing frame {frame_count}')\n",
    "\n",
    "    # Resize the frame to the desired width and height\n",
    "    image = cv2.resize(image, (desired_width, desired_height))\n",
    "\n",
    "    # Convert the image from BGR to RGB\n",
    "    image_rgb = cv2.cvtColor(image, cv2.COLOR_BGR2RGB)\n",
    "\n",
    "    results = pose.process(image_rgb)\n",
    "\n",
    "    if results.pose_landmarks:\n",
    "\n",
    "        frame_numbers.append(frame_count)\n",
    "\n",
    "        for landmark in mp_pose.PoseLandmark:\n",
    "            x_list_name = f\"{landmark.name}_Point_x\"\n",
    "            y_list_name = f\"{landmark.name}_Point_y\"\n",
    "            z_list_name = f\"{landmark.name}_Point_z\"\n",
    "            visibility_list_name = f\"{landmark.name}_visibility\"\n",
    "\n",
    "            data_dict[x_list_name].append(results.pose_landmarks.landmark[landmark].x)\n",
    "            data_dict[y_list_name].append(results.pose_landmarks.landmark[landmark].y)\n",
    "            data_dict[z_list_name].append(results.pose_landmarks.landmark[landmark].z)\n",
    "            data_dict[visibility_list_name].append(results.pose_landmarks.landmark[landmark].visibility)\n",
    "\n",
    "    if cv2.waitKey(1) & 0xFF == ord('q'):\n",
    "        break"
   ],
   "metadata": {
    "id": "5IsIdd406xtX",
    "ExecuteTime": {
     "end_time": "2023-12-27T06:22:45.637828700Z",
     "start_time": "2023-12-27T06:22:45.318586800Z"
    }
   },
   "execution_count": 25,
   "outputs": [
    {
     "name": "stdout",
     "output_type": "stream",
     "text": [
      "Processing frame 2\n"
     ]
    },
    {
     "name": "stderr",
     "output_type": "stream",
     "text": [
      "C:\\Python311\\Lib\\site-packages\\google\\protobuf\\symbol_database.py:55: UserWarning: SymbolDatabase.GetPrototype() is deprecated. Please use message_factory.GetMessageClass() instead. SymbolDatabase.GetPrototype() will be removed soon.\n",
      "  warnings.warn('SymbolDatabase.GetPrototype() is deprecated. Please '\n"
     ]
    },
    {
     "ename": "AttributeError",
     "evalue": "confidence",
     "output_type": "error",
     "traceback": [
      "\u001B[1;31m---------------------------------------------------------------------------\u001B[0m",
      "\u001B[1;31mAttributeError\u001B[0m                            Traceback (most recent call last)",
      "Cell \u001B[1;32mIn[25], line 33\u001B[0m\n\u001B[0;32m     31\u001B[0m         data_dict[z_list_name]\u001B[38;5;241m.\u001B[39mappend(results\u001B[38;5;241m.\u001B[39mpose_landmarks\u001B[38;5;241m.\u001B[39mlandmark[landmark]\u001B[38;5;241m.\u001B[39mz)\n\u001B[0;32m     32\u001B[0m         data_dict[visibility_list_name]\u001B[38;5;241m.\u001B[39mappend(results\u001B[38;5;241m.\u001B[39mpose_landmarks\u001B[38;5;241m.\u001B[39mlandmark[landmark]\u001B[38;5;241m.\u001B[39mvisibility)\n\u001B[1;32m---> 33\u001B[0m         data_dict[visibility_list_name]\u001B[38;5;241m.\u001B[39mappend(\u001B[43mresults\u001B[49m\u001B[38;5;241;43m.\u001B[39;49m\u001B[43mpose_landmarks\u001B[49m\u001B[38;5;241;43m.\u001B[39;49m\u001B[43mlandmark\u001B[49m\u001B[43m[\u001B[49m\u001B[43mlandmark\u001B[49m\u001B[43m]\u001B[49m\u001B[38;5;241;43m.\u001B[39;49m\u001B[43mconfidence\u001B[49m)\n\u001B[0;32m     35\u001B[0m \u001B[38;5;28;01mif\u001B[39;00m cv2\u001B[38;5;241m.\u001B[39mwaitKey(\u001B[38;5;241m1\u001B[39m) \u001B[38;5;241m&\u001B[39m \u001B[38;5;241m0xFF\u001B[39m \u001B[38;5;241m==\u001B[39m \u001B[38;5;28mord\u001B[39m(\u001B[38;5;124m'\u001B[39m\u001B[38;5;124mq\u001B[39m\u001B[38;5;124m'\u001B[39m):\n\u001B[0;32m     36\u001B[0m     \u001B[38;5;28;01mbreak\u001B[39;00m\n",
      "\u001B[1;31mAttributeError\u001B[0m: confidence"
     ]
    }
   ]
  },
  {
   "cell_type": "markdown",
   "source": [
    "## Save Key points to File"
   ],
   "metadata": {
    "id": "V9XU2EkrD2lm"
   }
  },
  {
   "cell_type": "code",
   "outputs": [],
   "source": [
    "# Creating a DataFrame from the dictionary\n",
    "df = pd.DataFrame(data_dict)\n",
    "\n",
    "# Adding a column for the frame number\n",
    "df.insert(0, 'Frame_Number', frame_numbers)\n",
    "\n",
    "# Writing the DataFrame to an Excel file\n",
    "file_name = 'pose_landmark_data_' + video_name.split('.')[0] + '.xlsx'\n",
    "\n",
    "df.to_excel(dataset_path + '/' + file_name, index=False)\n",
    "\n",
    "print(f\"Data saved to {file_name}\")"
   ],
   "metadata": {
    "collapsed": false,
    "ExecuteTime": {
     "start_time": "2023-12-27T06:22:37.099197100Z"
    }
   },
   "execution_count": null
  },
  {
   "cell_type": "markdown",
   "source": [
    "## Reading Key points from File"
   ],
   "metadata": {
    "id": "t5j3-f5ID6SG"
   }
  },
  {
   "cell_type": "code",
   "source": [
    "df_excel = pd.read_excel('Datasets/' + file_name)\n",
    "df_excel"
   ],
   "metadata": {
    "id": "bCR5OVGyAtYR",
    "outputId": "a688331b-d2ea-46ee-b714-17def8be9665",
    "colab": {
     "base_uri": "https://localhost:8080/",
     "height": 443
    },
    "ExecuteTime": {
     "start_time": "2023-12-27T06:22:37.105838800Z"
    }
   },
   "execution_count": null,
   "outputs": []
  },
  {
   "cell_type": "code",
   "outputs": [],
   "source": [],
   "metadata": {
    "collapsed": false,
    "ExecuteTime": {
     "start_time": "2023-12-27T06:22:37.113490900Z"
    }
   },
   "execution_count": null
  }
 ]
}
