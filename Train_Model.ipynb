{
 "cells": [
  {
   "cell_type": "code",
   "outputs": [],
   "source": [
    "import pandas as pd\n",
    "import matplotlib.pyplot as plt"
   ],
   "metadata": {
    "collapsed": false,
    "ExecuteTime": {
     "end_time": "2024-02-18T11:22:04.820515300Z",
     "start_time": "2024-02-18T11:22:04.610012Z"
    }
   },
   "id": "7028c2c3a27526",
   "execution_count": 6
  },
  {
   "cell_type": "code",
   "execution_count": 7,
   "id": "initial_id",
   "metadata": {
    "collapsed": true,
    "ExecuteTime": {
     "end_time": "2024-02-18T11:22:05.145941400Z",
     "start_time": "2024-02-18T11:22:04.831185400Z"
    }
   },
   "outputs": [],
   "source": [
    "df = pd.read_excel('Datasets/angles_data_WPushUp.xlsx')\n",
    "df2 = pd.read_excel('Datasets/angles_data_PushUp2.xlsx')"
   ]
  },
  {
   "cell_type": "markdown",
   "source": [
    "# Train model"
   ],
   "metadata": {
    "collapsed": false
   },
   "id": "6124cae69cdd5bfa"
  },
  {
   "cell_type": "code",
   "outputs": [
    {
     "name": "stdout",
     "output_type": "stream",
     "text": [
      "Accuracy: 97.56%\n",
      "Classification Report:\n",
      "              precision    recall  f1-score   support\n",
      "\n",
      "           0       1.00      0.94      0.97        51\n",
      "           1       0.96      1.00      0.98        72\n",
      "\n",
      "    accuracy                           0.98       123\n",
      "   macro avg       0.98      0.97      0.97       123\n",
      "weighted avg       0.98      0.98      0.98       123\n"
     ]
    }
   ],
   "source": [
    "import pandas as pd\n",
    "import matplotlib.pyplot as plt\n",
    "from sklearn.model_selection import train_test_split\n",
    "from sklearn.neighbors import KNeighborsClassifier\n",
    "from sklearn.metrics import accuracy_score, classification_report\n",
    "\n",
    "# Load the dataset\n",
    "file_path = 'Datasets/label.xlsx'\n",
    "df = pd.read_excel(file_path)\n",
    "\n",
    "# Assuming 'Label' is the column indicating whether it's a \"PushUp\" or not\n",
    "X = df.drop(['Label','Frame_Number'], axis=1)  # Features\n",
    "y = df['Label']  # Labels\n",
    "\n",
    "# Split the dataset into training and testing sets\n",
    "X_train, X_test, y_train, y_test = train_test_split(X, y, test_size=0.2, random_state=42)\n",
    "\n",
    "# Initialize the KNN classifier\n",
    "knn = KNeighborsClassifier(n_neighbors=3)\n",
    "\n",
    "# Train the model\n",
    "knn.fit(X_train, y_train)\n",
    "\n",
    "# Make predictions on the test set\n",
    "y_pred = knn.predict(X_test)\n",
    "\n",
    "# Evaluate the model\n",
    "accuracy = accuracy_score(y_test, y_pred)\n",
    "print(f\"Accuracy: {accuracy:.2%}\")\n",
    "\n",
    "# Display classification report\n",
    "print(\"Classification Report:\")\n",
    "print(classification_report(y_test, y_pred))"
   ],
   "metadata": {
    "collapsed": false,
    "ExecuteTime": {
     "end_time": "2024-02-18T11:22:05.459326300Z",
     "start_time": "2024-02-18T11:22:05.138139100Z"
    }
   },
   "id": "e8eba6b5575917e2",
   "execution_count": 8
  },
  {
   "cell_type": "markdown",
   "source": [
    "# Test model accuracy"
   ],
   "metadata": {
    "collapsed": false
   },
   "id": "b68f9b5f48ac0702"
  },
  {
   "cell_type": "code",
   "outputs": [
    {
     "name": "stdout",
     "output_type": "stream",
     "text": [
      "Unique Predicted Labels: [0 1]\n",
      "Accuracy: 99.19%\n",
      "Classification Report:\n",
      "              precision    recall  f1-score   support\n",
      "\n",
      "           0       1.00      0.98      0.99       227\n",
      "           1       0.99      1.00      0.99       387\n",
      "\n",
      "    accuracy                           0.99       614\n",
      "   macro avg       0.99      0.99      0.99       614\n",
      "weighted avg       0.99      0.99      0.99       614\n"
     ]
    }
   ],
   "source": [
    "import pandas as pd\n",
    "import matplotlib.pyplot as plt\n",
    "from sklearn.neighbors import KNeighborsClassifier\n",
    "\n",
    "# Load the new dataset with unlabeled data\n",
    "file_path_new = 'Datasets/label.xlsx'\n",
    "df_new = pd.read_excel(file_path_new)\n",
    "\n",
    "# Assuming 'Label' is the column indicating whether it's a \"PushUp\" or not in the original labeled dataset\n",
    "X_new = df_new.drop(['Label','Frame_Number'], axis=1)   # Features\n",
    "\n",
    "# Use the trained KNN model to predict labels for the new dataset\n",
    "y_pred_new = knn.predict(X_new)\n",
    "\n",
    "# Check unique values in predicted labels\n",
    "unique_labels = pd.Series(y_pred_new).unique()\n",
    "print(\"Unique Predicted Labels:\", unique_labels)\n",
    "\n",
    "accuracy = accuracy_score(df_new['Label'], y_pred_new)\n",
    "print(f\"Accuracy: {accuracy:.2%}\")\n",
    "\n",
    "# Display classification report\n",
    "print(\"Classification Report:\")\n",
    "print(classification_report(df_new['Label'], y_pred_new))"
   ],
   "metadata": {
    "collapsed": false,
    "ExecuteTime": {
     "end_time": "2024-02-18T11:22:06.949886Z",
     "start_time": "2024-02-18T11:22:05.457028100Z"
    }
   },
   "id": "5b063021bc7f12ce",
   "execution_count": 9
  },
  {
   "cell_type": "markdown",
   "source": [
    "# Save Model"
   ],
   "metadata": {
    "collapsed": false
   },
   "id": "6c6d5f052e14a7d1"
  },
  {
   "cell_type": "code",
   "outputs": [
    {
     "name": "stdout",
     "output_type": "stream",
     "text": [
      "Model saved as Model/model.pkl\n"
     ]
    }
   ],
   "source": [
    "import pickle\n",
    "\n",
    "# Save the trained model to a file\n",
    "model_filename = 'Model/model.pkl'\n",
    "\n",
    "with open(model_filename, 'wb') as model_file:\n",
    "    pickle.dump(knn, model_file)\n",
    "\n",
    "print(f\"Model saved as {model_filename}\")\n"
   ],
   "metadata": {
    "collapsed": false,
    "ExecuteTime": {
     "end_time": "2024-02-18T11:22:06.951130300Z",
     "start_time": "2024-02-18T11:22:06.908652300Z"
    }
   },
   "id": "d16eb01fb1c3b12f",
   "execution_count": 10
  },
  {
   "cell_type": "code",
   "outputs": [],
   "source": [],
   "metadata": {
    "collapsed": false,
    "ExecuteTime": {
     "end_time": "2024-02-18T11:22:07.032437700Z",
     "start_time": "2024-02-18T11:22:06.944220500Z"
    }
   },
   "id": "dedbe6c370a1f96a",
   "execution_count": 10
  }
 ],
 "metadata": {
  "kernelspec": {
   "display_name": "Python 3",
   "language": "python",
   "name": "python3"
  },
  "language_info": {
   "codemirror_mode": {
    "name": "ipython",
    "version": 2
   },
   "file_extension": ".py",
   "mimetype": "text/x-python",
   "name": "python",
   "nbconvert_exporter": "python",
   "pygments_lexer": "ipython2",
   "version": "2.7.6"
  }
 },
 "nbformat": 4,
 "nbformat_minor": 5
}
