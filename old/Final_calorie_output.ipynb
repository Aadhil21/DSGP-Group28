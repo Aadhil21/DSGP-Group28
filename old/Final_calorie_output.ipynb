{
 "cells": [
  {
   "cell_type": "code",
   "execution_count": 7,
   "id": "54ac9906-d38a-4e35-bedf-834b3678b591",
   "metadata": {},
   "outputs": [],
   "source": [
    "import joblib"
   ]
  },
  {
   "cell_type": "code",
   "execution_count": 41,
   "id": "785d0f62-2aa2-4bee-aa6c-aa30d2ed412c",
   "metadata": {},
   "outputs": [
    {
     "name": "stdin",
     "output_type": "stream",
     "text": [
      "Enter age:  45\n",
      "Enter gender(M/F):  F\n",
      "Enter weight(kg):  55\n",
      "Enter height(m):  1.7\n"
     ]
    },
    {
     "name": "stdout",
     "output_type": "stream",
     "text": [
      "user age : 45\n",
      "user weigth : 55.0\n",
      "user height : 1.7\n",
      "user gender : F\n",
      "user BMI : 19.031141868512112\n",
      "user BMR : 1184.425\n"
     ]
    }
   ],
   "source": [
    "user_age = int(input(\"Enter age: \"))\n",
    "user_gender = input(\"Enter gender(M/F): \")\n",
    "user_weight = float(input(\"Enter weight(kg): \"))\n",
    "user_height = float(input(\"Enter height(m): \"))\n",
    "\n",
    "BMI = (user_weight/user_height**2)\n",
    "\n",
    "if user_gender == \"M\":\n",
    "#        user_gender = 1\n",
    "        user_BMR = (10 * user_weight) + (600.25 * user_height) - (5 * user_age) + 5\n",
    "elif user_gender == \"F\":\n",
    "#        user_gender = 0\n",
    "        user_BMR = (10 * user_weight) + (600.25 * user_height) - (5 * user_age) - 161\n",
    "\n",
    "    \n",
    "print(\"user age :\",user_age)\n",
    "print(\"user weigth :\",user_weight)\n",
    "print(\"user height :\",user_height)\n",
    "print(\"user gender :\",user_gender)\n",
    "print(\"user BMI :\",BMI)\n",
    "print(\"user BMR :\",user_BMR)\n"
   ]
  },
  {
   "cell_type": "code",
   "execution_count": 42,
   "id": "fee09625-6705-4a23-8d5e-5b17258062b3",
   "metadata": {},
   "outputs": [
    {
     "name": "stdout",
     "output_type": "stream",
     "text": [
      "Predicted Value: 1897.2456\n"
     ]
    }
   ],
   "source": [
    "\n",
    "# Load the best model from the saved file\n",
    "loaded_model = joblib.load('best_model.pkl')\n",
    "\n",
    "# Example user input (replace with actual user input)\n",
    "user_input = [[user_age,user_weight,user_height,BMI,user_BMR]]  # List of features for the user input\n",
    "\n",
    "# Make predictions on the user input using the loaded model\n",
    "user_pred = loaded_model.predict(user_input)\n",
    "\n",
    "# Display the predicted value\n",
    "print(\"Predicted Value:\", user_pred[0])"
   ]
  },
  {
   "cell_type": "code",
   "execution_count": 43,
   "id": "b7409540-76e8-429d-9c29-20e605e099a3",
   "metadata": {},
   "outputs": [
    {
     "name": "stdout",
     "output_type": "stream",
     "text": [
      "[[1900.]]\n"
     ]
    }
   ],
   "source": [
    "import numpy as np\n",
    "\n",
    "# Assuming your value is a NumPy array (replace it with your actual array)\n",
    "your_array = np.array([user_pred])\n",
    "\n",
    "# Round to the nearest 50 using numpy.round\n",
    "rounded_array = np.round(your_array / 50) * 50\n",
    "\n",
    "print(rounded_array)\n"
   ]
  },
  {
   "cell_type": "code",
   "execution_count": 44,
   "id": "8bf6fa14-0118-4cc2-927a-af38897393cd",
   "metadata": {},
   "outputs": [
    {
     "name": "stdout",
     "output_type": "stream",
     "text": [
      "Foods and Servings to achieve [[1900.]] calories:\n",
      "                    Food             Serving\n",
      "21                Olives     1 olive (2.7 g)\n",
      "30        Butter Chicken      1 tray (350 g)\n",
      "152      Mashed Potatoes       1 cup (210 g)\n",
      "322         Bean Burrito   1 burrito (190 g)\n",
      "352              Lasagne   1 serving (215 g)\n",
      "353  Chocolate Ice Cream      1 scoop (72 g)\n",
      "424           Asian Pear      1 pear (178 g)\n",
      "426  Philly Cheese Steak  1 sandwich (120 g)\n",
      "445            Persimmon      1 fruit (25 g)\n",
      "489             Rambutan    1 rambutan (9 g)\n"
     ]
    }
   ],
   "source": [
    "import pandas as pd\n",
    "import random\n",
    "\n",
    "def read_data_from_csv(file_path):\n",
    "    return pd.read_csv(file_path)\n",
    "\n",
    "def subset_sum_random_pandas(data, target, num_iterations=1000):\n",
    "    for _ in range(num_iterations):\n",
    "        shuffled_data = data.sample(frac=1).reset_index(drop=True)\n",
    "        result = subset_sum_pandas(shuffled_data, target)\n",
    "        if result is not None:\n",
    "            return result\n",
    "    return None\n",
    "\n",
    "def subset_sum_pandas(data, target):\n",
    "    subset = data.copy()\n",
    "    subset['Selected'] = 0\n",
    "\n",
    "    while True:\n",
    "        random_index = random.randint(0, len(subset) - 1)\n",
    "        subset.at[random_index, 'Selected'] = 1\n",
    "\n",
    "        current_sum = subset.loc[subset['Selected'] == 1, 'Calories'].sum()\n",
    "\n",
    "        if current_sum == target:\n",
    "            return subset.loc[subset['Selected'] == 1, ['Food', 'Serving']]\n",
    "        elif current_sum > target:\n",
    "            subset.at[random_index, 'Selected'] = 0\n",
    "\n",
    "# Example usage:\n",
    "csv_file_path = 'Foods/modified_dataset.csv'\n",
    "data = read_data_from_csv(csv_file_path)\n",
    "\n",
    "target_calories = rounded_array\n",
    "result = subset_sum_random_pandas(data, target_calories)\n",
    "\n",
    "if result is not None:\n",
    "    print(f\"Foods and Servings to achieve {target_calories} calories:\")\n",
    "    print(result)\n",
    "else:\n",
    "    print(f\"No combination found to achieve {target_calories} calories.\")\n",
    "\n"
   ]
  },
  {
   "cell_type": "code",
   "execution_count": null,
   "id": "cb38ee77-edf7-4733-a30f-294cfab934ec",
   "metadata": {},
   "outputs": [],
   "source": []
  }
 ],
 "metadata": {
  "kernelspec": {
   "display_name": "Python 3 (ipykernel)",
   "language": "python",
   "name": "python3"
  },
  "language_info": {
   "codemirror_mode": {
    "name": "ipython",
    "version": 3
   },
   "file_extension": ".py",
   "mimetype": "text/x-python",
   "name": "python",
   "nbconvert_exporter": "python",
   "pygments_lexer": "ipython3",
   "version": "3.11.5"
  }
 },
 "nbformat": 4,
 "nbformat_minor": 5
}
