{
 "cells": [
  {
   "cell_type": "code",
   "execution_count": 8,
   "metadata": {
    "id": "3L2DNBeFHa3b"
   },
   "outputs": [],
   "source": [
    "import pandas as pd\n",
    "import numpy as np"
   ]
  },
  {
   "cell_type": "code",
   "execution_count": 9,
   "metadata": {
    "colab": {
     "base_uri": "https://localhost:8080/",
     "height": 333
    },
    "id": "kw-nMsMlI5cj",
    "outputId": "aa393b94-d2ac-4238-f99c-4bfd17174263"
   },
   "outputs": [
    {
     "data": {
      "text/html": [
       "<div>\n",
       "<style scoped>\n",
       "    .dataframe tbody tr th:only-of-type {\n",
       "        vertical-align: middle;\n",
       "    }\n",
       "\n",
       "    .dataframe tbody tr th {\n",
       "        vertical-align: top;\n",
       "    }\n",
       "\n",
       "    .dataframe thead th {\n",
       "        text-align: right;\n",
       "    }\n",
       "</style>\n",
       "<table border=\"1\" class=\"dataframe\">\n",
       "  <thead>\n",
       "    <tr style=\"text-align: right;\">\n",
       "      <th></th>\n",
       "      <th>Unnamed: 0</th>\n",
       "      <th>age</th>\n",
       "      <th>weight(kg)</th>\n",
       "      <th>height(m)</th>\n",
       "      <th>gender</th>\n",
       "      <th>BMI</th>\n",
       "      <th>BMR</th>\n",
       "      <th>activity_level</th>\n",
       "      <th>calories_to_maintain_weight</th>\n",
       "      <th>BMI_tags</th>\n",
       "      <th>Label</th>\n",
       "    </tr>\n",
       "  </thead>\n",
       "  <tbody>\n",
       "    <tr>\n",
       "      <th>0</th>\n",
       "      <td>1</td>\n",
       "      <td>2</td>\n",
       "      <td>16.097862</td>\n",
       "      <td>0.932025</td>\n",
       "      <td>F</td>\n",
       "      <td>18.531612</td>\n",
       "      <td>958.584</td>\n",
       "      <td>1.2</td>\n",
       "      <td>1150.3008</td>\n",
       "      <td>8</td>\n",
       "      <td>13</td>\n",
       "    </tr>\n",
       "    <tr>\n",
       "      <th>1</th>\n",
       "      <td>2</td>\n",
       "      <td>4</td>\n",
       "      <td>14.619374</td>\n",
       "      <td>0.916687</td>\n",
       "      <td>F</td>\n",
       "      <td>17.397496</td>\n",
       "      <td>932.383</td>\n",
       "      <td>1.7</td>\n",
       "      <td>1585.0511</td>\n",
       "      <td>7</td>\n",
       "      <td>1</td>\n",
       "    </tr>\n",
       "    <tr>\n",
       "      <th>2</th>\n",
       "      <td>4</td>\n",
       "      <td>4</td>\n",
       "      <td>17.899918</td>\n",
       "      <td>0.997288</td>\n",
       "      <td>F</td>\n",
       "      <td>17.997414</td>\n",
       "      <td>977.578</td>\n",
       "      <td>1.9</td>\n",
       "      <td>1857.3982</td>\n",
       "      <td>7</td>\n",
       "      <td>4</td>\n",
       "    </tr>\n",
       "    <tr>\n",
       "      <th>3</th>\n",
       "      <td>6</td>\n",
       "      <td>3</td>\n",
       "      <td>13.532880</td>\n",
       "      <td>1.022786</td>\n",
       "      <td>F</td>\n",
       "      <td>12.936609</td>\n",
       "      <td>944.689</td>\n",
       "      <td>1.9</td>\n",
       "      <td>1794.9091</td>\n",
       "      <td>7</td>\n",
       "      <td>3</td>\n",
       "    </tr>\n",
       "    <tr>\n",
       "      <th>4</th>\n",
       "      <td>8</td>\n",
       "      <td>4</td>\n",
       "      <td>17.039484</td>\n",
       "      <td>1.053977</td>\n",
       "      <td>M</td>\n",
       "      <td>15.338909</td>\n",
       "      <td>799.229</td>\n",
       "      <td>1.9</td>\n",
       "      <td>1518.5351</td>\n",
       "      <td>7</td>\n",
       "      <td>0</td>\n",
       "    </tr>\n",
       "  </tbody>\n",
       "</table>\n",
       "</div>"
      ],
      "text/plain": [
       "   Unnamed: 0  age  weight(kg)  height(m) gender        BMI      BMR  \\\n",
       "0           1    2   16.097862   0.932025      F  18.531612  958.584   \n",
       "1           2    4   14.619374   0.916687      F  17.397496  932.383   \n",
       "2           4    4   17.899918   0.997288      F  17.997414  977.578   \n",
       "3           6    3   13.532880   1.022786      F  12.936609  944.689   \n",
       "4           8    4   17.039484   1.053977      M  15.338909  799.229   \n",
       "\n",
       "   activity_level  calories_to_maintain_weight  BMI_tags  Label  \n",
       "0             1.2                    1150.3008         8     13  \n",
       "1             1.7                    1585.0511         7      1  \n",
       "2             1.9                    1857.3982         7      4  \n",
       "3             1.9                    1794.9091         7      3  \n",
       "4             1.9                    1518.5351         7      0  "
      ]
     },
     "execution_count": 9,
     "metadata": {},
     "output_type": "execute_result"
    }
   ],
   "source": [
    "data1=pd.read_csv(\"Dataset.csv\")\n",
    "data1.head()"
   ]
  },
  {
   "cell_type": "code",
   "execution_count": 10,
   "metadata": {
    "colab": {
     "base_uri": "https://localhost:8080/"
    },
    "id": "5EeR-aaoJ0KR",
    "outputId": "3c0a1865-3bde-4d52-8b87-ae0292761df1"
   },
   "outputs": [
    {
     "name": "stdout",
     "output_type": "stream",
     "text": [
      "<class 'pandas.core.frame.DataFrame'>\n",
      "RangeIndex: 10726 entries, 0 to 10725\n",
      "Data columns (total 13 columns):\n",
      " #   Column                       Non-Null Count  Dtype  \n",
      "---  ------                       --------------  -----  \n",
      " 0   Unnamed: 0                   10726 non-null  int64  \n",
      " 1   age                          10726 non-null  int64  \n",
      " 2   weight(kg)                   10726 non-null  float64\n",
      " 3   height(m)                    10726 non-null  float64\n",
      " 4   gender                       10726 non-null  object \n",
      " 5   BMI                          10726 non-null  float64\n",
      " 6   BMR                          10726 non-null  float64\n",
      " 7   activity_level               10726 non-null  float64\n",
      " 8   calories_to_maintain_weight  10726 non-null  float64\n",
      " 9   BMI_tags                     10726 non-null  int64  \n",
      " 10  Label                        10726 non-null  int64  \n",
      " 11  cluster                      10726 non-null  int64  \n",
      " 12  gender_encoded               10726 non-null  int64  \n",
      "dtypes: float64(6), int64(6), object(1)\n",
      "memory usage: 1.1+ MB\n"
     ]
    }
   ],
   "source": [
    "data.info()"
   ]
  },
  {
   "cell_type": "markdown",
   "metadata": {},
   "source": [
    "Creating Encoded column to gender"
   ]
  },
  {
   "cell_type": "code",
   "execution_count": 12,
   "metadata": {
    "id": "i9OKYs_xNoYE"
   },
   "outputs": [],
   "source": [
    "gender_category = data1[\"gender\"]"
   ]
  },
  {
   "cell_type": "code",
   "execution_count": 13,
   "metadata": {
    "colab": {
     "base_uri": "https://localhost:8080/"
    },
    "id": "L0OfTUOINdgh",
    "outputId": "a365a11e-bf91-42ec-8847-a8dd858bdd79"
   },
   "outputs": [
    {
     "data": {
      "text/plain": [
       "array([0, 0, 0, ..., 0, 0, 1])"
      ]
     },
     "execution_count": 13,
     "metadata": {},
     "output_type": "execute_result"
    }
   ],
   "source": [
    "from sklearn.preprocessing import LabelEncoder\n",
    "obj = LabelEncoder()\n",
    "colum_gender = obj.fit_transform(gender_category)\n",
    "colum_gender"
   ]
  },
  {
   "cell_type": "markdown",
   "metadata": {},
   "source": [
    "Adding encoded gender column to csv file"
   ]
  },
  {
   "cell_type": "code",
   "execution_count": 14,
   "metadata": {},
   "outputs": [],
   "source": [
    "obj = LabelEncoder()\n",
    "column_gender = obj.fit_transform(data1['gender'])\n",
    "\n",
    "# Add the encoded gender column to the DataFrame\n",
    "data1['gender_encoded'] = column_gender\n",
    "\n",
    "# Save the updated DataFrame to a new CSV file\n",
    "data1.to_csv('Updated_adding_gender.csv', index=False)"
   ]
  },
  {
   "cell_type": "code",
   "execution_count": 15,
   "metadata": {},
   "outputs": [
    {
     "data": {
      "text/html": [
       "<div>\n",
       "<style scoped>\n",
       "    .dataframe tbody tr th:only-of-type {\n",
       "        vertical-align: middle;\n",
       "    }\n",
       "\n",
       "    .dataframe tbody tr th {\n",
       "        vertical-align: top;\n",
       "    }\n",
       "\n",
       "    .dataframe thead th {\n",
       "        text-align: right;\n",
       "    }\n",
       "</style>\n",
       "<table border=\"1\" class=\"dataframe\">\n",
       "  <thead>\n",
       "    <tr style=\"text-align: right;\">\n",
       "      <th></th>\n",
       "      <th>Unnamed: 0</th>\n",
       "      <th>age</th>\n",
       "      <th>weight(kg)</th>\n",
       "      <th>height(m)</th>\n",
       "      <th>gender</th>\n",
       "      <th>BMI</th>\n",
       "      <th>BMR</th>\n",
       "      <th>activity_level</th>\n",
       "      <th>calories_to_maintain_weight</th>\n",
       "      <th>BMI_tags</th>\n",
       "      <th>Label</th>\n",
       "      <th>gender_encoded</th>\n",
       "    </tr>\n",
       "  </thead>\n",
       "  <tbody>\n",
       "    <tr>\n",
       "      <th>0</th>\n",
       "      <td>1</td>\n",
       "      <td>2</td>\n",
       "      <td>16.097862</td>\n",
       "      <td>0.932025</td>\n",
       "      <td>F</td>\n",
       "      <td>18.531612</td>\n",
       "      <td>958.584</td>\n",
       "      <td>1.2</td>\n",
       "      <td>1150.3008</td>\n",
       "      <td>8</td>\n",
       "      <td>13</td>\n",
       "      <td>0</td>\n",
       "    </tr>\n",
       "    <tr>\n",
       "      <th>1</th>\n",
       "      <td>2</td>\n",
       "      <td>4</td>\n",
       "      <td>14.619374</td>\n",
       "      <td>0.916687</td>\n",
       "      <td>F</td>\n",
       "      <td>17.397496</td>\n",
       "      <td>932.383</td>\n",
       "      <td>1.7</td>\n",
       "      <td>1585.0511</td>\n",
       "      <td>7</td>\n",
       "      <td>1</td>\n",
       "      <td>0</td>\n",
       "    </tr>\n",
       "    <tr>\n",
       "      <th>2</th>\n",
       "      <td>4</td>\n",
       "      <td>4</td>\n",
       "      <td>17.899918</td>\n",
       "      <td>0.997288</td>\n",
       "      <td>F</td>\n",
       "      <td>17.997414</td>\n",
       "      <td>977.578</td>\n",
       "      <td>1.9</td>\n",
       "      <td>1857.3982</td>\n",
       "      <td>7</td>\n",
       "      <td>4</td>\n",
       "      <td>0</td>\n",
       "    </tr>\n",
       "    <tr>\n",
       "      <th>3</th>\n",
       "      <td>6</td>\n",
       "      <td>3</td>\n",
       "      <td>13.532880</td>\n",
       "      <td>1.022786</td>\n",
       "      <td>F</td>\n",
       "      <td>12.936609</td>\n",
       "      <td>944.689</td>\n",
       "      <td>1.9</td>\n",
       "      <td>1794.9091</td>\n",
       "      <td>7</td>\n",
       "      <td>3</td>\n",
       "      <td>0</td>\n",
       "    </tr>\n",
       "    <tr>\n",
       "      <th>4</th>\n",
       "      <td>8</td>\n",
       "      <td>4</td>\n",
       "      <td>17.039484</td>\n",
       "      <td>1.053977</td>\n",
       "      <td>M</td>\n",
       "      <td>15.338909</td>\n",
       "      <td>799.229</td>\n",
       "      <td>1.9</td>\n",
       "      <td>1518.5351</td>\n",
       "      <td>7</td>\n",
       "      <td>0</td>\n",
       "      <td>1</td>\n",
       "    </tr>\n",
       "  </tbody>\n",
       "</table>\n",
       "</div>"
      ],
      "text/plain": [
       "   Unnamed: 0  age  weight(kg)  height(m) gender        BMI      BMR  \\\n",
       "0           1    2   16.097862   0.932025      F  18.531612  958.584   \n",
       "1           2    4   14.619374   0.916687      F  17.397496  932.383   \n",
       "2           4    4   17.899918   0.997288      F  17.997414  977.578   \n",
       "3           6    3   13.532880   1.022786      F  12.936609  944.689   \n",
       "4           8    4   17.039484   1.053977      M  15.338909  799.229   \n",
       "\n",
       "   activity_level  calories_to_maintain_weight  BMI_tags  Label  \\\n",
       "0             1.2                    1150.3008         8     13   \n",
       "1             1.7                    1585.0511         7      1   \n",
       "2             1.9                    1857.3982         7      4   \n",
       "3             1.9                    1794.9091         7      3   \n",
       "4             1.9                    1518.5351         7      0   \n",
       "\n",
       "   gender_encoded  \n",
       "0               0  \n",
       "1               0  \n",
       "2               0  \n",
       "3               0  \n",
       "4               1  "
      ]
     },
     "execution_count": 15,
     "metadata": {},
     "output_type": "execute_result"
    }
   ],
   "source": [
    "data2=pd.read_csv(\"Updated_adding_gender.csv\")\n",
    "data2.head()"
   ]
  },
  {
   "cell_type": "markdown",
   "metadata": {
    "id": "UsZXjrH9Ndvc"
   },
   "source": [
    "Removing outliers and saving to a new csv file"
   ]
  },
  {
   "cell_type": "code",
   "execution_count": 16,
   "metadata": {},
   "outputs": [],
   "source": [
    "from scipy import stats"
   ]
  },
  {
   "cell_type": "code",
   "execution_count": 17,
   "metadata": {},
   "outputs": [],
   "source": [
    "# Define a threshold for the Z-score\n",
    "z_threshold = 3\n",
    "\n",
    "# Calculate the Z-scores for the 'BMI' column\n",
    "z_scores = stats.zscore(data['BMI'])\n",
    "\n",
    "# Identify outliers based on the Z-scores\n",
    "outliers = (z_scores > z_threshold) | (z_scores < -z_threshold)\n",
    "\n",
    "# Remove outliers from the DataFrame\n",
    "df_no_outliers = data[~outliers]\n",
    "\n",
    "# Save the DataFrame without outliers to a new CSV file\n",
    "df_no_outliers.to_csv('Updated_no_outliers.csv', index=False)"
   ]
  },
  {
   "cell_type": "code",
   "execution_count": null,
   "metadata": {},
   "outputs": [],
   "source": []
  },
  {
   "cell_type": "code",
   "execution_count": 18,
   "metadata": {},
   "outputs": [
    {
     "data": {
      "text/html": [
       "<div>\n",
       "<style scoped>\n",
       "    .dataframe tbody tr th:only-of-type {\n",
       "        vertical-align: middle;\n",
       "    }\n",
       "\n",
       "    .dataframe tbody tr th {\n",
       "        vertical-align: top;\n",
       "    }\n",
       "\n",
       "    .dataframe thead th {\n",
       "        text-align: right;\n",
       "    }\n",
       "</style>\n",
       "<table border=\"1\" class=\"dataframe\">\n",
       "  <thead>\n",
       "    <tr style=\"text-align: right;\">\n",
       "      <th></th>\n",
       "      <th>Unnamed: 0</th>\n",
       "      <th>age</th>\n",
       "      <th>weight(kg)</th>\n",
       "      <th>height(m)</th>\n",
       "      <th>gender</th>\n",
       "      <th>BMI</th>\n",
       "      <th>BMR</th>\n",
       "      <th>activity_level</th>\n",
       "      <th>calories_to_maintain_weight</th>\n",
       "      <th>BMI_tags</th>\n",
       "      <th>Label</th>\n",
       "      <th>cluster</th>\n",
       "      <th>gender_encoded</th>\n",
       "    </tr>\n",
       "  </thead>\n",
       "  <tbody>\n",
       "    <tr>\n",
       "      <th>0</th>\n",
       "      <td>1</td>\n",
       "      <td>2</td>\n",
       "      <td>16.097862</td>\n",
       "      <td>0.932025</td>\n",
       "      <td>F</td>\n",
       "      <td>18.531612</td>\n",
       "      <td>958.584</td>\n",
       "      <td>1.2</td>\n",
       "      <td>1150.3008</td>\n",
       "      <td>8</td>\n",
       "      <td>13</td>\n",
       "      <td>2</td>\n",
       "      <td>0</td>\n",
       "    </tr>\n",
       "    <tr>\n",
       "      <th>1</th>\n",
       "      <td>2</td>\n",
       "      <td>4</td>\n",
       "      <td>14.619374</td>\n",
       "      <td>0.916687</td>\n",
       "      <td>F</td>\n",
       "      <td>17.397496</td>\n",
       "      <td>932.383</td>\n",
       "      <td>1.7</td>\n",
       "      <td>1585.0511</td>\n",
       "      <td>7</td>\n",
       "      <td>1</td>\n",
       "      <td>2</td>\n",
       "      <td>0</td>\n",
       "    </tr>\n",
       "    <tr>\n",
       "      <th>2</th>\n",
       "      <td>4</td>\n",
       "      <td>4</td>\n",
       "      <td>17.899918</td>\n",
       "      <td>0.997288</td>\n",
       "      <td>F</td>\n",
       "      <td>17.997414</td>\n",
       "      <td>977.578</td>\n",
       "      <td>1.9</td>\n",
       "      <td>1857.3982</td>\n",
       "      <td>7</td>\n",
       "      <td>4</td>\n",
       "      <td>2</td>\n",
       "      <td>0</td>\n",
       "    </tr>\n",
       "    <tr>\n",
       "      <th>3</th>\n",
       "      <td>6</td>\n",
       "      <td>3</td>\n",
       "      <td>13.532880</td>\n",
       "      <td>1.022786</td>\n",
       "      <td>F</td>\n",
       "      <td>12.936609</td>\n",
       "      <td>944.689</td>\n",
       "      <td>1.9</td>\n",
       "      <td>1794.9091</td>\n",
       "      <td>7</td>\n",
       "      <td>3</td>\n",
       "      <td>2</td>\n",
       "      <td>0</td>\n",
       "    </tr>\n",
       "    <tr>\n",
       "      <th>4</th>\n",
       "      <td>8</td>\n",
       "      <td>4</td>\n",
       "      <td>17.039484</td>\n",
       "      <td>1.053977</td>\n",
       "      <td>M</td>\n",
       "      <td>15.338909</td>\n",
       "      <td>799.229</td>\n",
       "      <td>1.9</td>\n",
       "      <td>1518.5351</td>\n",
       "      <td>7</td>\n",
       "      <td>0</td>\n",
       "      <td>2</td>\n",
       "      <td>1</td>\n",
       "    </tr>\n",
       "  </tbody>\n",
       "</table>\n",
       "</div>"
      ],
      "text/plain": [
       "   Unnamed: 0  age  weight(kg)  height(m) gender        BMI      BMR  \\\n",
       "0           1    2   16.097862   0.932025      F  18.531612  958.584   \n",
       "1           2    4   14.619374   0.916687      F  17.397496  932.383   \n",
       "2           4    4   17.899918   0.997288      F  17.997414  977.578   \n",
       "3           6    3   13.532880   1.022786      F  12.936609  944.689   \n",
       "4           8    4   17.039484   1.053977      M  15.338909  799.229   \n",
       "\n",
       "   activity_level  calories_to_maintain_weight  BMI_tags  Label  cluster  \\\n",
       "0             1.2                    1150.3008         8     13        2   \n",
       "1             1.7                    1585.0511         7      1        2   \n",
       "2             1.9                    1857.3982         7      4        2   \n",
       "3             1.9                    1794.9091         7      3        2   \n",
       "4             1.9                    1518.5351         7      0        2   \n",
       "\n",
       "   gender_encoded  \n",
       "0               0  \n",
       "1               0  \n",
       "2               0  \n",
       "3               0  \n",
       "4               1  "
      ]
     },
     "execution_count": 18,
     "metadata": {},
     "output_type": "execute_result"
    }
   ],
   "source": [
    "data=pd.read_csv(\"Updated_no_outliers.csv\")\n",
    "data.head()"
   ]
  },
  {
   "cell_type": "code",
   "execution_count": 29,
   "metadata": {},
   "outputs": [
    {
     "data": {
      "text/html": [
       "<div>\n",
       "<style scoped>\n",
       "    .dataframe tbody tr th:only-of-type {\n",
       "        vertical-align: middle;\n",
       "    }\n",
       "\n",
       "    .dataframe tbody tr th {\n",
       "        vertical-align: top;\n",
       "    }\n",
       "\n",
       "    .dataframe thead th {\n",
       "        text-align: right;\n",
       "    }\n",
       "</style>\n",
       "<table border=\"1\" class=\"dataframe\">\n",
       "  <thead>\n",
       "    <tr style=\"text-align: right;\">\n",
       "      <th></th>\n",
       "      <th>Unnamed: 0</th>\n",
       "      <th>age</th>\n",
       "      <th>weight(kg)</th>\n",
       "      <th>height(m)</th>\n",
       "      <th>BMI</th>\n",
       "      <th>BMR</th>\n",
       "      <th>activity_level</th>\n",
       "      <th>calories_to_maintain_weight</th>\n",
       "      <th>BMI_tags</th>\n",
       "      <th>Label</th>\n",
       "      <th>cluster</th>\n",
       "      <th>gender_encoded</th>\n",
       "    </tr>\n",
       "  </thead>\n",
       "  <tbody>\n",
       "    <tr>\n",
       "      <th>count</th>\n",
       "      <td>10726.000000</td>\n",
       "      <td>10726.000000</td>\n",
       "      <td>10726.000000</td>\n",
       "      <td>10726.000000</td>\n",
       "      <td>10726.000000</td>\n",
       "      <td>10726.000000</td>\n",
       "      <td>10726.000000</td>\n",
       "      <td>10726.000000</td>\n",
       "      <td>10726.000000</td>\n",
       "      <td>10726.000000</td>\n",
       "      <td>10726.000000</td>\n",
       "      <td>10726.000000</td>\n",
       "    </tr>\n",
       "    <tr>\n",
       "      <th>mean</th>\n",
       "      <td>11664.753123</td>\n",
       "      <td>26.778575</td>\n",
       "      <td>61.647728</td>\n",
       "      <td>1.540276</td>\n",
       "      <td>24.788317</td>\n",
       "      <td>1442.049923</td>\n",
       "      <td>1.487451</td>\n",
       "      <td>2118.574075</td>\n",
       "      <td>8.253496</td>\n",
       "      <td>19.332650</td>\n",
       "      <td>0.659705</td>\n",
       "      <td>0.480515</td>\n",
       "    </tr>\n",
       "    <tr>\n",
       "      <th>std</th>\n",
       "      <td>6814.683196</td>\n",
       "      <td>18.201675</td>\n",
       "      <td>24.254566</td>\n",
       "      <td>0.186042</td>\n",
       "      <td>6.954637</td>\n",
       "      <td>250.686166</td>\n",
       "      <td>0.239625</td>\n",
       "      <td>388.425427</td>\n",
       "      <td>0.754767</td>\n",
       "      <td>9.746498</td>\n",
       "      <td>0.719617</td>\n",
       "      <td>0.499643</td>\n",
       "    </tr>\n",
       "    <tr>\n",
       "      <th>min</th>\n",
       "      <td>1.000000</td>\n",
       "      <td>2.000000</td>\n",
       "      <td>12.005536</td>\n",
       "      <td>0.856328</td>\n",
       "      <td>10.342285</td>\n",
       "      <td>667.941000</td>\n",
       "      <td>1.200000</td>\n",
       "      <td>953.540900</td>\n",
       "      <td>7.000000</td>\n",
       "      <td>0.000000</td>\n",
       "      <td>0.000000</td>\n",
       "      <td>0.000000</td>\n",
       "    </tr>\n",
       "    <tr>\n",
       "      <th>25%</th>\n",
       "      <td>5959.750000</td>\n",
       "      <td>13.000000</td>\n",
       "      <td>45.538375</td>\n",
       "      <td>1.564845</td>\n",
       "      <td>19.557137</td>\n",
       "      <td>1320.322500</td>\n",
       "      <td>1.300000</td>\n",
       "      <td>1815.879700</td>\n",
       "      <td>8.000000</td>\n",
       "      <td>16.000000</td>\n",
       "      <td>0.000000</td>\n",
       "      <td>0.000000</td>\n",
       "    </tr>\n",
       "    <tr>\n",
       "      <th>50%</th>\n",
       "      <td>10695.500000</td>\n",
       "      <td>23.000000</td>\n",
       "      <td>61.323460</td>\n",
       "      <td>1.631282</td>\n",
       "      <td>23.056039</td>\n",
       "      <td>1493.165000</td>\n",
       "      <td>1.500000</td>\n",
       "      <td>2104.599800</td>\n",
       "      <td>8.000000</td>\n",
       "      <td>20.000000</td>\n",
       "      <td>1.000000</td>\n",
       "      <td>0.000000</td>\n",
       "    </tr>\n",
       "    <tr>\n",
       "      <th>75%</th>\n",
       "      <td>17455.250000</td>\n",
       "      <td>36.000000</td>\n",
       "      <td>83.484585</td>\n",
       "      <td>1.632234</td>\n",
       "      <td>31.334294</td>\n",
       "      <td>1602.488000</td>\n",
       "      <td>1.700000</td>\n",
       "      <td>2405.301750</td>\n",
       "      <td>9.000000</td>\n",
       "      <td>28.000000</td>\n",
       "      <td>1.000000</td>\n",
       "      <td>1.000000</td>\n",
       "    </tr>\n",
       "    <tr>\n",
       "      <th>max</th>\n",
       "      <td>23998.000000</td>\n",
       "      <td>90.000000</td>\n",
       "      <td>98.799820</td>\n",
       "      <td>1.633223</td>\n",
       "      <td>37.142927</td>\n",
       "      <td>1914.374000</td>\n",
       "      <td>1.900000</td>\n",
       "      <td>2949.075500</td>\n",
       "      <td>9.000000</td>\n",
       "      <td>31.000000</td>\n",
       "      <td>2.000000</td>\n",
       "      <td>1.000000</td>\n",
       "    </tr>\n",
       "  </tbody>\n",
       "</table>\n",
       "</div>"
      ],
      "text/plain": [
       "         Unnamed: 0           age    weight(kg)     height(m)           BMI  \\\n",
       "count  10726.000000  10726.000000  10726.000000  10726.000000  10726.000000   \n",
       "mean   11664.753123     26.778575     61.647728      1.540276     24.788317   \n",
       "std     6814.683196     18.201675     24.254566      0.186042      6.954637   \n",
       "min        1.000000      2.000000     12.005536      0.856328     10.342285   \n",
       "25%     5959.750000     13.000000     45.538375      1.564845     19.557137   \n",
       "50%    10695.500000     23.000000     61.323460      1.631282     23.056039   \n",
       "75%    17455.250000     36.000000     83.484585      1.632234     31.334294   \n",
       "max    23998.000000     90.000000     98.799820      1.633223     37.142927   \n",
       "\n",
       "                BMR  activity_level  calories_to_maintain_weight  \\\n",
       "count  10726.000000    10726.000000                 10726.000000   \n",
       "mean    1442.049923        1.487451                  2118.574075   \n",
       "std      250.686166        0.239625                   388.425427   \n",
       "min      667.941000        1.200000                   953.540900   \n",
       "25%     1320.322500        1.300000                  1815.879700   \n",
       "50%     1493.165000        1.500000                  2104.599800   \n",
       "75%     1602.488000        1.700000                  2405.301750   \n",
       "max     1914.374000        1.900000                  2949.075500   \n",
       "\n",
       "           BMI_tags         Label       cluster  gender_encoded  \n",
       "count  10726.000000  10726.000000  10726.000000    10726.000000  \n",
       "mean       8.253496     19.332650      0.659705        0.480515  \n",
       "std        0.754767      9.746498      0.719617        0.499643  \n",
       "min        7.000000      0.000000      0.000000        0.000000  \n",
       "25%        8.000000     16.000000      0.000000        0.000000  \n",
       "50%        8.000000     20.000000      1.000000        0.000000  \n",
       "75%        9.000000     28.000000      1.000000        1.000000  \n",
       "max        9.000000     31.000000      2.000000        1.000000  "
      ]
     },
     "execution_count": 29,
     "metadata": {},
     "output_type": "execute_result"
    }
   ],
   "source": [
    "data.describe()"
   ]
  },
  {
   "cell_type": "markdown",
   "metadata": {},
   "source": [
    "Initializing X for model"
   ]
  },
  {
   "cell_type": "code",
   "execution_count": 42,
   "metadata": {},
   "outputs": [
    {
     "data": {
      "text/html": [
       "<div>\n",
       "<style scoped>\n",
       "    .dataframe tbody tr th:only-of-type {\n",
       "        vertical-align: middle;\n",
       "    }\n",
       "\n",
       "    .dataframe tbody tr th {\n",
       "        vertical-align: top;\n",
       "    }\n",
       "\n",
       "    .dataframe thead th {\n",
       "        text-align: right;\n",
       "    }\n",
       "</style>\n",
       "<table border=\"1\" class=\"dataframe\">\n",
       "  <thead>\n",
       "    <tr style=\"text-align: right;\">\n",
       "      <th></th>\n",
       "      <th>Unnamed: 0</th>\n",
       "      <th>age</th>\n",
       "      <th>gender_encoded</th>\n",
       "      <th>weight(kg)</th>\n",
       "      <th>height(m)</th>\n",
       "      <th>BMR</th>\n",
       "      <th>activity_level</th>\n",
       "    </tr>\n",
       "  </thead>\n",
       "  <tbody>\n",
       "    <tr>\n",
       "      <th>0</th>\n",
       "      <td>1</td>\n",
       "      <td>2</td>\n",
       "      <td>0</td>\n",
       "      <td>16.097862</td>\n",
       "      <td>0.932025</td>\n",
       "      <td>958.584</td>\n",
       "      <td>1.2</td>\n",
       "    </tr>\n",
       "    <tr>\n",
       "      <th>1</th>\n",
       "      <td>2</td>\n",
       "      <td>4</td>\n",
       "      <td>0</td>\n",
       "      <td>14.619374</td>\n",
       "      <td>0.916687</td>\n",
       "      <td>932.383</td>\n",
       "      <td>1.7</td>\n",
       "    </tr>\n",
       "    <tr>\n",
       "      <th>2</th>\n",
       "      <td>4</td>\n",
       "      <td>4</td>\n",
       "      <td>0</td>\n",
       "      <td>17.899918</td>\n",
       "      <td>0.997288</td>\n",
       "      <td>977.578</td>\n",
       "      <td>1.9</td>\n",
       "    </tr>\n",
       "    <tr>\n",
       "      <th>3</th>\n",
       "      <td>6</td>\n",
       "      <td>3</td>\n",
       "      <td>0</td>\n",
       "      <td>13.532880</td>\n",
       "      <td>1.022786</td>\n",
       "      <td>944.689</td>\n",
       "      <td>1.9</td>\n",
       "    </tr>\n",
       "    <tr>\n",
       "      <th>4</th>\n",
       "      <td>8</td>\n",
       "      <td>4</td>\n",
       "      <td>1</td>\n",
       "      <td>17.039484</td>\n",
       "      <td>1.053977</td>\n",
       "      <td>799.229</td>\n",
       "      <td>1.9</td>\n",
       "    </tr>\n",
       "  </tbody>\n",
       "</table>\n",
       "</div>"
      ],
      "text/plain": [
       "   Unnamed: 0  age  gender_encoded  weight(kg)  height(m)      BMR  \\\n",
       "0           1    2               0   16.097862   0.932025  958.584   \n",
       "1           2    4               0   14.619374   0.916687  932.383   \n",
       "2           4    4               0   17.899918   0.997288  977.578   \n",
       "3           6    3               0   13.532880   1.022786  944.689   \n",
       "4           8    4               1   17.039484   1.053977  799.229   \n",
       "\n",
       "   activity_level  \n",
       "0             1.2  \n",
       "1             1.7  \n",
       "2             1.9  \n",
       "3             1.9  \n",
       "4             1.9  "
      ]
     },
     "execution_count": 42,
     "metadata": {},
     "output_type": "execute_result"
    }
   ],
   "source": [
    "x = data.iloc[:,[0,1,-1,2,3,6,7]]\n",
    "x.head()"
   ]
  },
  {
   "cell_type": "markdown",
   "metadata": {},
   "source": [
    "Initializing Y for model"
   ]
  },
  {
   "cell_type": "code",
   "execution_count": 31,
   "metadata": {},
   "outputs": [
    {
     "data": {
      "text/plain": [
       "0    1150.3008\n",
       "1    1585.0511\n",
       "2    1857.3982\n",
       "3    1794.9091\n",
       "4    1518.5351\n",
       "Name: calories_to_maintain_weight, dtype: float64"
      ]
     },
     "execution_count": 31,
     "metadata": {},
     "output_type": "execute_result"
    }
   ],
   "source": [
    "y = data.iloc[:,-5]\n",
    "y.head()"
   ]
  },
  {
   "cell_type": "code",
   "execution_count": 21,
   "metadata": {
    "id": "T8bhBfHlLIf0"
   },
   "outputs": [],
   "source": [
    "from sklearn.preprocessing import StandardScaler\n",
    "scaler = StandardScaler()"
   ]
  },
  {
   "cell_type": "code",
   "execution_count": 43,
   "metadata": {
    "colab": {
     "base_uri": "https://localhost:8080/"
    },
    "id": "eb82apmlLqX_",
    "outputId": "64d827ca-c8e1-46e6-c959-98a3bfe70b41"
   },
   "outputs": [
    {
     "data": {
      "text/plain": [
       "array([[-1.71164184, -1.36139833, -0.96175987, -1.87807891, -3.26957998,\n",
       "        -1.92866032, -1.1996431 ],\n",
       "       [-1.71149509, -1.25151321, -0.96175987, -1.93903886, -3.35202752,\n",
       "        -2.03318233,  0.88704798],\n",
       "       [-1.71120159, -1.25151321, -0.96175987, -1.80377784, -2.91876741,\n",
       "        -1.85288875,  1.72172441],\n",
       "       [-1.71090809, -1.30645577, -0.96175987, -1.98383637, -2.78170284,\n",
       "        -1.98409077,  1.72172441]])"
      ]
     },
     "execution_count": 43,
     "metadata": {},
     "output_type": "execute_result"
    }
   ],
   "source": [
    "x = scaler.fit_transform(x)\n",
    "x[0:4]"
   ]
  },
  {
   "cell_type": "markdown",
   "metadata": {},
   "source": [
    "Splitting Dataset to trainset and testing set"
   ]
  },
  {
   "cell_type": "code",
   "execution_count": 44,
   "metadata": {
    "id": "39-hEWjMMDVZ"
   },
   "outputs": [],
   "source": [
    "from sklearn.model_selection import train_test_split\n",
    "x_train, x_test, y_train, y_test = train_test_split(x,y,test_size=0.25)"
   ]
  },
  {
   "cell_type": "code",
   "execution_count": 39,
   "metadata": {
    "colab": {
     "base_uri": "https://localhost:8080/"
    },
    "id": "hHJnarTyTJva",
    "outputId": "0daedd4b-328e-4d14-c41b-e87d3d41ab71"
   },
   "outputs": [
    {
     "data": {
      "text/plain": [
       "(8044, 8)"
      ]
     },
     "execution_count": 39,
     "metadata": {},
     "output_type": "execute_result"
    }
   ],
   "source": [
    "x_train.shape"
   ]
  },
  {
   "cell_type": "markdown",
   "metadata": {},
   "source": [
    "Training Random forest model for predict \"Calories to maintain weight\""
   ]
  },
  {
   "cell_type": "code",
   "execution_count": 50,
   "metadata": {
    "colab": {
     "base_uri": "https://localhost:8080/"
    },
    "id": "JSW1hSuLUtBZ",
    "outputId": "8792663d-a5d2-4607-80e2-9c0b87c7f6b0"
   },
   "outputs": [],
   "source": [
    "from sklearn.ensemble import RandomForestRegressor\n",
    "# Create a Random Forest Regressor\n",
    "model = RandomForestRegressor(n_estimators=100, random_state=42)\n",
    "model.fit(x_train, y_train)\n",
    "predictions = model.predict(x_test)"
   ]
  },
  {
   "cell_type": "markdown",
   "metadata": {},
   "source": [
    "Mean squared error"
   ]
  },
  {
   "cell_type": "code",
   "execution_count": 51,
   "metadata": {
    "colab": {
     "base_uri": "https://localhost:8080/"
    },
    "id": "7ag6F8J-WceO",
    "outputId": "1831ce64-a1da-459a-a6fc-6c61fd30f91d"
   },
   "outputs": [
    {
     "name": "stdout",
     "output_type": "stream",
     "text": [
      "Mean Squared Error: 10.164520930593067\n"
     ]
    }
   ],
   "source": [
    "from sklearn.metrics import mean_squared_error\n",
    "\n",
    "# Assuming predictions is your predicted values for the test set\n",
    "mse = mean_squared_error(y_test, predictions)\n",
    "print(f'Mean Squared Error: {mse}')"
   ]
  },
  {
   "cell_type": "markdown",
   "metadata": {},
   "source": [
    "Checking predicted values and original values"
   ]
  },
  {
   "cell_type": "code",
   "execution_count": 52,
   "metadata": {
    "colab": {
     "base_uri": "https://localhost:8080/"
    },
    "id": "5P8_nzt4WGqN",
    "outputId": "3ea0225e-fad9-4c94-fe4a-2ccccd647e1a"
   },
   "outputs": [
    {
     "data": {
      "text/plain": [
       "array([2138.6787  , 2766.997303, 1811.693793, 2801.406588, 1656.633578,\n",
       "       1833.2652  , 2641.493715, 2752.25886 , 2763.585929, 1998.852063])"
      ]
     },
     "execution_count": 52,
     "metadata": {},
     "output_type": "execute_result"
    }
   ],
   "source": [
    "predict = model.predict(x_test)\n",
    "predict[0:10]"
   ]
  },
  {
   "cell_type": "code",
   "execution_count": 53,
   "metadata": {
    "colab": {
     "base_uri": "https://localhost:8080/"
    },
    "id": "sPhV9nBsWKCv",
    "outputId": "67c7c91b-13f5-4ecb-94d8-c7013a956f2f"
   },
   "outputs": [
    {
     "data": {
      "text/plain": [
       "8570    2138.7888\n",
       "3031    2767.1467\n",
       "4245    1811.6384\n",
       "3592    2801.3068\n",
       "895     1656.6381\n",
       "5753    1833.2041\n",
       "4110    2641.2451\n",
       "9139    2752.2337\n",
       "6684    2763.8274\n",
       "3871    1998.8319\n",
       "Name: calories_to_maintain_weight, dtype: float64"
      ]
     },
     "execution_count": 53,
     "metadata": {},
     "output_type": "execute_result"
    }
   ],
   "source": [
    "y_test[0:10]"
   ]
  }
 ],
 "metadata": {
  "colab": {
   "provenance": []
  },
  "kernelspec": {
   "display_name": "Python 3 (ipykernel)",
   "language": "python",
   "name": "python3"
  },
  "language_info": {
   "codemirror_mode": {
    "name": "ipython",
    "version": 3
   },
   "file_extension": ".py",
   "mimetype": "text/x-python",
   "name": "python",
   "nbconvert_exporter": "python",
   "pygments_lexer": "ipython3",
   "version": "3.11.5"
  }
 },
 "nbformat": 4,
 "nbformat_minor": 4
}
