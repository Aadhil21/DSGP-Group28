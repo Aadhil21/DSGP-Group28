{
 "cells": [
  {
   "cell_type": "code",
   "execution_count": 4,
   "id": "b7409540-76e8-429d-9c29-20e605e099a3",
   "metadata": {},
   "outputs": [
    {
     "name": "stdout",
     "output_type": "stream",
     "text": [
      "[[2500.]]\n"
     ]
    }
   ],
   "source": [
    "import numpy as np\n",
    "\n",
    "# Assuming your value is a NumPy array (replace it with your actual array)\n",
    "your_array = np.array([user_pred])\n",
    "\n",
    "# Round to the nearest 50 using numpy.round\n",
    "rounded_array = np.round(your_array / 50) * 50\n",
    "\n",
    "print(rounded_array)\n"
   ]
  },
  {
   "cell_type": "code",
   "execution_count": 7,
   "id": "8bf6fa14-0118-4cc2-927a-af38897393cd",
   "metadata": {},
   "outputs": [
    {
     "name": "stdout",
     "output_type": "stream",
     "text": [
      "Foods and Servings to achieve [[2500.]] calories:\n",
      "                        Food              Serving\n",
      "50                  Eggplant   1 eggplant (458 g)\n",
      "164                  Burrito    1 burrito (200 g)\n",
      "172                 Tamarind     1 tamarind (2 g)\n",
      "173                     Nori      1 sheet (2.6 g)\n",
      "177                Mushrooms   1 mushroom (5.4 g)\n",
      "232                     Peas         1 cup (98 g)\n",
      "298  Ham and Cheese Sandwich   1 sandwich (146 g)\n",
      "306   Butter Pecan Ice Cream      1 scoop (113 g)\n",
      "329               Dampfnudel  1 dampfnudel (85 g)\n",
      "335             Wheat Starch        1 cup (110 g)\n",
      "363           Collard Greens         1 cup (45 g)\n",
      "394              Blueberries        1 cup (148 g)\n",
      "469             Ham Sandwich   1 sandwich (146 g)\n",
      "492                Aubergine  1 aubergine (458 g)\n",
      "509                  Apricot     1 apricot (35 g)\n",
      "550                Sapodilla  1 sapodilla (170 g)\n"
     ]
    }
   ],
   "source": [
    "import pandas as pd\n",
    "import random\n",
    "\n",
    "def read_data_from_csv(file_path):\n",
    "    return pd.read_csv(file_path)\n",
    "\n",
    "def subset_sum_random_pandas(data, target, num_iterations=1000):\n",
    "    for _ in range(num_iterations):\n",
    "        shuffled_data = data.sample(frac=1).reset_index(drop=True)\n",
    "        result = subset_sum_pandas(shuffled_data, target)\n",
    "        if result is not None:\n",
    "            return result\n",
    "    return None\n",
    "\n",
    "def subset_sum_pandas(data, target):\n",
    "    subset = data.copy()\n",
    "    subset['Selected'] = 0\n",
    "\n",
    "    while True:\n",
    "        random_index = random.randint(0, len(subset) - 1)\n",
    "        subset.at[random_index, 'Selected'] = 1\n",
    "\n",
    "        current_sum = subset.loc[subset['Selected'] == 1, 'Calories'].sum()\n",
    "\n",
    "        if current_sum == target:\n",
    "            return subset.loc[subset['Selected'] == 1, ['Food', 'Serving']]\n",
    "        elif current_sum > target:\n",
    "            subset.at[random_index, 'Selected'] = 0\n",
    "\n",
    "# Example usage:\n",
    "csv_file_path = 'modified_dataset.csv'\n",
    "data = read_data_from_csv(csv_file_path)\n",
    "\n",
    "target_calories = rounded_array\n",
    "result = subset_sum_random_pandas(data, target_calories)\n",
    "\n",
    "if result is not None:\n",
    "    print(f\"Foods and Servings to achieve {target_calories} calories:\")\n",
    "    print(result)\n",
    "else:\n",
    "    print(f\"No combination found to achieve {target_calories} calories.\")\n",
    "\n"
   ]
  },
  {
   "cell_type": "code",
   "execution_count": 2,
   "id": "cb38ee77-edf7-4733-a30f-294cfab934ec",
   "metadata": {},
   "outputs": [
    {
     "name": "stdin",
     "output_type": "stream",
     "text": [
      "Enter age:  47\n",
      "Enter gender(M/F):  F\n",
      "Enter weight(kg):  98\n",
      "Enter height(m):  1.6\n",
      "Enter activity level :  1.5\n"
     ]
    },
    {
     "name": "stdout",
     "output_type": "stream",
     "text": [
      "user age : 47\n",
      "user weigth : 98.0\n",
      "user height : 1.6\n",
      "user gender : 0\n",
      "user BMI : 38.28124999999999\n",
      "user activity level : 1.5\n"
     ]
    }
   ],
   "source": [
    "user_age = int(input(\"Enter age: \"))\n",
    "user_gender = input(\"Enter gender(M/F): \")\n",
    "user_weight = float(input(\"Enter weight(kg): \"))\n",
    "user_height = float(input(\"Enter height(m): \"))\n",
    "user_activity_level = float(input(\"Enter activity level : \"))\n",
    "\n",
    "BMI = (user_weight/user_height**2)\n",
    "\n",
    "if user_gender == \"M\":\n",
    "        user_gender = 1\n",
    "#        user_BMR = (10 * user_weight) + (600.25 * user_height) - (5 * user_age) + 5\n",
    "elif user_gender == \"F\":\n",
    "        user_gender = 0\n",
    "#        user_BMR = (10 * user_weight) + (600.25 * user_height) - (5 * user_age) - 161\n",
    "\n",
    "    \n",
    "print(\"user age :\",user_age)\n",
    "print(\"user weigth :\",user_weight)\n",
    "print(\"user height :\",user_height)\n",
    "print(\"user gender :\",user_gender)\n",
    "print(\"user BMI :\",BMI)\n",
    "print(\"user activity level :\",user_activity_level)\n",
    "#print(\"user BMR :\",user_BMR)\n",
    "\n",
    "#('age', 'weight(kg)', 'height(m)', 'BMI', 'activity_level','le_gender')"
   ]
  },
  {
   "cell_type": "code",
   "execution_count": 1,
   "id": "e0b12bb9-1fd7-40c1-a67f-918dae980d92",
   "metadata": {},
   "outputs": [],
   "source": [
    "import pickle\n",
    "\n",
    "# Load the model from file\n",
    "with open('xgboost_modelnew_new.pkl', 'rb') as f:\n",
    "    model = pickle.load(f)\n",
    "\n",
    "# Now you can use the loaded_model for prediction or any other purposes\n"
   ]
  },
  {
   "cell_type": "code",
   "execution_count": 3,
   "id": "8f730699-8a70-40b7-ad5f-18e6ded2e3a5",
   "metadata": {},
   "outputs": [
    {
     "name": "stdout",
     "output_type": "stream",
     "text": [
      "Predicted Value: 2485.2654\n"
     ]
    }
   ],
   "source": [
    "# Assuming you have performed grid search and obtained the best model (best_model)\n",
    "# Example user input (replace with actual user input)\n",
    "user_input = [[user_age,user_weight,user_height,BMI,user_activity_level,user_gender]]  # List of features for the user input\n",
    "\n",
    "# Make predictions on the user input using the best model\n",
    "user_pred = model.predict(user_input)\n",
    "\n",
    "# Display the predicted value\n",
    "print(\"Predicted Value:\", user_pred[0])\n"
   ]
  }
 ],
 "metadata": {
  "kernelspec": {
   "display_name": "Python 3 (ipykernel)",
   "language": "python",
   "name": "python3"
  },
  "language_info": {
   "codemirror_mode": {
    "name": "ipython",
    "version": 3
   },
   "file_extension": ".py",
   "mimetype": "text/x-python",
   "name": "python",
   "nbconvert_exporter": "python",
   "pygments_lexer": "ipython3",
   "version": "3.11.5"
  }
 },
 "nbformat": 4,
 "nbformat_minor": 5
}
