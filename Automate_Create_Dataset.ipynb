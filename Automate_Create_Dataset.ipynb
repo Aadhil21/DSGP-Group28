{
 "cells": [
  {
   "cell_type": "code",
   "outputs": [],
   "source": [
    "import pandas as pd\n",
    "import numpy as np\n",
    "import matplotlib.pyplot as plt\n",
    "import mediapipe as mp\n",
    "import cv2\n",
    "import os"
   ],
   "metadata": {
    "collapsed": false,
    "ExecuteTime": {
     "end_time": "2024-02-18T13:02:49.355744200Z",
     "start_time": "2024-02-18T13:02:49.271505Z"
    }
   },
   "id": "1f1888f03fed0e69",
   "execution_count": 10
  },
  {
   "cell_type": "code",
   "outputs": [],
   "source": [
    "mp_pose = mp.solutions.pose\n",
    "mp_drawing = mp.solutions.drawing_utils\n",
    "pose = mp_pose.Pose(min_detection_confidence=0.6,\n",
    "                    min_tracking_confidence=0.6,\n",
    "                    static_image_mode=False,\n",
    "                    smooth_landmarks=True,\n",
    "                    model_complexity=2)"
   ],
   "metadata": {
    "collapsed": false,
    "ExecuteTime": {
     "end_time": "2024-02-18T13:02:49.617072400Z",
     "start_time": "2024-02-18T13:02:49.382513600Z"
    }
   },
   "id": "a6fc8e8b81d259f9",
   "execution_count": 11
  },
  {
   "cell_type": "code",
   "outputs": [],
   "source": [
    "desired_width = 480\n",
    "desired_height = 360"
   ],
   "metadata": {
    "collapsed": false,
    "ExecuteTime": {
     "end_time": "2024-02-18T13:02:49.650387500Z",
     "start_time": "2024-02-18T13:02:49.627499Z"
    }
   },
   "id": "7aaebbb625eefcee",
   "execution_count": 12
  },
  {
   "cell_type": "code",
   "outputs": [],
   "source": [
    "def calculate_angle(row):\n",
    "    import math\n",
    "    row = abs(row)\n",
    "\n",
    "    # Accessing columns by their index positions (0 to 5) from the row\n",
    "    radians = math.atan2(row[5] - row[3], row[4] - row[2]) - math.atan2(row[1] - row[3], row[0] - row[2])\n",
    "    angle = math.degrees(radians)\n",
    "    if angle < 0:\n",
    "        angle += 360\n",
    "    return angle"
   ],
   "metadata": {
    "collapsed": false,
    "ExecuteTime": {
     "end_time": "2024-02-18T13:02:49.701585400Z",
     "start_time": "2024-02-18T13:02:49.664666400Z"
    }
   },
   "id": "b482cfa96b67af6",
   "execution_count": 13
  },
  {
   "cell_type": "code",
   "outputs": [],
   "source": [
    "def processVideo(VideoFile, positive=True):\n",
    "    cap = cv2.VideoCapture(VideoFile)\n",
    "    \n",
    "    data_dict = {}\n",
    "    \n",
    "    for landmark in mp_pose.PoseLandmark:\n",
    "        x_list_name = f\"{landmark.name}_Point_x\"\n",
    "        y_list_name = f\"{landmark.name}_Point_y\"\n",
    "        z_list_name = f\"{landmark.name}_Point_z\"\n",
    "        visibility_list_name = f\"{landmark.name}_visibility\"\n",
    "    \n",
    "        data_dict[x_list_name] = []\n",
    "        data_dict[y_list_name] = []\n",
    "        data_dict[z_list_name] = []\n",
    "        data_dict[visibility_list_name] = []\n",
    "    \n",
    "    while cap.isOpened():\n",
    "        success, image = cap.read()\n",
    "        if not success:\n",
    "            break\n",
    "\n",
    "        image_rgb = cv2.cvtColor(image, cv2.COLOR_BGR2RGB)\n",
    "        results = pose.process(image_rgb)\n",
    "\n",
    "        if results.pose_landmarks:\n",
    "\n",
    "            for landmark in mp_pose.PoseLandmark:\n",
    "                x_list_name = f\"{landmark.name}_Point_x\"\n",
    "                y_list_name = f\"{landmark.name}_Point_y\"\n",
    "                z_list_name = f\"{landmark.name}_Point_z\"\n",
    "                visibility_list_name = f\"{landmark.name}_visibility\"\n",
    "\n",
    "                data_dict[x_list_name].append(results.pose_landmarks.landmark[landmark].x)\n",
    "                data_dict[y_list_name].append(results.pose_landmarks.landmark[landmark].y)\n",
    "                data_dict[z_list_name].append(results.pose_landmarks.landmark[landmark].z)\n",
    "                data_dict[visibility_list_name].append(results.pose_landmarks.landmark[landmark].visibility)\n",
    "\n",
    "        if cv2.waitKey(1) & 0xFF == ord('q'):\n",
    "            break\n",
    "\n",
    "    cap.release()\n",
    "    cv2.destroyAllWindows()\n",
    "\n",
    "    df = pd.DataFrame(data_dict)\n",
    "    Angles_df = pd.DataFrame()\n",
    "\n",
    "    Angle_At_Right_Elbow = df[[\n",
    "        'RIGHT_WRIST_Point_x', 'RIGHT_WRIST_Point_y',\n",
    "        'RIGHT_ELBOW_Point_x', 'RIGHT_ELBOW_Point_y',\n",
    "        'RIGHT_SHOULDER_Point_x', 'RIGHT_SHOULDER_Point_y'\n",
    "    ]]\n",
    "\n",
    "    Angles_df['Angle_At_Right_Elbow'] = Angle_At_Right_Elbow.apply(calculate_angle, axis=1)\n",
    "\n",
    "    Angle_At_Left_Elbow = df[[\n",
    "        'LEFT_WRIST_Point_x', 'LEFT_WRIST_Point_y',\n",
    "        'LEFT_ELBOW_Point_x', 'LEFT_ELBOW_Point_y',\n",
    "        'LEFT_SHOULDER_Point_x', 'LEFT_SHOULDER_Point_y'\n",
    "    ]]\n",
    "    Angles_df['Angle_At_Left_Elbow'] = Angle_At_Left_Elbow.apply(calculate_angle, axis=1)\n",
    "\n",
    "    # Calculate angle at right shoulder\n",
    "    Angle_At_Right_Shoulder = df[[\n",
    "        'RIGHT_ELBOW_Point_x', 'RIGHT_ELBOW_Point_y',\n",
    "        'RIGHT_SHOULDER_Point_x', 'RIGHT_SHOULDER_Point_y',\n",
    "        'RIGHT_HIP_Point_x', 'RIGHT_HIP_Point_y'\n",
    "    ]]\n",
    "    Angles_df['Angle_At_Right_Shoulder'] = Angle_At_Right_Shoulder.apply(calculate_angle, axis=1)\n",
    "\n",
    "    # Calculate angle at left shoulder\n",
    "    Angle_At_Left_Shoulder = df[[\n",
    "        'LEFT_ELBOW_Point_x', 'LEFT_ELBOW_Point_y',\n",
    "        'LEFT_SHOULDER_Point_x', 'LEFT_SHOULDER_Point_y',\n",
    "        'LEFT_HIP_Point_x', 'LEFT_HIP_Point_y'\n",
    "    ]]\n",
    "    Angles_df['Angle_At_Left_Shoulder'] = Angle_At_Left_Shoulder.apply(calculate_angle, axis=1)\n",
    "\n",
    "    # Calculate angle at right knee (example)\n",
    "    Angle_At_Right_Knee = df[[\n",
    "        'RIGHT_HIP_Point_x', 'RIGHT_HIP_Point_y',\n",
    "        'RIGHT_KNEE_Point_x', 'RIGHT_KNEE_Point_y',\n",
    "        'RIGHT_ANKLE_Point_x', 'RIGHT_ANKLE_Point_y'\n",
    "    ]]\n",
    "    Angles_df['Angle_At_Right_Knee'] = Angle_At_Right_Knee.apply(calculate_angle, axis=1)\n",
    "\n",
    "    # Calculate angle at left knee (example)\n",
    "    Angle_At_Left_Knee = df[[\n",
    "        'LEFT_HIP_Point_x', 'LEFT_HIP_Point_y',\n",
    "        'LEFT_KNEE_Point_x', 'LEFT_KNEE_Point_y',\n",
    "        'LEFT_ANKLE_Point_x', 'LEFT_ANKLE_Point_y'\n",
    "    ]]\n",
    "    Angles_df['Angle_At_Left_Knee'] = Angle_At_Left_Knee.apply(calculate_angle, axis=1)\n",
    "\n",
    "    # Calculate angle at right hip\n",
    "    Angle_At_Right_Hip = df[[\n",
    "        'RIGHT_SHOULDER_Point_x', 'RIGHT_SHOULDER_Point_y',\n",
    "        'RIGHT_HIP_Point_x', 'RIGHT_HIP_Point_y',\n",
    "        'RIGHT_KNEE_Point_x', 'RIGHT_KNEE_Point_y'\n",
    "    ]]\n",
    "    Angles_df['Angle_At_Right_Hip'] = Angle_At_Right_Hip.apply(calculate_angle, axis=1)\n",
    "\n",
    "    # Calculate angle at left hip\n",
    "    Angle_At_Left_Hip = df[[\n",
    "        'LEFT_SHOULDER_Point_x', 'LEFT_SHOULDER_Point_y',\n",
    "        'LEFT_HIP_Point_x', 'LEFT_HIP_Point_y',\n",
    "        'LEFT_KNEE_Point_x', 'LEFT_KNEE_Point_y'\n",
    "    ]]\n",
    "    Angles_df['Angle_At_Left_Hip'] = Angle_At_Left_Hip.apply(calculate_angle, axis=1)\n",
    "\n",
    "    # Calculate angle at neck (example)\n",
    "    Angle_At_Neck = df[[\n",
    "        'LEFT_SHOULDER_Point_x', 'LEFT_SHOULDER_Point_y',\n",
    "        'NOSE_Point_x', 'NOSE_Point_y',\n",
    "        'RIGHT_SHOULDER_Point_x', 'RIGHT_SHOULDER_Point_y'\n",
    "    ]]\n",
    "    Angles_df['Angle_At_Neck'] = Angle_At_Neck.apply(calculate_angle, axis=1)\n",
    "\n",
    "    label = 1 if positive else 0\n",
    "\n",
    "    return Angles_df.assign(Label=label)"
   ],
   "metadata": {
    "collapsed": false,
    "ExecuteTime": {
     "end_time": "2024-02-18T13:02:49.799058100Z",
     "start_time": "2024-02-18T13:02:49.772691600Z"
    }
   },
   "id": "61b48d0d64f2519c",
   "execution_count": 14
  },
  {
   "cell_type": "code",
   "outputs": [],
   "source": [
    "frame_count = 0\n",
    "frame_numbers = []"
   ],
   "metadata": {
    "collapsed": false,
    "ExecuteTime": {
     "end_time": "2024-02-18T13:02:49.820172800Z",
     "start_time": "2024-02-18T13:02:49.806289900Z"
    }
   },
   "id": "171d38a3dbcdc236",
   "execution_count": 15
  },
  {
   "cell_type": "code",
   "outputs": [
    {
     "name": "stdout",
     "output_type": "stream",
     "text": [
      "File in process : PushUp.mp4\n"
     ]
    },
    {
     "name": "stderr",
     "output_type": "stream",
     "text": [
      "C:\\Python311\\Lib\\site-packages\\google\\protobuf\\symbol_database.py:55: UserWarning: SymbolDatabase.GetPrototype() is deprecated. Please use message_factory.GetMessageClass() instead. SymbolDatabase.GetPrototype() will be removed soon.\n",
      "  warnings.warn('SymbolDatabase.GetPrototype() is deprecated. Please '\n"
     ]
    },
    {
     "name": "stdout",
     "output_type": "stream",
     "text": [
      "<class 'pandas.core.frame.DataFrame'>\n",
      "RangeIndex: 301 entries, 0 to 300\n",
      "Data columns (total 10 columns):\n",
      " #   Column                   Non-Null Count  Dtype  \n",
      "---  ------                   --------------  -----  \n",
      " 0   Angle_At_Right_Elbow     301 non-null    float64\n",
      " 1   Angle_At_Left_Elbow      301 non-null    float64\n",
      " 2   Angle_At_Right_Shoulder  301 non-null    float64\n",
      " 3   Angle_At_Left_Shoulder   301 non-null    float64\n",
      " 4   Angle_At_Right_Knee      301 non-null    float64\n",
      " 5   Angle_At_Left_Knee       301 non-null    float64\n",
      " 6   Angle_At_Right_Hip       301 non-null    float64\n",
      " 7   Angle_At_Left_Hip        301 non-null    float64\n",
      " 8   Angle_At_Neck            301 non-null    float64\n",
      " 9   Label                    301 non-null    int64  \n",
      "dtypes: float64(9), int64(1)\n",
      "memory usage: 23.6 KB\n",
      "None\n",
      "File in process : PushUp2.mp4\n"
     ]
    },
    {
     "name": "stderr",
     "output_type": "stream",
     "text": [
      "C:\\Python311\\Lib\\site-packages\\google\\protobuf\\symbol_database.py:55: UserWarning: SymbolDatabase.GetPrototype() is deprecated. Please use message_factory.GetMessageClass() instead. SymbolDatabase.GetPrototype() will be removed soon.\n",
      "  warnings.warn('SymbolDatabase.GetPrototype() is deprecated. Please '\n"
     ]
    },
    {
     "name": "stdout",
     "output_type": "stream",
     "text": [
      "<class 'pandas.core.frame.DataFrame'>\n",
      "RangeIndex: 688 entries, 0 to 687\n",
      "Data columns (total 10 columns):\n",
      " #   Column                   Non-Null Count  Dtype  \n",
      "---  ------                   --------------  -----  \n",
      " 0   Angle_At_Right_Elbow     688 non-null    float64\n",
      " 1   Angle_At_Left_Elbow      688 non-null    float64\n",
      " 2   Angle_At_Right_Shoulder  688 non-null    float64\n",
      " 3   Angle_At_Left_Shoulder   688 non-null    float64\n",
      " 4   Angle_At_Right_Knee      688 non-null    float64\n",
      " 5   Angle_At_Left_Knee       688 non-null    float64\n",
      " 6   Angle_At_Right_Hip       688 non-null    float64\n",
      " 7   Angle_At_Left_Hip        688 non-null    float64\n",
      " 8   Angle_At_Neck            688 non-null    float64\n",
      " 9   Label                    688 non-null    int64  \n",
      "dtypes: float64(9), int64(1)\n",
      "memory usage: 53.9 KB\n",
      "None\n",
      "File in process : WPushUp.mp4\n"
     ]
    },
    {
     "name": "stderr",
     "output_type": "stream",
     "text": [
      "C:\\Python311\\Lib\\site-packages\\google\\protobuf\\symbol_database.py:55: UserWarning: SymbolDatabase.GetPrototype() is deprecated. Please use message_factory.GetMessageClass() instead. SymbolDatabase.GetPrototype() will be removed soon.\n",
      "  warnings.warn('SymbolDatabase.GetPrototype() is deprecated. Please '\n"
     ]
    },
    {
     "name": "stdout",
     "output_type": "stream",
     "text": [
      "<class 'pandas.core.frame.DataFrame'>\n",
      "RangeIndex: 938 entries, 0 to 937\n",
      "Data columns (total 10 columns):\n",
      " #   Column                   Non-Null Count  Dtype  \n",
      "---  ------                   --------------  -----  \n",
      " 0   Angle_At_Right_Elbow     938 non-null    float64\n",
      " 1   Angle_At_Left_Elbow      938 non-null    float64\n",
      " 2   Angle_At_Right_Shoulder  938 non-null    float64\n",
      " 3   Angle_At_Left_Shoulder   938 non-null    float64\n",
      " 4   Angle_At_Right_Knee      938 non-null    float64\n",
      " 5   Angle_At_Left_Knee       938 non-null    float64\n",
      " 6   Angle_At_Right_Hip       938 non-null    float64\n",
      " 7   Angle_At_Left_Hip        938 non-null    float64\n",
      " 8   Angle_At_Neck            938 non-null    float64\n",
      " 9   Label                    938 non-null    int64  \n",
      "dtypes: float64(9), int64(1)\n",
      "memory usage: 73.4 KB\n",
      "None\n",
      "Data saved to Datasets/label.xlsx\n"
     ]
    }
   ],
   "source": [
    "dataset = pd.DataFrame()\n",
    "\n",
    "VideoFiles = os.listdir('Videos')\n",
    "VideoFiles.remove('WPushUp2.mp4')\n",
    "\n",
    "for VideoFile in VideoFiles:\n",
    "    label = False if VideoFile.startswith('W') else True\n",
    "    print(f'File in process : {VideoFile}')\n",
    "    \n",
    "    angles_dataset = processVideo(f'Videos/{VideoFile}', positive=label)\n",
    "    dataset = pd.concat([dataset, angles_dataset], ignore_index=True)\n",
    "    print(dataset.info())\n",
    "\n",
    "dataset.to_excel('Datasets/label.xlsx', index=False)\n",
    "print(f\"Data saved to Datasets/label.xlsx\")"
   ],
   "metadata": {
    "collapsed": false,
    "ExecuteTime": {
     "end_time": "2024-02-18T13:05:44.876120300Z",
     "start_time": "2024-02-18T13:02:49.829503600Z"
    }
   },
   "id": "e2dd9288bb84553e",
   "execution_count": 16
  },
  {
   "cell_type": "code",
   "outputs": [],
   "source": [],
   "metadata": {
    "collapsed": false,
    "ExecuteTime": {
     "end_time": "2024-02-18T13:05:44.894257400Z",
     "start_time": "2024-02-18T13:05:44.872723400Z"
    }
   },
   "id": "2d6c57616d5a7bb8",
   "execution_count": 16
  }
 ],
 "metadata": {
  "kernelspec": {
   "display_name": "Python 3",
   "language": "python",
   "name": "python3"
  },
  "language_info": {
   "codemirror_mode": {
    "name": "ipython",
    "version": 2
   },
   "file_extension": ".py",
   "mimetype": "text/x-python",
   "name": "python",
   "nbconvert_exporter": "python",
   "pygments_lexer": "ipython2",
   "version": "2.7.6"
  }
 },
 "nbformat": 4,
 "nbformat_minor": 5
}
