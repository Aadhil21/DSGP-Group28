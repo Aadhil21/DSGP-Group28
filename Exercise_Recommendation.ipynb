{
  "cells": [
    {
      "cell_type": "markdown",
      "metadata": {},
      "source": [
        "### Importing necessary libraries"
      ]
    },
    {
      "cell_type": "code",
      "execution_count": 132,
      "metadata": {
        "id": "sEEbQpggYQIE"
      },
      "outputs": [],
      "source": [
        "import numpy as np\n",
        "import pandas as pd\n",
        "import matplotlib.pyplot as plt\n",
        "import seaborn as sns\n",
        "import warnings"
      ]
    },
    {
      "cell_type": "code",
      "execution_count": 133,
      "metadata": {},
      "outputs": [],
      "source": [
        "warnings.filterwarnings('ignore') # Ignore warning\n",
        "plt.style.use('dark_background') # Dark background for plot"
      ]
    },
    {
      "cell_type": "markdown",
      "metadata": {},
      "source": [
        "Read CSV file"
      ]
    },
    {
      "cell_type": "code",
      "execution_count": 134,
      "metadata": {
        "id": "4jfHnLVMleon"
      },
      "outputs": [],
      "source": [
        "data = pd.read_csv('Datasets/exercises.csv')"
      ]
    },
    {
      "cell_type": "markdown",
      "metadata": {},
      "source": [
        "First 5 data of dataset"
      ]
    },
    {
      "cell_type": "code",
      "execution_count": 135,
      "metadata": {
        "colab": {
          "base_uri": "https://localhost:8080/",
          "height": 440
        },
        "id": "jEWc1JA93EUj",
        "outputId": "1fdfc74b-05ba-49d1-b9bb-78f24221e9d0"
      },
      "outputs": [
        {
          "data": {
            "text/html": [
              "<div>\n",
              "<style scoped>\n",
              "    .dataframe tbody tr th:only-of-type {\n",
              "        vertical-align: middle;\n",
              "    }\n",
              "\n",
              "    .dataframe tbody tr th {\n",
              "        vertical-align: top;\n",
              "    }\n",
              "\n",
              "    .dataframe thead th {\n",
              "        text-align: right;\n",
              "    }\n",
              "</style>\n",
              "<table border=\"1\" class=\"dataframe\">\n",
              "  <thead>\n",
              "    <tr style=\"text-align: right;\">\n",
              "      <th></th>\n",
              "      <th>bodyPart</th>\n",
              "      <th>equipment</th>\n",
              "      <th>gifUrl</th>\n",
              "      <th>id</th>\n",
              "      <th>name</th>\n",
              "      <th>target</th>\n",
              "      <th>secondaryMuscles/0</th>\n",
              "      <th>secondaryMuscles/1</th>\n",
              "      <th>instructions/0</th>\n",
              "      <th>instructions/1</th>\n",
              "      <th>...</th>\n",
              "      <th>instructions/5</th>\n",
              "      <th>secondaryMuscles/2</th>\n",
              "      <th>instructions/6</th>\n",
              "      <th>instructions/7</th>\n",
              "      <th>secondaryMuscles/3</th>\n",
              "      <th>instructions/8</th>\n",
              "      <th>secondaryMuscles/4</th>\n",
              "      <th>instructions/9</th>\n",
              "      <th>secondaryMuscles/5</th>\n",
              "      <th>instructions/10</th>\n",
              "    </tr>\n",
              "  </thead>\n",
              "  <tbody>\n",
              "    <tr>\n",
              "      <th>0</th>\n",
              "      <td>waist</td>\n",
              "      <td>body weight</td>\n",
              "      <td>https://v2.exercisedb.io/image/MOnK4iG0MEt9h8</td>\n",
              "      <td>1</td>\n",
              "      <td>3/4 sit-up</td>\n",
              "      <td>abs</td>\n",
              "      <td>hip flexors</td>\n",
              "      <td>lower back</td>\n",
              "      <td>Lie flat on your back with your knees bent and...</td>\n",
              "      <td>Place your hands behind your head with your el...</td>\n",
              "      <td>...</td>\n",
              "      <td>NaN</td>\n",
              "      <td>NaN</td>\n",
              "      <td>NaN</td>\n",
              "      <td>NaN</td>\n",
              "      <td>NaN</td>\n",
              "      <td>NaN</td>\n",
              "      <td>NaN</td>\n",
              "      <td>NaN</td>\n",
              "      <td>NaN</td>\n",
              "      <td>NaN</td>\n",
              "    </tr>\n",
              "    <tr>\n",
              "      <th>1</th>\n",
              "      <td>waist</td>\n",
              "      <td>body weight</td>\n",
              "      <td>https://v2.exercisedb.io/image/PERWLDGUxVbpHS</td>\n",
              "      <td>2</td>\n",
              "      <td>45° side bend</td>\n",
              "      <td>abs</td>\n",
              "      <td>obliques</td>\n",
              "      <td>NaN</td>\n",
              "      <td>Stand with your feet shoulder-width apart and ...</td>\n",
              "      <td>Keeping your back straight and your core engag...</td>\n",
              "      <td>...</td>\n",
              "      <td>NaN</td>\n",
              "      <td>NaN</td>\n",
              "      <td>NaN</td>\n",
              "      <td>NaN</td>\n",
              "      <td>NaN</td>\n",
              "      <td>NaN</td>\n",
              "      <td>NaN</td>\n",
              "      <td>NaN</td>\n",
              "      <td>NaN</td>\n",
              "      <td>NaN</td>\n",
              "    </tr>\n",
              "    <tr>\n",
              "      <th>2</th>\n",
              "      <td>waist</td>\n",
              "      <td>body weight</td>\n",
              "      <td>https://v2.exercisedb.io/image/PLr4yo3j-f1amp</td>\n",
              "      <td>3</td>\n",
              "      <td>air bike</td>\n",
              "      <td>abs</td>\n",
              "      <td>hip flexors</td>\n",
              "      <td>NaN</td>\n",
              "      <td>Lie flat on your back with your hands placed b...</td>\n",
              "      <td>Lift your legs off the ground and bend your kn...</td>\n",
              "      <td>...</td>\n",
              "      <td>NaN</td>\n",
              "      <td>NaN</td>\n",
              "      <td>NaN</td>\n",
              "      <td>NaN</td>\n",
              "      <td>NaN</td>\n",
              "      <td>NaN</td>\n",
              "      <td>NaN</td>\n",
              "      <td>NaN</td>\n",
              "      <td>NaN</td>\n",
              "      <td>NaN</td>\n",
              "    </tr>\n",
              "    <tr>\n",
              "      <th>3</th>\n",
              "      <td>upper legs</td>\n",
              "      <td>body weight</td>\n",
              "      <td>https://v2.exercisedb.io/image/XPQwM7HECjgNFE</td>\n",
              "      <td>1512</td>\n",
              "      <td>all fours squad stretch</td>\n",
              "      <td>quads</td>\n",
              "      <td>hamstrings</td>\n",
              "      <td>glutes</td>\n",
              "      <td>Start on all fours with your hands directly un...</td>\n",
              "      <td>Extend one leg straight back, keeping your kne...</td>\n",
              "      <td>...</td>\n",
              "      <td>NaN</td>\n",
              "      <td>NaN</td>\n",
              "      <td>NaN</td>\n",
              "      <td>NaN</td>\n",
              "      <td>NaN</td>\n",
              "      <td>NaN</td>\n",
              "      <td>NaN</td>\n",
              "      <td>NaN</td>\n",
              "      <td>NaN</td>\n",
              "      <td>NaN</td>\n",
              "    </tr>\n",
              "    <tr>\n",
              "      <th>4</th>\n",
              "      <td>waist</td>\n",
              "      <td>body weight</td>\n",
              "      <td>https://v2.exercisedb.io/image/5nYph4eUGNiEdf</td>\n",
              "      <td>6</td>\n",
              "      <td>alternate heel touchers</td>\n",
              "      <td>abs</td>\n",
              "      <td>obliques</td>\n",
              "      <td>NaN</td>\n",
              "      <td>Lie flat on your back with your knees bent and...</td>\n",
              "      <td>Extend your arms straight out to the sides, pa...</td>\n",
              "      <td>...</td>\n",
              "      <td>NaN</td>\n",
              "      <td>NaN</td>\n",
              "      <td>NaN</td>\n",
              "      <td>NaN</td>\n",
              "      <td>NaN</td>\n",
              "      <td>NaN</td>\n",
              "      <td>NaN</td>\n",
              "      <td>NaN</td>\n",
              "      <td>NaN</td>\n",
              "      <td>NaN</td>\n",
              "    </tr>\n",
              "  </tbody>\n",
              "</table>\n",
              "<p>5 rows × 23 columns</p>\n",
              "</div>"
            ],
            "text/plain": [
              "     bodyPart    equipment                                         gifUrl  \\\n",
              "0       waist  body weight  https://v2.exercisedb.io/image/MOnK4iG0MEt9h8   \n",
              "1       waist  body weight  https://v2.exercisedb.io/image/PERWLDGUxVbpHS   \n",
              "2       waist  body weight  https://v2.exercisedb.io/image/PLr4yo3j-f1amp   \n",
              "3  upper legs  body weight  https://v2.exercisedb.io/image/XPQwM7HECjgNFE   \n",
              "4       waist  body weight  https://v2.exercisedb.io/image/5nYph4eUGNiEdf   \n",
              "\n",
              "     id                     name target secondaryMuscles/0 secondaryMuscles/1  \\\n",
              "0     1               3/4 sit-up    abs        hip flexors         lower back   \n",
              "1     2            45° side bend    abs           obliques                NaN   \n",
              "2     3                 air bike    abs        hip flexors                NaN   \n",
              "3  1512  all fours squad stretch  quads         hamstrings             glutes   \n",
              "4     6  alternate heel touchers    abs           obliques                NaN   \n",
              "\n",
              "                                      instructions/0  \\\n",
              "0  Lie flat on your back with your knees bent and...   \n",
              "1  Stand with your feet shoulder-width apart and ...   \n",
              "2  Lie flat on your back with your hands placed b...   \n",
              "3  Start on all fours with your hands directly un...   \n",
              "4  Lie flat on your back with your knees bent and...   \n",
              "\n",
              "                                      instructions/1  ... instructions/5  \\\n",
              "0  Place your hands behind your head with your el...  ...            NaN   \n",
              "1  Keeping your back straight and your core engag...  ...            NaN   \n",
              "2  Lift your legs off the ground and bend your kn...  ...            NaN   \n",
              "3  Extend one leg straight back, keeping your kne...  ...            NaN   \n",
              "4  Extend your arms straight out to the sides, pa...  ...            NaN   \n",
              "\n",
              "  secondaryMuscles/2 instructions/6 instructions/7 secondaryMuscles/3  \\\n",
              "0                NaN            NaN            NaN                NaN   \n",
              "1                NaN            NaN            NaN                NaN   \n",
              "2                NaN            NaN            NaN                NaN   \n",
              "3                NaN            NaN            NaN                NaN   \n",
              "4                NaN            NaN            NaN                NaN   \n",
              "\n",
              "  instructions/8 secondaryMuscles/4 instructions/9 secondaryMuscles/5  \\\n",
              "0            NaN                NaN            NaN                NaN   \n",
              "1            NaN                NaN            NaN                NaN   \n",
              "2            NaN                NaN            NaN                NaN   \n",
              "3            NaN                NaN            NaN                NaN   \n",
              "4            NaN                NaN            NaN                NaN   \n",
              "\n",
              "  instructions/10  \n",
              "0             NaN  \n",
              "1             NaN  \n",
              "2             NaN  \n",
              "3             NaN  \n",
              "4             NaN  \n",
              "\n",
              "[5 rows x 23 columns]"
            ]
          },
          "execution_count": 135,
          "metadata": {},
          "output_type": "execute_result"
        }
      ],
      "source": [
        "data.head()"
      ]
    },
    {
      "cell_type": "code",
      "execution_count": 136,
      "metadata": {
        "colab": {
          "base_uri": "https://localhost:8080/"
        },
        "id": "lN213O-73CqF",
        "outputId": "fdaee2ec-e568-4b5b-9a3b-dd80bef8a04e"
      },
      "outputs": [
        {
          "data": {
            "text/plain": [
              "(1324, 23)"
            ]
          },
          "execution_count": 136,
          "metadata": {},
          "output_type": "execute_result"
        }
      ],
      "source": [
        "data.shape"
      ]
    },
    {
      "cell_type": "markdown",
      "metadata": {},
      "source": [
        "### Check for null values in dataset"
      ]
    },
    {
      "cell_type": "code",
      "execution_count": 137,
      "metadata": {
        "colab": {
          "base_uri": "https://localhost:8080/",
          "height": 439
        },
        "id": "jldXIRkc3h3H",
        "outputId": "55f2d181-57a7-4104-8ae3-1bf58fe3502e"
      },
      "outputs": [
        {
          "data": {
            "text/html": [
              "<div>\n",
              "<style scoped>\n",
              "    .dataframe tbody tr th:only-of-type {\n",
              "        vertical-align: middle;\n",
              "    }\n",
              "\n",
              "    .dataframe tbody tr th {\n",
              "        vertical-align: top;\n",
              "    }\n",
              "\n",
              "    .dataframe thead th {\n",
              "        text-align: right;\n",
              "    }\n",
              "</style>\n",
              "<table border=\"1\" class=\"dataframe\">\n",
              "  <thead>\n",
              "    <tr style=\"text-align: right;\">\n",
              "      <th></th>\n",
              "      <th>bodyPart</th>\n",
              "      <th>equipment</th>\n",
              "      <th>gifUrl</th>\n",
              "      <th>id</th>\n",
              "      <th>name</th>\n",
              "      <th>target</th>\n",
              "      <th>secondaryMuscles/0</th>\n",
              "      <th>secondaryMuscles/1</th>\n",
              "      <th>instructions/0</th>\n",
              "      <th>instructions/1</th>\n",
              "      <th>...</th>\n",
              "      <th>instructions/5</th>\n",
              "      <th>secondaryMuscles/2</th>\n",
              "      <th>instructions/6</th>\n",
              "      <th>instructions/7</th>\n",
              "      <th>secondaryMuscles/3</th>\n",
              "      <th>instructions/8</th>\n",
              "      <th>secondaryMuscles/4</th>\n",
              "      <th>instructions/9</th>\n",
              "      <th>secondaryMuscles/5</th>\n",
              "      <th>instructions/10</th>\n",
              "    </tr>\n",
              "  </thead>\n",
              "  <tbody>\n",
              "    <tr>\n",
              "      <th>0</th>\n",
              "      <td>False</td>\n",
              "      <td>False</td>\n",
              "      <td>False</td>\n",
              "      <td>False</td>\n",
              "      <td>False</td>\n",
              "      <td>False</td>\n",
              "      <td>False</td>\n",
              "      <td>False</td>\n",
              "      <td>False</td>\n",
              "      <td>False</td>\n",
              "      <td>...</td>\n",
              "      <td>True</td>\n",
              "      <td>True</td>\n",
              "      <td>True</td>\n",
              "      <td>True</td>\n",
              "      <td>True</td>\n",
              "      <td>True</td>\n",
              "      <td>True</td>\n",
              "      <td>True</td>\n",
              "      <td>True</td>\n",
              "      <td>True</td>\n",
              "    </tr>\n",
              "    <tr>\n",
              "      <th>1</th>\n",
              "      <td>False</td>\n",
              "      <td>False</td>\n",
              "      <td>False</td>\n",
              "      <td>False</td>\n",
              "      <td>False</td>\n",
              "      <td>False</td>\n",
              "      <td>False</td>\n",
              "      <td>True</td>\n",
              "      <td>False</td>\n",
              "      <td>False</td>\n",
              "      <td>...</td>\n",
              "      <td>True</td>\n",
              "      <td>True</td>\n",
              "      <td>True</td>\n",
              "      <td>True</td>\n",
              "      <td>True</td>\n",
              "      <td>True</td>\n",
              "      <td>True</td>\n",
              "      <td>True</td>\n",
              "      <td>True</td>\n",
              "      <td>True</td>\n",
              "    </tr>\n",
              "    <tr>\n",
              "      <th>2</th>\n",
              "      <td>False</td>\n",
              "      <td>False</td>\n",
              "      <td>False</td>\n",
              "      <td>False</td>\n",
              "      <td>False</td>\n",
              "      <td>False</td>\n",
              "      <td>False</td>\n",
              "      <td>True</td>\n",
              "      <td>False</td>\n",
              "      <td>False</td>\n",
              "      <td>...</td>\n",
              "      <td>True</td>\n",
              "      <td>True</td>\n",
              "      <td>True</td>\n",
              "      <td>True</td>\n",
              "      <td>True</td>\n",
              "      <td>True</td>\n",
              "      <td>True</td>\n",
              "      <td>True</td>\n",
              "      <td>True</td>\n",
              "      <td>True</td>\n",
              "    </tr>\n",
              "    <tr>\n",
              "      <th>3</th>\n",
              "      <td>False</td>\n",
              "      <td>False</td>\n",
              "      <td>False</td>\n",
              "      <td>False</td>\n",
              "      <td>False</td>\n",
              "      <td>False</td>\n",
              "      <td>False</td>\n",
              "      <td>False</td>\n",
              "      <td>False</td>\n",
              "      <td>False</td>\n",
              "      <td>...</td>\n",
              "      <td>True</td>\n",
              "      <td>True</td>\n",
              "      <td>True</td>\n",
              "      <td>True</td>\n",
              "      <td>True</td>\n",
              "      <td>True</td>\n",
              "      <td>True</td>\n",
              "      <td>True</td>\n",
              "      <td>True</td>\n",
              "      <td>True</td>\n",
              "    </tr>\n",
              "    <tr>\n",
              "      <th>4</th>\n",
              "      <td>False</td>\n",
              "      <td>False</td>\n",
              "      <td>False</td>\n",
              "      <td>False</td>\n",
              "      <td>False</td>\n",
              "      <td>False</td>\n",
              "      <td>False</td>\n",
              "      <td>True</td>\n",
              "      <td>False</td>\n",
              "      <td>False</td>\n",
              "      <td>...</td>\n",
              "      <td>True</td>\n",
              "      <td>True</td>\n",
              "      <td>True</td>\n",
              "      <td>True</td>\n",
              "      <td>True</td>\n",
              "      <td>True</td>\n",
              "      <td>True</td>\n",
              "      <td>True</td>\n",
              "      <td>True</td>\n",
              "      <td>True</td>\n",
              "    </tr>\n",
              "    <tr>\n",
              "      <th>...</th>\n",
              "      <td>...</td>\n",
              "      <td>...</td>\n",
              "      <td>...</td>\n",
              "      <td>...</td>\n",
              "      <td>...</td>\n",
              "      <td>...</td>\n",
              "      <td>...</td>\n",
              "      <td>...</td>\n",
              "      <td>...</td>\n",
              "      <td>...</td>\n",
              "      <td>...</td>\n",
              "      <td>...</td>\n",
              "      <td>...</td>\n",
              "      <td>...</td>\n",
              "      <td>...</td>\n",
              "      <td>...</td>\n",
              "      <td>...</td>\n",
              "      <td>...</td>\n",
              "      <td>...</td>\n",
              "      <td>...</td>\n",
              "      <td>...</td>\n",
              "    </tr>\n",
              "    <tr>\n",
              "      <th>1319</th>\n",
              "      <td>False</td>\n",
              "      <td>False</td>\n",
              "      <td>False</td>\n",
              "      <td>False</td>\n",
              "      <td>False</td>\n",
              "      <td>False</td>\n",
              "      <td>False</td>\n",
              "      <td>False</td>\n",
              "      <td>False</td>\n",
              "      <td>False</td>\n",
              "      <td>...</td>\n",
              "      <td>True</td>\n",
              "      <td>True</td>\n",
              "      <td>True</td>\n",
              "      <td>True</td>\n",
              "      <td>True</td>\n",
              "      <td>True</td>\n",
              "      <td>True</td>\n",
              "      <td>True</td>\n",
              "      <td>True</td>\n",
              "      <td>True</td>\n",
              "    </tr>\n",
              "    <tr>\n",
              "      <th>1320</th>\n",
              "      <td>False</td>\n",
              "      <td>False</td>\n",
              "      <td>False</td>\n",
              "      <td>False</td>\n",
              "      <td>False</td>\n",
              "      <td>False</td>\n",
              "      <td>False</td>\n",
              "      <td>False</td>\n",
              "      <td>False</td>\n",
              "      <td>False</td>\n",
              "      <td>...</td>\n",
              "      <td>True</td>\n",
              "      <td>False</td>\n",
              "      <td>True</td>\n",
              "      <td>True</td>\n",
              "      <td>True</td>\n",
              "      <td>True</td>\n",
              "      <td>True</td>\n",
              "      <td>True</td>\n",
              "      <td>True</td>\n",
              "      <td>True</td>\n",
              "    </tr>\n",
              "    <tr>\n",
              "      <th>1321</th>\n",
              "      <td>False</td>\n",
              "      <td>False</td>\n",
              "      <td>False</td>\n",
              "      <td>False</td>\n",
              "      <td>False</td>\n",
              "      <td>False</td>\n",
              "      <td>False</td>\n",
              "      <td>False</td>\n",
              "      <td>False</td>\n",
              "      <td>False</td>\n",
              "      <td>...</td>\n",
              "      <td>False</td>\n",
              "      <td>False</td>\n",
              "      <td>True</td>\n",
              "      <td>True</td>\n",
              "      <td>True</td>\n",
              "      <td>True</td>\n",
              "      <td>True</td>\n",
              "      <td>True</td>\n",
              "      <td>True</td>\n",
              "      <td>True</td>\n",
              "    </tr>\n",
              "    <tr>\n",
              "      <th>1322</th>\n",
              "      <td>False</td>\n",
              "      <td>False</td>\n",
              "      <td>False</td>\n",
              "      <td>False</td>\n",
              "      <td>False</td>\n",
              "      <td>False</td>\n",
              "      <td>False</td>\n",
              "      <td>False</td>\n",
              "      <td>False</td>\n",
              "      <td>False</td>\n",
              "      <td>...</td>\n",
              "      <td>True</td>\n",
              "      <td>True</td>\n",
              "      <td>True</td>\n",
              "      <td>True</td>\n",
              "      <td>True</td>\n",
              "      <td>True</td>\n",
              "      <td>True</td>\n",
              "      <td>True</td>\n",
              "      <td>True</td>\n",
              "      <td>True</td>\n",
              "    </tr>\n",
              "    <tr>\n",
              "      <th>1323</th>\n",
              "      <td>False</td>\n",
              "      <td>False</td>\n",
              "      <td>False</td>\n",
              "      <td>False</td>\n",
              "      <td>False</td>\n",
              "      <td>False</td>\n",
              "      <td>False</td>\n",
              "      <td>False</td>\n",
              "      <td>False</td>\n",
              "      <td>False</td>\n",
              "      <td>...</td>\n",
              "      <td>False</td>\n",
              "      <td>True</td>\n",
              "      <td>True</td>\n",
              "      <td>True</td>\n",
              "      <td>True</td>\n",
              "      <td>True</td>\n",
              "      <td>True</td>\n",
              "      <td>True</td>\n",
              "      <td>True</td>\n",
              "      <td>True</td>\n",
              "    </tr>\n",
              "  </tbody>\n",
              "</table>\n",
              "<p>1324 rows × 23 columns</p>\n",
              "</div>"
            ],
            "text/plain": [
              "      bodyPart  equipment  gifUrl     id   name  target  secondaryMuscles/0  \\\n",
              "0        False      False   False  False  False   False               False   \n",
              "1        False      False   False  False  False   False               False   \n",
              "2        False      False   False  False  False   False               False   \n",
              "3        False      False   False  False  False   False               False   \n",
              "4        False      False   False  False  False   False               False   \n",
              "...        ...        ...     ...    ...    ...     ...                 ...   \n",
              "1319     False      False   False  False  False   False               False   \n",
              "1320     False      False   False  False  False   False               False   \n",
              "1321     False      False   False  False  False   False               False   \n",
              "1322     False      False   False  False  False   False               False   \n",
              "1323     False      False   False  False  False   False               False   \n",
              "\n",
              "      secondaryMuscles/1  instructions/0  instructions/1  ...  instructions/5  \\\n",
              "0                  False           False           False  ...            True   \n",
              "1                   True           False           False  ...            True   \n",
              "2                   True           False           False  ...            True   \n",
              "3                  False           False           False  ...            True   \n",
              "4                   True           False           False  ...            True   \n",
              "...                  ...             ...             ...  ...             ...   \n",
              "1319               False           False           False  ...            True   \n",
              "1320               False           False           False  ...            True   \n",
              "1321               False           False           False  ...           False   \n",
              "1322               False           False           False  ...            True   \n",
              "1323               False           False           False  ...           False   \n",
              "\n",
              "      secondaryMuscles/2  instructions/6  instructions/7  secondaryMuscles/3  \\\n",
              "0                   True            True            True                True   \n",
              "1                   True            True            True                True   \n",
              "2                   True            True            True                True   \n",
              "3                   True            True            True                True   \n",
              "4                   True            True            True                True   \n",
              "...                  ...             ...             ...                 ...   \n",
              "1319                True            True            True                True   \n",
              "1320               False            True            True                True   \n",
              "1321               False            True            True                True   \n",
              "1322                True            True            True                True   \n",
              "1323                True            True            True                True   \n",
              "\n",
              "      instructions/8  secondaryMuscles/4  instructions/9  secondaryMuscles/5  \\\n",
              "0               True                True            True                True   \n",
              "1               True                True            True                True   \n",
              "2               True                True            True                True   \n",
              "3               True                True            True                True   \n",
              "4               True                True            True                True   \n",
              "...              ...                 ...             ...                 ...   \n",
              "1319            True                True            True                True   \n",
              "1320            True                True            True                True   \n",
              "1321            True                True            True                True   \n",
              "1322            True                True            True                True   \n",
              "1323            True                True            True                True   \n",
              "\n",
              "      instructions/10  \n",
              "0                True  \n",
              "1                True  \n",
              "2                True  \n",
              "3                True  \n",
              "4                True  \n",
              "...               ...  \n",
              "1319             True  \n",
              "1320             True  \n",
              "1321             True  \n",
              "1322             True  \n",
              "1323             True  \n",
              "\n",
              "[1324 rows x 23 columns]"
            ]
          },
          "execution_count": 137,
          "metadata": {},
          "output_type": "execute_result"
        }
      ],
      "source": [
        "data.isnull()"
      ]
    },
    {
      "cell_type": "markdown",
      "metadata": {},
      "source": [
        "### Total of null values\n"
      ]
    },
    {
      "cell_type": "code",
      "execution_count": 138,
      "metadata": {
        "colab": {
          "base_uri": "https://localhost:8080/"
        },
        "id": "wkiBCXLi3r1z",
        "outputId": "2cbcc13f-f7a0-4961-8a37-2a5fbc38b7f1"
      },
      "outputs": [
        {
          "data": {
            "text/plain": [
              "bodyPart                 0\n",
              "equipment                0\n",
              "gifUrl                   0\n",
              "id                       0\n",
              "name                     0\n",
              "target                   0\n",
              "secondaryMuscles/0       0\n",
              "secondaryMuscles/1     338\n",
              "instructions/0           0\n",
              "instructions/1           0\n",
              "instructions/2           0\n",
              "instructions/3           0\n",
              "instructions/4          82\n",
              "instructions/5         585\n",
              "secondaryMuscles/2    1091\n",
              "instructions/6        1011\n",
              "instructions/7        1232\n",
              "secondaryMuscles/3    1292\n",
              "instructions/8        1304\n",
              "secondaryMuscles/4    1320\n",
              "instructions/9        1319\n",
              "secondaryMuscles/5    1322\n",
              "instructions/10       1321\n",
              "dtype: int64"
            ]
          },
          "execution_count": 138,
          "metadata": {},
          "output_type": "execute_result"
        }
      ],
      "source": [
        "data.isnull().sum()"
      ]
    },
    {
      "cell_type": "markdown",
      "metadata": {},
      "source": [
        "### Info of dataset"
      ]
    },
    {
      "cell_type": "code",
      "execution_count": 139,
      "metadata": {
        "colab": {
          "base_uri": "https://localhost:8080/"
        },
        "id": "y9nEB9_Q3551",
        "outputId": "ed24f7c7-f530-48d3-c819-db85ca5d4d6b"
      },
      "outputs": [
        {
          "name": "stdout",
          "output_type": "stream",
          "text": [
            "<class 'pandas.core.frame.DataFrame'>\n",
            "RangeIndex: 1324 entries, 0 to 1323\n",
            "Data columns (total 23 columns):\n",
            " #   Column              Non-Null Count  Dtype \n",
            "---  ------              --------------  ----- \n",
            " 0   bodyPart            1324 non-null   object\n",
            " 1   equipment           1324 non-null   object\n",
            " 2   gifUrl              1324 non-null   object\n",
            " 3   id                  1324 non-null   int64 \n",
            " 4   name                1324 non-null   object\n",
            " 5   target              1324 non-null   object\n",
            " 6   secondaryMuscles/0  1324 non-null   object\n",
            " 7   secondaryMuscles/1  986 non-null    object\n",
            " 8   instructions/0      1324 non-null   object\n",
            " 9   instructions/1      1324 non-null   object\n",
            " 10  instructions/2      1324 non-null   object\n",
            " 11  instructions/3      1324 non-null   object\n",
            " 12  instructions/4      1242 non-null   object\n",
            " 13  instructions/5      739 non-null    object\n",
            " 14  secondaryMuscles/2  233 non-null    object\n",
            " 15  instructions/6      313 non-null    object\n",
            " 16  instructions/7      92 non-null     object\n",
            " 17  secondaryMuscles/3  32 non-null     object\n",
            " 18  instructions/8      20 non-null     object\n",
            " 19  secondaryMuscles/4  4 non-null      object\n",
            " 20  instructions/9      5 non-null      object\n",
            " 21  secondaryMuscles/5  2 non-null      object\n",
            " 22  instructions/10     3 non-null      object\n",
            "dtypes: int64(1), object(22)\n",
            "memory usage: 238.0+ KB\n"
          ]
        }
      ],
      "source": [
        "data.info()"
      ]
    },
    {
      "cell_type": "markdown",
      "metadata": {},
      "source": [
        "### Heatmap for null values in columns"
      ]
    },
    {
      "cell_type": "code",
      "execution_count": 140,
      "metadata": {
        "colab": {
          "base_uri": "https://localhost:8080/",
          "height": 573
        },
        "id": "vKchObl75UqZ",
        "outputId": "0fc66de4-7ea7-4e72-e3da-3bbfa6251197"
      },
      "outputs": [
        {
          "data": {
            "text/plain": [
              "<Axes: >"
            ]
          },
          "execution_count": 140,
          "metadata": {},
          "output_type": "execute_result"
        },
        {
          "data": {
            "image/png": "[encoded data removed]",
            "text/plain": [
              "<Figure size 640x480 with 1 Axes>"
            ]
          },
          "metadata": {},
          "output_type": "display_data"
        }
      ],
      "source": [
        "sns.heatmap(data.isnull(),yticklabels=False,cbar=False,cmap='viridis')"
      ]
    },
    {
      "cell_type": "markdown",
      "metadata": {},
      "source": [
        "### Join secondaryMuscle columns into one column"
      ]
    },
    {
      "cell_type": "code",
      "execution_count": 141,
      "metadata": {
        "id": "mH1BVo39K2gx"
      },
      "outputs": [],
      "source": [
        "selected_columns = ['secondaryMuscles/0', 'secondaryMuscles/1', 'secondaryMuscles/2', 'secondaryMuscles/3', 'secondaryMuscles/4', 'secondaryMuscles/5']\n",
        "\n",
        "data['secondaryMuscles'] = data[selected_columns].apply(lambda x: ', '.join(x.dropna().astype(str)), axis=1)"
      ]
    },
    {
      "cell_type": "markdown",
      "metadata": {},
      "source": [
        "### Drop unnecessary secondaryMuscle columns"
      ]
    },
    {
      "cell_type": "code",
      "execution_count": 142,
      "metadata": {
        "id": "2SoHkUpuMIQ1"
      },
      "outputs": [],
      "source": [
        "data.drop(columns=selected_columns, inplace=True)"
      ]
    },
    {
      "cell_type": "code",
      "execution_count": 143,
      "metadata": {
        "colab": {
          "base_uri": "https://localhost:8080/",
          "height": 445
        },
        "id": "Lr_wnc65MJD0",
        "outputId": "37487656-f0ba-4815-9b04-fddaf8245533"
      },
      "outputs": [
        {
          "data": {
            "text/html": [
              "<div>\n",
              "<style scoped>\n",
              "    .dataframe tbody tr th:only-of-type {\n",
              "        vertical-align: middle;\n",
              "    }\n",
              "\n",
              "    .dataframe tbody tr th {\n",
              "        vertical-align: top;\n",
              "    }\n",
              "\n",
              "    .dataframe thead th {\n",
              "        text-align: right;\n",
              "    }\n",
              "</style>\n",
              "<table border=\"1\" class=\"dataframe\">\n",
              "  <thead>\n",
              "    <tr style=\"text-align: right;\">\n",
              "      <th></th>\n",
              "      <th>bodyPart</th>\n",
              "      <th>equipment</th>\n",
              "      <th>gifUrl</th>\n",
              "      <th>id</th>\n",
              "      <th>name</th>\n",
              "      <th>target</th>\n",
              "      <th>instructions/0</th>\n",
              "      <th>instructions/1</th>\n",
              "      <th>instructions/2</th>\n",
              "      <th>instructions/3</th>\n",
              "      <th>instructions/4</th>\n",
              "      <th>instructions/5</th>\n",
              "      <th>instructions/6</th>\n",
              "      <th>instructions/7</th>\n",
              "      <th>instructions/8</th>\n",
              "      <th>instructions/9</th>\n",
              "      <th>instructions/10</th>\n",
              "      <th>secondaryMuscles</th>\n",
              "    </tr>\n",
              "  </thead>\n",
              "  <tbody>\n",
              "    <tr>\n",
              "      <th>0</th>\n",
              "      <td>waist</td>\n",
              "      <td>body weight</td>\n",
              "      <td>https://v2.exercisedb.io/image/MOnK4iG0MEt9h8</td>\n",
              "      <td>1</td>\n",
              "      <td>3/4 sit-up</td>\n",
              "      <td>abs</td>\n",
              "      <td>Lie flat on your back with your knees bent and...</td>\n",
              "      <td>Place your hands behind your head with your el...</td>\n",
              "      <td>Engaging your abs, slowly lift your upper body...</td>\n",
              "      <td>Pause for a moment at the top, then slowly low...</td>\n",
              "      <td>Repeat for the desired number of repetitions.</td>\n",
              "      <td>NaN</td>\n",
              "      <td>NaN</td>\n",
              "      <td>NaN</td>\n",
              "      <td>NaN</td>\n",
              "      <td>NaN</td>\n",
              "      <td>NaN</td>\n",
              "      <td>hip flexors, lower back</td>\n",
              "    </tr>\n",
              "    <tr>\n",
              "      <th>1</th>\n",
              "      <td>waist</td>\n",
              "      <td>body weight</td>\n",
              "      <td>https://v2.exercisedb.io/image/PERWLDGUxVbpHS</td>\n",
              "      <td>2</td>\n",
              "      <td>45° side bend</td>\n",
              "      <td>abs</td>\n",
              "      <td>Stand with your feet shoulder-width apart and ...</td>\n",
              "      <td>Keeping your back straight and your core engag...</td>\n",
              "      <td>Pause for a moment at the bottom, then slowly ...</td>\n",
              "      <td>Repeat on the other side.</td>\n",
              "      <td>Continue alternating sides for the desired num...</td>\n",
              "      <td>NaN</td>\n",
              "      <td>NaN</td>\n",
              "      <td>NaN</td>\n",
              "      <td>NaN</td>\n",
              "      <td>NaN</td>\n",
              "      <td>NaN</td>\n",
              "      <td>obliques</td>\n",
              "    </tr>\n",
              "    <tr>\n",
              "      <th>2</th>\n",
              "      <td>waist</td>\n",
              "      <td>body weight</td>\n",
              "      <td>https://v2.exercisedb.io/image/PLr4yo3j-f1amp</td>\n",
              "      <td>3</td>\n",
              "      <td>air bike</td>\n",
              "      <td>abs</td>\n",
              "      <td>Lie flat on your back with your hands placed b...</td>\n",
              "      <td>Lift your legs off the ground and bend your kn...</td>\n",
              "      <td>Bring your right elbow towards your left knee ...</td>\n",
              "      <td>Return to the starting position and repeat the...</td>\n",
              "      <td>Continue alternating sides in a pedaling motio...</td>\n",
              "      <td>NaN</td>\n",
              "      <td>NaN</td>\n",
              "      <td>NaN</td>\n",
              "      <td>NaN</td>\n",
              "      <td>NaN</td>\n",
              "      <td>NaN</td>\n",
              "      <td>hip flexors</td>\n",
              "    </tr>\n",
              "    <tr>\n",
              "      <th>3</th>\n",
              "      <td>upper legs</td>\n",
              "      <td>body weight</td>\n",
              "      <td>https://v2.exercisedb.io/image/XPQwM7HECjgNFE</td>\n",
              "      <td>1512</td>\n",
              "      <td>all fours squad stretch</td>\n",
              "      <td>quads</td>\n",
              "      <td>Start on all fours with your hands directly un...</td>\n",
              "      <td>Extend one leg straight back, keeping your kne...</td>\n",
              "      <td>Slowly lower your hips towards the ground, fee...</td>\n",
              "      <td>Hold this position for 20-30 seconds.</td>\n",
              "      <td>Switch legs and repeat the stretch on the othe...</td>\n",
              "      <td>NaN</td>\n",
              "      <td>NaN</td>\n",
              "      <td>NaN</td>\n",
              "      <td>NaN</td>\n",
              "      <td>NaN</td>\n",
              "      <td>NaN</td>\n",
              "      <td>hamstrings, glutes</td>\n",
              "    </tr>\n",
              "    <tr>\n",
              "      <th>4</th>\n",
              "      <td>waist</td>\n",
              "      <td>body weight</td>\n",
              "      <td>https://v2.exercisedb.io/image/5nYph4eUGNiEdf</td>\n",
              "      <td>6</td>\n",
              "      <td>alternate heel touchers</td>\n",
              "      <td>abs</td>\n",
              "      <td>Lie flat on your back with your knees bent and...</td>\n",
              "      <td>Extend your arms straight out to the sides, pa...</td>\n",
              "      <td>Engaging your abs, lift your shoulders off the...</td>\n",
              "      <td>Return to the starting position and repeat on ...</td>\n",
              "      <td>Continue alternating sides for the desired num...</td>\n",
              "      <td>NaN</td>\n",
              "      <td>NaN</td>\n",
              "      <td>NaN</td>\n",
              "      <td>NaN</td>\n",
              "      <td>NaN</td>\n",
              "      <td>NaN</td>\n",
              "      <td>obliques</td>\n",
              "    </tr>\n",
              "  </tbody>\n",
              "</table>\n",
              "</div>"
            ],
            "text/plain": [
              "     bodyPart    equipment                                         gifUrl  \\\n",
              "0       waist  body weight  https://v2.exercisedb.io/image/MOnK4iG0MEt9h8   \n",
              "1       waist  body weight  https://v2.exercisedb.io/image/PERWLDGUxVbpHS   \n",
              "2       waist  body weight  https://v2.exercisedb.io/image/PLr4yo3j-f1amp   \n",
              "3  upper legs  body weight  https://v2.exercisedb.io/image/XPQwM7HECjgNFE   \n",
              "4       waist  body weight  https://v2.exercisedb.io/image/5nYph4eUGNiEdf   \n",
              "\n",
              "     id                     name target  \\\n",
              "0     1               3/4 sit-up    abs   \n",
              "1     2            45° side bend    abs   \n",
              "2     3                 air bike    abs   \n",
              "3  1512  all fours squad stretch  quads   \n",
              "4     6  alternate heel touchers    abs   \n",
              "\n",
              "                                      instructions/0  \\\n",
              "0  Lie flat on your back with your knees bent and...   \n",
              "1  Stand with your feet shoulder-width apart and ...   \n",
              "2  Lie flat on your back with your hands placed b...   \n",
              "3  Start on all fours with your hands directly un...   \n",
              "4  Lie flat on your back with your knees bent and...   \n",
              "\n",
              "                                      instructions/1  \\\n",
              "0  Place your hands behind your head with your el...   \n",
              "1  Keeping your back straight and your core engag...   \n",
              "2  Lift your legs off the ground and bend your kn...   \n",
              "3  Extend one leg straight back, keeping your kne...   \n",
              "4  Extend your arms straight out to the sides, pa...   \n",
              "\n",
              "                                      instructions/2  \\\n",
              "0  Engaging your abs, slowly lift your upper body...   \n",
              "1  Pause for a moment at the bottom, then slowly ...   \n",
              "2  Bring your right elbow towards your left knee ...   \n",
              "3  Slowly lower your hips towards the ground, fee...   \n",
              "4  Engaging your abs, lift your shoulders off the...   \n",
              "\n",
              "                                      instructions/3  \\\n",
              "0  Pause for a moment at the top, then slowly low...   \n",
              "1                          Repeat on the other side.   \n",
              "2  Return to the starting position and repeat the...   \n",
              "3              Hold this position for 20-30 seconds.   \n",
              "4  Return to the starting position and repeat on ...   \n",
              "\n",
              "                                      instructions/4 instructions/5  \\\n",
              "0      Repeat for the desired number of repetitions.            NaN   \n",
              "1  Continue alternating sides for the desired num...            NaN   \n",
              "2  Continue alternating sides in a pedaling motio...            NaN   \n",
              "3  Switch legs and repeat the stretch on the othe...            NaN   \n",
              "4  Continue alternating sides for the desired num...            NaN   \n",
              "\n",
              "  instructions/6 instructions/7 instructions/8 instructions/9 instructions/10  \\\n",
              "0            NaN            NaN            NaN            NaN             NaN   \n",
              "1            NaN            NaN            NaN            NaN             NaN   \n",
              "2            NaN            NaN            NaN            NaN             NaN   \n",
              "3            NaN            NaN            NaN            NaN             NaN   \n",
              "4            NaN            NaN            NaN            NaN             NaN   \n",
              "\n",
              "          secondaryMuscles  \n",
              "0  hip flexors, lower back  \n",
              "1                 obliques  \n",
              "2              hip flexors  \n",
              "3       hamstrings, glutes  \n",
              "4                 obliques  "
            ]
          },
          "execution_count": 143,
          "metadata": {},
          "output_type": "execute_result"
        }
      ],
      "source": [
        "data.head()"
      ]
    },
    {
      "cell_type": "markdown",
      "metadata": {},
      "source": [
        "### Heatmap after secondaryMuscles cleaning"
      ]
    },
    {
      "cell_type": "code",
      "execution_count": 144,
      "metadata": {
        "colab": {
          "base_uri": "https://localhost:8080/",
          "height": 560
        },
        "id": "g-16OCHzMjU5",
        "outputId": "17dff11f-b8a5-4e84-b657-c3c04700ea4d"
      },
      "outputs": [
        {
          "data": {
            "text/plain": [
              "<Axes: >"
            ]
          },
          "execution_count": 144,
          "metadata": {},
          "output_type": "execute_result"
        },
        {
          "data": {
            "image/png": "[encoded data removed]",
            "text/plain": [
              "<Figure size 640x480 with 1 Axes>"
            ]
          },
          "metadata": {},
          "output_type": "display_data"
        }
      ],
      "source": [
        "sns.heatmap(data.isnull(),yticklabels=False,cbar=False,cmap='viridis')"
      ]
    },
    {
      "cell_type": "markdown",
      "metadata": {},
      "source": [
        "### Join instructions columns into one column"
      ]
    },
    {
      "cell_type": "code",
      "execution_count": 145,
      "metadata": {
        "id": "Pux41L-cEUGR"
      },
      "outputs": [],
      "source": [
        "selected_columns = ['instructions/0', 'instructions/1', 'instructions/2', 'instructions/3', 'instructions/4', 'instructions/5', 'instructions/6', 'instructions/7', 'instructions/8', 'instructions/9', 'instructions/10']\n",
        "\n",
        "data['instructions'] = data[selected_columns].apply(lambda x: ' '.join(x.dropna().astype(str)), axis=1)"
      ]
    },
    {
      "cell_type": "code",
      "execution_count": 146,
      "metadata": {
        "colab": {
          "base_uri": "https://localhost:8080/",
          "height": 479
        },
        "id": "uFNGX08bIQXR",
        "outputId": "2f617fcc-4414-4014-f536-24ed79da0c82"
      },
      "outputs": [
        {
          "data": {
            "text/html": [
              "<div>\n",
              "<style scoped>\n",
              "    .dataframe tbody tr th:only-of-type {\n",
              "        vertical-align: middle;\n",
              "    }\n",
              "\n",
              "    .dataframe tbody tr th {\n",
              "        vertical-align: top;\n",
              "    }\n",
              "\n",
              "    .dataframe thead th {\n",
              "        text-align: right;\n",
              "    }\n",
              "</style>\n",
              "<table border=\"1\" class=\"dataframe\">\n",
              "  <thead>\n",
              "    <tr style=\"text-align: right;\">\n",
              "      <th></th>\n",
              "      <th>bodyPart</th>\n",
              "      <th>equipment</th>\n",
              "      <th>gifUrl</th>\n",
              "      <th>id</th>\n",
              "      <th>name</th>\n",
              "      <th>target</th>\n",
              "      <th>instructions/0</th>\n",
              "      <th>instructions/1</th>\n",
              "      <th>instructions/2</th>\n",
              "      <th>instructions/3</th>\n",
              "      <th>instructions/4</th>\n",
              "      <th>instructions/5</th>\n",
              "      <th>instructions/6</th>\n",
              "      <th>instructions/7</th>\n",
              "      <th>instructions/8</th>\n",
              "      <th>instructions/9</th>\n",
              "      <th>instructions/10</th>\n",
              "      <th>secondaryMuscles</th>\n",
              "      <th>instructions</th>\n",
              "    </tr>\n",
              "  </thead>\n",
              "  <tbody>\n",
              "    <tr>\n",
              "      <th>0</th>\n",
              "      <td>waist</td>\n",
              "      <td>body weight</td>\n",
              "      <td>https://v2.exercisedb.io/image/MOnK4iG0MEt9h8</td>\n",
              "      <td>1</td>\n",
              "      <td>3/4 sit-up</td>\n",
              "      <td>abs</td>\n",
              "      <td>Lie flat on your back with your knees bent and...</td>\n",
              "      <td>Place your hands behind your head with your el...</td>\n",
              "      <td>Engaging your abs, slowly lift your upper body...</td>\n",
              "      <td>Pause for a moment at the top, then slowly low...</td>\n",
              "      <td>Repeat for the desired number of repetitions.</td>\n",
              "      <td>NaN</td>\n",
              "      <td>NaN</td>\n",
              "      <td>NaN</td>\n",
              "      <td>NaN</td>\n",
              "      <td>NaN</td>\n",
              "      <td>NaN</td>\n",
              "      <td>hip flexors, lower back</td>\n",
              "      <td>Lie flat on your back with your knees bent and...</td>\n",
              "    </tr>\n",
              "    <tr>\n",
              "      <th>1</th>\n",
              "      <td>waist</td>\n",
              "      <td>body weight</td>\n",
              "      <td>https://v2.exercisedb.io/image/PERWLDGUxVbpHS</td>\n",
              "      <td>2</td>\n",
              "      <td>45° side bend</td>\n",
              "      <td>abs</td>\n",
              "      <td>Stand with your feet shoulder-width apart and ...</td>\n",
              "      <td>Keeping your back straight and your core engag...</td>\n",
              "      <td>Pause for a moment at the bottom, then slowly ...</td>\n",
              "      <td>Repeat on the other side.</td>\n",
              "      <td>Continue alternating sides for the desired num...</td>\n",
              "      <td>NaN</td>\n",
              "      <td>NaN</td>\n",
              "      <td>NaN</td>\n",
              "      <td>NaN</td>\n",
              "      <td>NaN</td>\n",
              "      <td>NaN</td>\n",
              "      <td>obliques</td>\n",
              "      <td>Stand with your feet shoulder-width apart and ...</td>\n",
              "    </tr>\n",
              "    <tr>\n",
              "      <th>2</th>\n",
              "      <td>waist</td>\n",
              "      <td>body weight</td>\n",
              "      <td>https://v2.exercisedb.io/image/PLr4yo3j-f1amp</td>\n",
              "      <td>3</td>\n",
              "      <td>air bike</td>\n",
              "      <td>abs</td>\n",
              "      <td>Lie flat on your back with your hands placed b...</td>\n",
              "      <td>Lift your legs off the ground and bend your kn...</td>\n",
              "      <td>Bring your right elbow towards your left knee ...</td>\n",
              "      <td>Return to the starting position and repeat the...</td>\n",
              "      <td>Continue alternating sides in a pedaling motio...</td>\n",
              "      <td>NaN</td>\n",
              "      <td>NaN</td>\n",
              "      <td>NaN</td>\n",
              "      <td>NaN</td>\n",
              "      <td>NaN</td>\n",
              "      <td>NaN</td>\n",
              "      <td>hip flexors</td>\n",
              "      <td>Lie flat on your back with your hands placed b...</td>\n",
              "    </tr>\n",
              "    <tr>\n",
              "      <th>3</th>\n",
              "      <td>upper legs</td>\n",
              "      <td>body weight</td>\n",
              "      <td>https://v2.exercisedb.io/image/XPQwM7HECjgNFE</td>\n",
              "      <td>1512</td>\n",
              "      <td>all fours squad stretch</td>\n",
              "      <td>quads</td>\n",
              "      <td>Start on all fours with your hands directly un...</td>\n",
              "      <td>Extend one leg straight back, keeping your kne...</td>\n",
              "      <td>Slowly lower your hips towards the ground, fee...</td>\n",
              "      <td>Hold this position for 20-30 seconds.</td>\n",
              "      <td>Switch legs and repeat the stretch on the othe...</td>\n",
              "      <td>NaN</td>\n",
              "      <td>NaN</td>\n",
              "      <td>NaN</td>\n",
              "      <td>NaN</td>\n",
              "      <td>NaN</td>\n",
              "      <td>NaN</td>\n",
              "      <td>hamstrings, glutes</td>\n",
              "      <td>Start on all fours with your hands directly un...</td>\n",
              "    </tr>\n",
              "    <tr>\n",
              "      <th>4</th>\n",
              "      <td>waist</td>\n",
              "      <td>body weight</td>\n",
              "      <td>https://v2.exercisedb.io/image/5nYph4eUGNiEdf</td>\n",
              "      <td>6</td>\n",
              "      <td>alternate heel touchers</td>\n",
              "      <td>abs</td>\n",
              "      <td>Lie flat on your back with your knees bent and...</td>\n",
              "      <td>Extend your arms straight out to the sides, pa...</td>\n",
              "      <td>Engaging your abs, lift your shoulders off the...</td>\n",
              "      <td>Return to the starting position and repeat on ...</td>\n",
              "      <td>Continue alternating sides for the desired num...</td>\n",
              "      <td>NaN</td>\n",
              "      <td>NaN</td>\n",
              "      <td>NaN</td>\n",
              "      <td>NaN</td>\n",
              "      <td>NaN</td>\n",
              "      <td>NaN</td>\n",
              "      <td>obliques</td>\n",
              "      <td>Lie flat on your back with your knees bent and...</td>\n",
              "    </tr>\n",
              "  </tbody>\n",
              "</table>\n",
              "</div>"
            ],
            "text/plain": [
              "     bodyPart    equipment                                         gifUrl  \\\n",
              "0       waist  body weight  https://v2.exercisedb.io/image/MOnK4iG0MEt9h8   \n",
              "1       waist  body weight  https://v2.exercisedb.io/image/PERWLDGUxVbpHS   \n",
              "2       waist  body weight  https://v2.exercisedb.io/image/PLr4yo3j-f1amp   \n",
              "3  upper legs  body weight  https://v2.exercisedb.io/image/XPQwM7HECjgNFE   \n",
              "4       waist  body weight  https://v2.exercisedb.io/image/5nYph4eUGNiEdf   \n",
              "\n",
              "     id                     name target  \\\n",
              "0     1               3/4 sit-up    abs   \n",
              "1     2            45° side bend    abs   \n",
              "2     3                 air bike    abs   \n",
              "3  1512  all fours squad stretch  quads   \n",
              "4     6  alternate heel touchers    abs   \n",
              "\n",
              "                                      instructions/0  \\\n",
              "0  Lie flat on your back with your knees bent and...   \n",
              "1  Stand with your feet shoulder-width apart and ...   \n",
              "2  Lie flat on your back with your hands placed b...   \n",
              "3  Start on all fours with your hands directly un...   \n",
              "4  Lie flat on your back with your knees bent and...   \n",
              "\n",
              "                                      instructions/1  \\\n",
              "0  Place your hands behind your head with your el...   \n",
              "1  Keeping your back straight and your core engag...   \n",
              "2  Lift your legs off the ground and bend your kn...   \n",
              "3  Extend one leg straight back, keeping your kne...   \n",
              "4  Extend your arms straight out to the sides, pa...   \n",
              "\n",
              "                                      instructions/2  \\\n",
              "0  Engaging your abs, slowly lift your upper body...   \n",
              "1  Pause for a moment at the bottom, then slowly ...   \n",
              "2  Bring your right elbow towards your left knee ...   \n",
              "3  Slowly lower your hips towards the ground, fee...   \n",
              "4  Engaging your abs, lift your shoulders off the...   \n",
              "\n",
              "                                      instructions/3  \\\n",
              "0  Pause for a moment at the top, then slowly low...   \n",
              "1                          Repeat on the other side.   \n",
              "2  Return to the starting position and repeat the...   \n",
              "3              Hold this position for 20-30 seconds.   \n",
              "4  Return to the starting position and repeat on ...   \n",
              "\n",
              "                                      instructions/4 instructions/5  \\\n",
              "0      Repeat for the desired number of repetitions.            NaN   \n",
              "1  Continue alternating sides for the desired num...            NaN   \n",
              "2  Continue alternating sides in a pedaling motio...            NaN   \n",
              "3  Switch legs and repeat the stretch on the othe...            NaN   \n",
              "4  Continue alternating sides for the desired num...            NaN   \n",
              "\n",
              "  instructions/6 instructions/7 instructions/8 instructions/9 instructions/10  \\\n",
              "0            NaN            NaN            NaN            NaN             NaN   \n",
              "1            NaN            NaN            NaN            NaN             NaN   \n",
              "2            NaN            NaN            NaN            NaN             NaN   \n",
              "3            NaN            NaN            NaN            NaN             NaN   \n",
              "4            NaN            NaN            NaN            NaN             NaN   \n",
              "\n",
              "          secondaryMuscles                                       instructions  \n",
              "0  hip flexors, lower back  Lie flat on your back with your knees bent and...  \n",
              "1                 obliques  Stand with your feet shoulder-width apart and ...  \n",
              "2              hip flexors  Lie flat on your back with your hands placed b...  \n",
              "3       hamstrings, glutes  Start on all fours with your hands directly un...  \n",
              "4                 obliques  Lie flat on your back with your knees bent and...  "
            ]
          },
          "execution_count": 146,
          "metadata": {},
          "output_type": "execute_result"
        }
      ],
      "source": [
        "data.head()"
      ]
    },
    {
      "cell_type": "markdown",
      "metadata": {},
      "source": [
        "### Drop unnecessary instructions columns"
      ]
    },
    {
      "cell_type": "code",
      "execution_count": 147,
      "metadata": {
        "id": "n3hTnwOoJ9Uw"
      },
      "outputs": [],
      "source": [
        "data.drop(columns=selected_columns, inplace=True)"
      ]
    },
    {
      "cell_type": "markdown",
      "metadata": {},
      "source": [
        "### Final dataset after cleaning"
      ]
    },
    {
      "cell_type": "code",
      "execution_count": 148,
      "metadata": {
        "colab": {
          "base_uri": "https://localhost:8080/",
          "height": 204
        },
        "id": "e3PXzMxaKomY",
        "outputId": "ec1f022f-88d1-46e0-99d1-d4ed47ca7efc"
      },
      "outputs": [
        {
          "data": {
            "text/html": [
              "<div>\n",
              "<style scoped>\n",
              "    .dataframe tbody tr th:only-of-type {\n",
              "        vertical-align: middle;\n",
              "    }\n",
              "\n",
              "    .dataframe tbody tr th {\n",
              "        vertical-align: top;\n",
              "    }\n",
              "\n",
              "    .dataframe thead th {\n",
              "        text-align: right;\n",
              "    }\n",
              "</style>\n",
              "<table border=\"1\" class=\"dataframe\">\n",
              "  <thead>\n",
              "    <tr style=\"text-align: right;\">\n",
              "      <th></th>\n",
              "      <th>bodyPart</th>\n",
              "      <th>equipment</th>\n",
              "      <th>gifUrl</th>\n",
              "      <th>id</th>\n",
              "      <th>name</th>\n",
              "      <th>target</th>\n",
              "      <th>secondaryMuscles</th>\n",
              "      <th>instructions</th>\n",
              "    </tr>\n",
              "  </thead>\n",
              "  <tbody>\n",
              "    <tr>\n",
              "      <th>0</th>\n",
              "      <td>waist</td>\n",
              "      <td>body weight</td>\n",
              "      <td>https://v2.exercisedb.io/image/MOnK4iG0MEt9h8</td>\n",
              "      <td>1</td>\n",
              "      <td>3/4 sit-up</td>\n",
              "      <td>abs</td>\n",
              "      <td>hip flexors, lower back</td>\n",
              "      <td>Lie flat on your back with your knees bent and...</td>\n",
              "    </tr>\n",
              "    <tr>\n",
              "      <th>1</th>\n",
              "      <td>waist</td>\n",
              "      <td>body weight</td>\n",
              "      <td>https://v2.exercisedb.io/image/PERWLDGUxVbpHS</td>\n",
              "      <td>2</td>\n",
              "      <td>45° side bend</td>\n",
              "      <td>abs</td>\n",
              "      <td>obliques</td>\n",
              "      <td>Stand with your feet shoulder-width apart and ...</td>\n",
              "    </tr>\n",
              "    <tr>\n",
              "      <th>2</th>\n",
              "      <td>waist</td>\n",
              "      <td>body weight</td>\n",
              "      <td>https://v2.exercisedb.io/image/PLr4yo3j-f1amp</td>\n",
              "      <td>3</td>\n",
              "      <td>air bike</td>\n",
              "      <td>abs</td>\n",
              "      <td>hip flexors</td>\n",
              "      <td>Lie flat on your back with your hands placed b...</td>\n",
              "    </tr>\n",
              "    <tr>\n",
              "      <th>3</th>\n",
              "      <td>upper legs</td>\n",
              "      <td>body weight</td>\n",
              "      <td>https://v2.exercisedb.io/image/XPQwM7HECjgNFE</td>\n",
              "      <td>1512</td>\n",
              "      <td>all fours squad stretch</td>\n",
              "      <td>quads</td>\n",
              "      <td>hamstrings, glutes</td>\n",
              "      <td>Start on all fours with your hands directly un...</td>\n",
              "    </tr>\n",
              "    <tr>\n",
              "      <th>4</th>\n",
              "      <td>waist</td>\n",
              "      <td>body weight</td>\n",
              "      <td>https://v2.exercisedb.io/image/5nYph4eUGNiEdf</td>\n",
              "      <td>6</td>\n",
              "      <td>alternate heel touchers</td>\n",
              "      <td>abs</td>\n",
              "      <td>obliques</td>\n",
              "      <td>Lie flat on your back with your knees bent and...</td>\n",
              "    </tr>\n",
              "  </tbody>\n",
              "</table>\n",
              "</div>"
            ],
            "text/plain": [
              "     bodyPart    equipment                                         gifUrl  \\\n",
              "0       waist  body weight  https://v2.exercisedb.io/image/MOnK4iG0MEt9h8   \n",
              "1       waist  body weight  https://v2.exercisedb.io/image/PERWLDGUxVbpHS   \n",
              "2       waist  body weight  https://v2.exercisedb.io/image/PLr4yo3j-f1amp   \n",
              "3  upper legs  body weight  https://v2.exercisedb.io/image/XPQwM7HECjgNFE   \n",
              "4       waist  body weight  https://v2.exercisedb.io/image/5nYph4eUGNiEdf   \n",
              "\n",
              "     id                     name target         secondaryMuscles  \\\n",
              "0     1               3/4 sit-up    abs  hip flexors, lower back   \n",
              "1     2            45° side bend    abs                 obliques   \n",
              "2     3                 air bike    abs              hip flexors   \n",
              "3  1512  all fours squad stretch  quads       hamstrings, glutes   \n",
              "4     6  alternate heel touchers    abs                 obliques   \n",
              "\n",
              "                                        instructions  \n",
              "0  Lie flat on your back with your knees bent and...  \n",
              "1  Stand with your feet shoulder-width apart and ...  \n",
              "2  Lie flat on your back with your hands placed b...  \n",
              "3  Start on all fours with your hands directly un...  \n",
              "4  Lie flat on your back with your knees bent and...  "
            ]
          },
          "execution_count": 148,
          "metadata": {},
          "output_type": "execute_result"
        }
      ],
      "source": [
        "data.head()"
      ]
    },
    {
      "cell_type": "code",
      "execution_count": 149,
      "metadata": {
        "colab": {
          "base_uri": "https://localhost:8080/",
          "height": 560
        },
        "id": "h8XAyT0-L1gM",
        "outputId": "7fbef335-ee61-4878-c645-9b5ea2a8124f"
      },
      "outputs": [
        {
          "data": {
            "text/plain": [
              "<Axes: >"
            ]
          },
          "execution_count": 149,
          "metadata": {},
          "output_type": "execute_result"
        },
        {
          "data": {
            "image/png": "[encoded data removed]",
            "text/plain": [
              "<Figure size 640x480 with 1 Axes>"
            ]
          },
          "metadata": {},
          "output_type": "display_data"
        }
      ],
      "source": [
        "sns.heatmap(data.isnull(),yticklabels=False,cbar=False,cmap='viridis')"
      ]
    },
    {
      "cell_type": "code",
      "execution_count": 150,
      "metadata": {},
      "outputs": [
        {
          "data": {
            "text/plain": [
              "bodyPart            0\n",
              "equipment           0\n",
              "gifUrl              0\n",
              "id                  0\n",
              "name                0\n",
              "target              0\n",
              "secondaryMuscles    0\n",
              "instructions        0\n",
              "dtype: int64"
            ]
          },
          "execution_count": 150,
          "metadata": {},
          "output_type": "execute_result"
        }
      ],
      "source": [
        "data.isnull().sum()"
      ]
    },
    {
      "cell_type": "code",
      "execution_count": 151,
      "metadata": {
        "id": "_IQG62n0hEbh"
      },
      "outputs": [],
      "source": [
        "data.drop(columns='id', inplace=True)"
      ]
    },
    {
      "cell_type": "code",
      "execution_count": 152,
      "metadata": {
        "colab": {
          "base_uri": "https://localhost:8080/"
        },
        "id": "I-5TDs21hZwL",
        "outputId": "47f4ad0d-cd7d-4552-e5de-60979b33b1fd"
      },
      "outputs": [
        {
          "name": "stdout",
          "output_type": "stream",
          "text": [
            "<class 'pandas.core.frame.DataFrame'>\n",
            "RangeIndex: 1324 entries, 0 to 1323\n",
            "Data columns (total 7 columns):\n",
            " #   Column            Non-Null Count  Dtype \n",
            "---  ------            --------------  ----- \n",
            " 0   bodyPart          1324 non-null   object\n",
            " 1   equipment         1324 non-null   object\n",
            " 2   gifUrl            1324 non-null   object\n",
            " 3   name              1324 non-null   object\n",
            " 4   target            1324 non-null   object\n",
            " 5   secondaryMuscles  1324 non-null   object\n",
            " 6   instructions      1324 non-null   object\n",
            "dtypes: object(7)\n",
            "memory usage: 72.5+ KB\n"
          ]
        }
      ],
      "source": [
        "data.info()"
      ]
    },
    {
      "cell_type": "code",
      "execution_count": 153,
      "metadata": {},
      "outputs": [
        {
          "data": {
            "text/html": [
              "<div>\n",
              "<style scoped>\n",
              "    .dataframe tbody tr th:only-of-type {\n",
              "        vertical-align: middle;\n",
              "    }\n",
              "\n",
              "    .dataframe tbody tr th {\n",
              "        vertical-align: top;\n",
              "    }\n",
              "\n",
              "    .dataframe thead th {\n",
              "        text-align: right;\n",
              "    }\n",
              "</style>\n",
              "<table border=\"1\" class=\"dataframe\">\n",
              "  <thead>\n",
              "    <tr style=\"text-align: right;\">\n",
              "      <th></th>\n",
              "      <th>bodyPart</th>\n",
              "      <th>equipment</th>\n",
              "      <th>gifUrl</th>\n",
              "      <th>name</th>\n",
              "      <th>target</th>\n",
              "      <th>secondaryMuscles</th>\n",
              "      <th>instructions</th>\n",
              "    </tr>\n",
              "  </thead>\n",
              "  <tbody>\n",
              "    <tr>\n",
              "      <th>0</th>\n",
              "      <td>waist</td>\n",
              "      <td>body weight</td>\n",
              "      <td>https://v2.exercisedb.io/image/MOnK4iG0MEt9h8</td>\n",
              "      <td>3/4 sit-up</td>\n",
              "      <td>abs</td>\n",
              "      <td>hip flexors, lower back</td>\n",
              "      <td>Lie flat on your back with your knees bent and...</td>\n",
              "    </tr>\n",
              "    <tr>\n",
              "      <th>1</th>\n",
              "      <td>waist</td>\n",
              "      <td>body weight</td>\n",
              "      <td>https://v2.exercisedb.io/image/PERWLDGUxVbpHS</td>\n",
              "      <td>45° side bend</td>\n",
              "      <td>abs</td>\n",
              "      <td>obliques</td>\n",
              "      <td>Stand with your feet shoulder-width apart and ...</td>\n",
              "    </tr>\n",
              "    <tr>\n",
              "      <th>2</th>\n",
              "      <td>waist</td>\n",
              "      <td>body weight</td>\n",
              "      <td>https://v2.exercisedb.io/image/PLr4yo3j-f1amp</td>\n",
              "      <td>air bike</td>\n",
              "      <td>abs</td>\n",
              "      <td>hip flexors</td>\n",
              "      <td>Lie flat on your back with your hands placed b...</td>\n",
              "    </tr>\n",
              "    <tr>\n",
              "      <th>3</th>\n",
              "      <td>upper legs</td>\n",
              "      <td>body weight</td>\n",
              "      <td>https://v2.exercisedb.io/image/XPQwM7HECjgNFE</td>\n",
              "      <td>all fours squad stretch</td>\n",
              "      <td>quads</td>\n",
              "      <td>hamstrings, glutes</td>\n",
              "      <td>Start on all fours with your hands directly un...</td>\n",
              "    </tr>\n",
              "    <tr>\n",
              "      <th>4</th>\n",
              "      <td>waist</td>\n",
              "      <td>body weight</td>\n",
              "      <td>https://v2.exercisedb.io/image/5nYph4eUGNiEdf</td>\n",
              "      <td>alternate heel touchers</td>\n",
              "      <td>abs</td>\n",
              "      <td>obliques</td>\n",
              "      <td>Lie flat on your back with your knees bent and...</td>\n",
              "    </tr>\n",
              "  </tbody>\n",
              "</table>\n",
              "</div>"
            ],
            "text/plain": [
              "     bodyPart    equipment                                         gifUrl  \\\n",
              "0       waist  body weight  https://v2.exercisedb.io/image/MOnK4iG0MEt9h8   \n",
              "1       waist  body weight  https://v2.exercisedb.io/image/PERWLDGUxVbpHS   \n",
              "2       waist  body weight  https://v2.exercisedb.io/image/PLr4yo3j-f1amp   \n",
              "3  upper legs  body weight  https://v2.exercisedb.io/image/XPQwM7HECjgNFE   \n",
              "4       waist  body weight  https://v2.exercisedb.io/image/5nYph4eUGNiEdf   \n",
              "\n",
              "                      name target         secondaryMuscles  \\\n",
              "0               3/4 sit-up    abs  hip flexors, lower back   \n",
              "1            45° side bend    abs                 obliques   \n",
              "2                 air bike    abs              hip flexors   \n",
              "3  all fours squad stretch  quads       hamstrings, glutes   \n",
              "4  alternate heel touchers    abs                 obliques   \n",
              "\n",
              "                                        instructions  \n",
              "0  Lie flat on your back with your knees bent and...  \n",
              "1  Stand with your feet shoulder-width apart and ...  \n",
              "2  Lie flat on your back with your hands placed b...  \n",
              "3  Start on all fours with your hands directly un...  \n",
              "4  Lie flat on your back with your knees bent and...  "
            ]
          },
          "execution_count": 153,
          "metadata": {},
          "output_type": "execute_result"
        }
      ],
      "source": [
        "data.head()"
      ]
    },
    {
      "cell_type": "markdown",
      "metadata": {},
      "source": [
        "### Plot for bodyPart column"
      ]
    },
    {
      "cell_type": "code",
      "execution_count": 154,
      "metadata": {
        "colab": {
          "base_uri": "https://localhost:8080/",
          "height": 449
        },
        "id": "SYsT6VkdMvEH",
        "outputId": "4001e8e4-051a-4ef7-8ba1-205e0063a28d"
      },
      "outputs": [
        {
          "data": {
            "image/png": "[encoded data removed]",
            "text/plain": [
              "<Figure size 640x480 with 1 Axes>"
            ]
          },
          "metadata": {},
          "output_type": "display_data"
        }
      ],
      "source": [
        "ax = sns.countplot(data=data,y='bodyPart')\n",
        "ax.bar_label(ax.containers[0])\n",
        "plt.show()"
      ]
    },
    {
      "cell_type": "markdown",
      "metadata": {},
      "source": [
        "### Plot for equipment column"
      ]
    },
    {
      "cell_type": "code",
      "execution_count": 155,
      "metadata": {
        "colab": {
          "base_uri": "https://localhost:8080/",
          "height": 450
        },
        "id": "9_0xiz2nB7me",
        "outputId": "d65a1d30-dd9f-410d-b385-0e45e8eae045"
      },
      "outputs": [
        {
          "data": {
            "image/png": "[encoded data removed]",
            "text/plain": [
              "<Figure size 640x480 with 1 Axes>"
            ]
          },
          "metadata": {},
          "output_type": "display_data"
        }
      ],
      "source": [
        "ax = sns.countplot(data=data,y='equipment')\n",
        "ax.bar_label(ax.containers[0])\n",
        "plt.show()"
      ]
    },
    {
      "cell_type": "markdown",
      "metadata": {},
      "source": [
        "### Plot for target column"
      ]
    },
    {
      "cell_type": "code",
      "execution_count": 156,
      "metadata": {
        "colab": {
          "base_uri": "https://localhost:8080/",
          "height": 449
        },
        "id": "An9D59hBCABS",
        "outputId": "a4ca44fb-eb4f-4c3d-871c-cdb8bff05812"
      },
      "outputs": [
        {
          "data": {
            "image/png": "[encoded data removed]",
            "text/plain": [
              "<Figure size 640x480 with 1 Axes>"
            ]
          },
          "metadata": {},
          "output_type": "display_data"
        }
      ],
      "source": [
        "ax = sns.countplot(data=data,y='target')\n",
        "ax.bar_label(ax.containers[0])\n",
        "plt.show()"
      ]
    },
    {
      "cell_type": "markdown",
      "metadata": {},
      "source": [
        "### Filter bodyPart 'waist' data distribution in the dataset "
      ]
    },
    {
      "cell_type": "code",
      "execution_count": 157,
      "metadata": {},
      "outputs": [
        {
          "data": {
            "text/html": [
              "<div>\n",
              "<style scoped>\n",
              "    .dataframe tbody tr th:only-of-type {\n",
              "        vertical-align: middle;\n",
              "    }\n",
              "\n",
              "    .dataframe tbody tr th {\n",
              "        vertical-align: top;\n",
              "    }\n",
              "\n",
              "    .dataframe thead th {\n",
              "        text-align: right;\n",
              "    }\n",
              "</style>\n",
              "<table border=\"1\" class=\"dataframe\">\n",
              "  <thead>\n",
              "    <tr style=\"text-align: right;\">\n",
              "      <th></th>\n",
              "      <th>bodyPart</th>\n",
              "      <th>equipment</th>\n",
              "      <th>gifUrl</th>\n",
              "      <th>name</th>\n",
              "      <th>target</th>\n",
              "      <th>secondaryMuscles</th>\n",
              "      <th>instructions</th>\n",
              "    </tr>\n",
              "  </thead>\n",
              "  <tbody>\n",
              "    <tr>\n",
              "      <th>0</th>\n",
              "      <td>waist</td>\n",
              "      <td>body weight</td>\n",
              "      <td>https://v2.exercisedb.io/image/MOnK4iG0MEt9h8</td>\n",
              "      <td>3/4 sit-up</td>\n",
              "      <td>abs</td>\n",
              "      <td>hip flexors, lower back</td>\n",
              "      <td>Lie flat on your back with your knees bent and...</td>\n",
              "    </tr>\n",
              "    <tr>\n",
              "      <th>1</th>\n",
              "      <td>waist</td>\n",
              "      <td>body weight</td>\n",
              "      <td>https://v2.exercisedb.io/image/PERWLDGUxVbpHS</td>\n",
              "      <td>45° side bend</td>\n",
              "      <td>abs</td>\n",
              "      <td>obliques</td>\n",
              "      <td>Stand with your feet shoulder-width apart and ...</td>\n",
              "    </tr>\n",
              "    <tr>\n",
              "      <th>2</th>\n",
              "      <td>waist</td>\n",
              "      <td>body weight</td>\n",
              "      <td>https://v2.exercisedb.io/image/PLr4yo3j-f1amp</td>\n",
              "      <td>air bike</td>\n",
              "      <td>abs</td>\n",
              "      <td>hip flexors</td>\n",
              "      <td>Lie flat on your back with your hands placed b...</td>\n",
              "    </tr>\n",
              "    <tr>\n",
              "      <th>4</th>\n",
              "      <td>waist</td>\n",
              "      <td>body weight</td>\n",
              "      <td>https://v2.exercisedb.io/image/5nYph4eUGNiEdf</td>\n",
              "      <td>alternate heel touchers</td>\n",
              "      <td>abs</td>\n",
              "      <td>obliques</td>\n",
              "      <td>Lie flat on your back with your knees bent and...</td>\n",
              "    </tr>\n",
              "    <tr>\n",
              "      <th>9</th>\n",
              "      <td>waist</td>\n",
              "      <td>body weight</td>\n",
              "      <td>https://v2.exercisedb.io/image/osybi41Me6RFK2</td>\n",
              "      <td>arm slingers hanging bent knee legs</td>\n",
              "      <td>abs</td>\n",
              "      <td>shoulders, back</td>\n",
              "      <td>Hang from a pull-up bar with your arms fully e...</td>\n",
              "    </tr>\n",
              "  </tbody>\n",
              "</table>\n",
              "</div>"
            ],
            "text/plain": [
              "  bodyPart    equipment                                         gifUrl  \\\n",
              "0    waist  body weight  https://v2.exercisedb.io/image/MOnK4iG0MEt9h8   \n",
              "1    waist  body weight  https://v2.exercisedb.io/image/PERWLDGUxVbpHS   \n",
              "2    waist  body weight  https://v2.exercisedb.io/image/PLr4yo3j-f1amp   \n",
              "4    waist  body weight  https://v2.exercisedb.io/image/5nYph4eUGNiEdf   \n",
              "9    waist  body weight  https://v2.exercisedb.io/image/osybi41Me6RFK2   \n",
              "\n",
              "                                  name target         secondaryMuscles  \\\n",
              "0                           3/4 sit-up    abs  hip flexors, lower back   \n",
              "1                        45° side bend    abs                 obliques   \n",
              "2                             air bike    abs              hip flexors   \n",
              "4              alternate heel touchers    abs                 obliques   \n",
              "9  arm slingers hanging bent knee legs    abs          shoulders, back   \n",
              "\n",
              "                                        instructions  \n",
              "0  Lie flat on your back with your knees bent and...  \n",
              "1  Stand with your feet shoulder-width apart and ...  \n",
              "2  Lie flat on your back with your hands placed b...  \n",
              "4  Lie flat on your back with your knees bent and...  \n",
              "9  Hang from a pull-up bar with your arms fully e...  "
            ]
          },
          "execution_count": 157,
          "metadata": {},
          "output_type": "execute_result"
        }
      ],
      "source": [
        "waist_data = data[data['bodyPart'] == 'waist']\n",
        "waist_data.head()"
      ]
    },
    {
      "cell_type": "code",
      "execution_count": 158,
      "metadata": {},
      "outputs": [
        {
          "data": {
            "image/png": "[encoded data removed]",
            "text/plain": [
              "<Figure size 640x480 with 1 Axes>"
            ]
          },
          "metadata": {},
          "output_type": "display_data"
        }
      ],
      "source": [
        "ax = sns.countplot(data=waist_data,y='equipment')\n",
        "ax.bar_label(ax.containers[0])\n",
        "plt.show()"
      ]
    },
    {
      "cell_type": "code",
      "execution_count": 159,
      "metadata": {},
      "outputs": [
        {
          "data": {
            "image/png": "[encoded data removed]",
            "text/plain": [
              "<Figure size 640x480 with 1 Axes>"
            ]
          },
          "metadata": {},
          "output_type": "display_data"
        }
      ],
      "source": [
        "ax = sns.countplot(data=waist_data,y='target')\n",
        "ax.bar_label(ax.containers[0])\n",
        "plt.show()"
      ]
    },
    {
      "cell_type": "markdown",
      "metadata": {},
      "source": [
        "### Filter bodyPart 'upper legs' data distribution in the dataset "
      ]
    },
    {
      "cell_type": "code",
      "execution_count": 160,
      "metadata": {},
      "outputs": [
        {
          "data": {
            "text/html": [
              "<div>\n",
              "<style scoped>\n",
              "    .dataframe tbody tr th:only-of-type {\n",
              "        vertical-align: middle;\n",
              "    }\n",
              "\n",
              "    .dataframe tbody tr th {\n",
              "        vertical-align: top;\n",
              "    }\n",
              "\n",
              "    .dataframe thead th {\n",
              "        text-align: right;\n",
              "    }\n",
              "</style>\n",
              "<table border=\"1\" class=\"dataframe\">\n",
              "  <thead>\n",
              "    <tr style=\"text-align: right;\">\n",
              "      <th></th>\n",
              "      <th>bodyPart</th>\n",
              "      <th>equipment</th>\n",
              "      <th>gifUrl</th>\n",
              "      <th>name</th>\n",
              "      <th>target</th>\n",
              "      <th>secondaryMuscles</th>\n",
              "      <th>instructions</th>\n",
              "    </tr>\n",
              "  </thead>\n",
              "  <tbody>\n",
              "    <tr>\n",
              "      <th>3</th>\n",
              "      <td>upper legs</td>\n",
              "      <td>body weight</td>\n",
              "      <td>https://v2.exercisedb.io/image/XPQwM7HECjgNFE</td>\n",
              "      <td>all fours squad stretch</td>\n",
              "      <td>quads</td>\n",
              "      <td>hamstrings, glutes</td>\n",
              "      <td>Start on all fours with your hands directly un...</td>\n",
              "    </tr>\n",
              "    <tr>\n",
              "      <th>11</th>\n",
              "      <td>upper legs</td>\n",
              "      <td>body weight</td>\n",
              "      <td>https://v2.exercisedb.io/image/sGs-MoFgyniLX4</td>\n",
              "      <td>arms apart circular toe touch (male)</td>\n",
              "      <td>glutes</td>\n",
              "      <td>hamstrings, quadriceps, calves</td>\n",
              "      <td>Stand with your feet shoulder-width apart and ...</td>\n",
              "    </tr>\n",
              "    <tr>\n",
              "      <th>17</th>\n",
              "      <td>upper legs</td>\n",
              "      <td>assisted</td>\n",
              "      <td>https://v2.exercisedb.io/image/pIPCvG-7PYwJyb</td>\n",
              "      <td>assisted lying glutes stretch</td>\n",
              "      <td>glutes</td>\n",
              "      <td>hamstrings</td>\n",
              "      <td>Lie on your back with your legs extended. Bend...</td>\n",
              "    </tr>\n",
              "    <tr>\n",
              "      <th>18</th>\n",
              "      <td>upper legs</td>\n",
              "      <td>assisted</td>\n",
              "      <td>https://v2.exercisedb.io/image/re-rcIyamJTP9k</td>\n",
              "      <td>assisted lying gluteus and piriformis stretch</td>\n",
              "      <td>glutes</td>\n",
              "      <td>hamstrings</td>\n",
              "      <td>Lie on your back with your legs extended. Bend...</td>\n",
              "    </tr>\n",
              "    <tr>\n",
              "      <th>23</th>\n",
              "      <td>upper legs</td>\n",
              "      <td>assisted</td>\n",
              "      <td>https://v2.exercisedb.io/image/ytpSbFtNhvVICC</td>\n",
              "      <td>assisted prone hamstring</td>\n",
              "      <td>hamstrings</td>\n",
              "      <td>glutes, lower back</td>\n",
              "      <td>Lie face down on a mat or bench with your legs...</td>\n",
              "    </tr>\n",
              "  </tbody>\n",
              "</table>\n",
              "</div>"
            ],
            "text/plain": [
              "      bodyPart    equipment                                         gifUrl  \\\n",
              "3   upper legs  body weight  https://v2.exercisedb.io/image/XPQwM7HECjgNFE   \n",
              "11  upper legs  body weight  https://v2.exercisedb.io/image/sGs-MoFgyniLX4   \n",
              "17  upper legs     assisted  https://v2.exercisedb.io/image/pIPCvG-7PYwJyb   \n",
              "18  upper legs     assisted  https://v2.exercisedb.io/image/re-rcIyamJTP9k   \n",
              "23  upper legs     assisted  https://v2.exercisedb.io/image/ytpSbFtNhvVICC   \n",
              "\n",
              "                                             name      target  \\\n",
              "3                         all fours squad stretch       quads   \n",
              "11           arms apart circular toe touch (male)      glutes   \n",
              "17                  assisted lying glutes stretch      glutes   \n",
              "18  assisted lying gluteus and piriformis stretch      glutes   \n",
              "23                       assisted prone hamstring  hamstrings   \n",
              "\n",
              "                  secondaryMuscles  \\\n",
              "3               hamstrings, glutes   \n",
              "11  hamstrings, quadriceps, calves   \n",
              "17                      hamstrings   \n",
              "18                      hamstrings   \n",
              "23              glutes, lower back   \n",
              "\n",
              "                                         instructions  \n",
              "3   Start on all fours with your hands directly un...  \n",
              "11  Stand with your feet shoulder-width apart and ...  \n",
              "17  Lie on your back with your legs extended. Bend...  \n",
              "18  Lie on your back with your legs extended. Bend...  \n",
              "23  Lie face down on a mat or bench with your legs...  "
            ]
          },
          "execution_count": 160,
          "metadata": {},
          "output_type": "execute_result"
        }
      ],
      "source": [
        "upper_legs_data = data[data['bodyPart'] == 'upper legs']\n",
        "upper_legs_data.head()"
      ]
    },
    {
      "cell_type": "code",
      "execution_count": 161,
      "metadata": {},
      "outputs": [
        {
          "data": {
            "image/png": "[encoded data removed]",
            "text/plain": [
              "<Figure size 640x480 with 1 Axes>"
            ]
          },
          "metadata": {},
          "output_type": "display_data"
        }
      ],
      "source": [
        "ax = sns.countplot(data=upper_legs_data,y='equipment')\n",
        "ax.bar_label(ax.containers[0])\n",
        "plt.show()"
      ]
    },
    {
      "cell_type": "code",
      "execution_count": 162,
      "metadata": {},
      "outputs": [
        {
          "data": {
            "image/png": "[encoded data removed]",
            "text/plain": [
              "<Figure size 640x480 with 1 Axes>"
            ]
          },
          "metadata": {},
          "output_type": "display_data"
        }
      ],
      "source": [
        "ax = sns.countplot(data=upper_legs_data,y='target')\n",
        "ax.bar_label(ax.containers[0])\n",
        "plt.show()"
      ]
    },
    {
      "cell_type": "markdown",
      "metadata": {},
      "source": [
        "### Filter bodyPart 'back' data distribution in the dataset "
      ]
    },
    {
      "cell_type": "code",
      "execution_count": 163,
      "metadata": {},
      "outputs": [
        {
          "data": {
            "text/html": [
              "<div>\n",
              "<style scoped>\n",
              "    .dataframe tbody tr th:only-of-type {\n",
              "        vertical-align: middle;\n",
              "    }\n",
              "\n",
              "    .dataframe tbody tr th {\n",
              "        vertical-align: top;\n",
              "    }\n",
              "\n",
              "    .dataframe thead th {\n",
              "        text-align: right;\n",
              "    }\n",
              "</style>\n",
              "<table border=\"1\" class=\"dataframe\">\n",
              "  <thead>\n",
              "    <tr style=\"text-align: right;\">\n",
              "      <th></th>\n",
              "      <th>bodyPart</th>\n",
              "      <th>equipment</th>\n",
              "      <th>gifUrl</th>\n",
              "      <th>name</th>\n",
              "      <th>target</th>\n",
              "      <th>secondaryMuscles</th>\n",
              "      <th>instructions</th>\n",
              "    </tr>\n",
              "  </thead>\n",
              "  <tbody>\n",
              "    <tr>\n",
              "      <th>5</th>\n",
              "      <td>back</td>\n",
              "      <td>cable</td>\n",
              "      <td>https://v2.exercisedb.io/image/Az5UYVYNa4j-oS</td>\n",
              "      <td>alternate lateral pulldown</td>\n",
              "      <td>lats</td>\n",
              "      <td>biceps, rhomboids</td>\n",
              "      <td>Sit on the cable machine with your back straig...</td>\n",
              "    </tr>\n",
              "    <tr>\n",
              "      <th>7</th>\n",
              "      <td>back</td>\n",
              "      <td>body weight</td>\n",
              "      <td>https://v2.exercisedb.io/image/LSBkdKcbK4xj8n</td>\n",
              "      <td>archer pull up</td>\n",
              "      <td>lats</td>\n",
              "      <td>biceps, forearms</td>\n",
              "      <td>Start by hanging from a pull-up bar with an ov...</td>\n",
              "    </tr>\n",
              "    <tr>\n",
              "      <th>22</th>\n",
              "      <td>back</td>\n",
              "      <td>leverage machine</td>\n",
              "      <td>https://v2.exercisedb.io/image/dV2Lj3p2pfkt4c</td>\n",
              "      <td>assisted parallel close grip pull-up</td>\n",
              "      <td>lats</td>\n",
              "      <td>biceps, forearms</td>\n",
              "      <td>Adjust the machine to your desired weight and ...</td>\n",
              "    </tr>\n",
              "    <tr>\n",
              "      <th>26</th>\n",
              "      <td>back</td>\n",
              "      <td>leverage machine</td>\n",
              "      <td>https://v2.exercisedb.io/image/rFSbsEA3x-wTKy</td>\n",
              "      <td>assisted pull-up</td>\n",
              "      <td>lats</td>\n",
              "      <td>biceps, forearms</td>\n",
              "      <td>Adjust the machine to your desired weight and ...</td>\n",
              "    </tr>\n",
              "    <tr>\n",
              "      <th>30</th>\n",
              "      <td>back</td>\n",
              "      <td>leverage machine</td>\n",
              "      <td>https://v2.exercisedb.io/image/iD6I6vHUV4flxZ</td>\n",
              "      <td>assisted standing chin-up</td>\n",
              "      <td>lats</td>\n",
              "      <td>biceps, forearms</td>\n",
              "      <td>Adjust the machine to your desired assistance ...</td>\n",
              "    </tr>\n",
              "  </tbody>\n",
              "</table>\n",
              "</div>"
            ],
            "text/plain": [
              "   bodyPart         equipment                                         gifUrl  \\\n",
              "5      back             cable  https://v2.exercisedb.io/image/Az5UYVYNa4j-oS   \n",
              "7      back       body weight  https://v2.exercisedb.io/image/LSBkdKcbK4xj8n   \n",
              "22     back  leverage machine  https://v2.exercisedb.io/image/dV2Lj3p2pfkt4c   \n",
              "26     back  leverage machine  https://v2.exercisedb.io/image/rFSbsEA3x-wTKy   \n",
              "30     back  leverage machine  https://v2.exercisedb.io/image/iD6I6vHUV4flxZ   \n",
              "\n",
              "                                    name target   secondaryMuscles  \\\n",
              "5             alternate lateral pulldown   lats  biceps, rhomboids   \n",
              "7                         archer pull up   lats   biceps, forearms   \n",
              "22  assisted parallel close grip pull-up   lats   biceps, forearms   \n",
              "26                      assisted pull-up   lats   biceps, forearms   \n",
              "30             assisted standing chin-up   lats   biceps, forearms   \n",
              "\n",
              "                                         instructions  \n",
              "5   Sit on the cable machine with your back straig...  \n",
              "7   Start by hanging from a pull-up bar with an ov...  \n",
              "22  Adjust the machine to your desired weight and ...  \n",
              "26  Adjust the machine to your desired weight and ...  \n",
              "30  Adjust the machine to your desired assistance ...  "
            ]
          },
          "execution_count": 163,
          "metadata": {},
          "output_type": "execute_result"
        }
      ],
      "source": [
        "back_data = data[data['bodyPart'] == 'back']\n",
        "back_data.head()"
      ]
    },
    {
      "cell_type": "code",
      "execution_count": 164,
      "metadata": {},
      "outputs": [
        {
          "data": {
            "image/png": "[encoded data removed]",
            "text/plain": [
              "<Figure size 640x480 with 1 Axes>"
            ]
          },
          "metadata": {},
          "output_type": "display_data"
        }
      ],
      "source": [
        "ax = sns.countplot(data=back_data,y='equipment')\n",
        "ax.bar_label(ax.containers[0])\n",
        "plt.show()"
      ]
    },
    {
      "cell_type": "code",
      "execution_count": 165,
      "metadata": {},
      "outputs": [
        {
          "data": {
            "image/png": "[encoded data removed]",
            "text/plain": [
              "<Figure size 640x480 with 1 Axes>"
            ]
          },
          "metadata": {},
          "output_type": "display_data"
        }
      ],
      "source": [
        "ax = sns.countplot(data=back_data,y='target')\n",
        "ax.bar_label(ax.containers[0])\n",
        "plt.show()"
      ]
    },
    {
      "cell_type": "markdown",
      "metadata": {},
      "source": [
        "### Filter bodyPart 'lower legs' data distribution in the dataset "
      ]
    },
    {
      "cell_type": "code",
      "execution_count": 166,
      "metadata": {},
      "outputs": [
        {
          "data": {
            "text/html": [
              "<div>\n",
              "<style scoped>\n",
              "    .dataframe tbody tr th:only-of-type {\n",
              "        vertical-align: middle;\n",
              "    }\n",
              "\n",
              "    .dataframe tbody tr th {\n",
              "        vertical-align: top;\n",
              "    }\n",
              "\n",
              "    .dataframe thead th {\n",
              "        text-align: right;\n",
              "    }\n",
              "</style>\n",
              "<table border=\"1\" class=\"dataframe\">\n",
              "  <thead>\n",
              "    <tr style=\"text-align: right;\">\n",
              "      <th></th>\n",
              "      <th>bodyPart</th>\n",
              "      <th>equipment</th>\n",
              "      <th>gifUrl</th>\n",
              "      <th>name</th>\n",
              "      <th>target</th>\n",
              "      <th>secondaryMuscles</th>\n",
              "      <th>instructions</th>\n",
              "    </tr>\n",
              "  </thead>\n",
              "  <tbody>\n",
              "    <tr>\n",
              "      <th>6</th>\n",
              "      <td>lower legs</td>\n",
              "      <td>body weight</td>\n",
              "      <td>https://v2.exercisedb.io/image/ivmTcSJsMlXJeK</td>\n",
              "      <td>ankle circles</td>\n",
              "      <td>calves</td>\n",
              "      <td>ankle stabilizers</td>\n",
              "      <td>Sit on the ground with your legs extended in f...</td>\n",
              "    </tr>\n",
              "    <tr>\n",
              "      <th>16</th>\n",
              "      <td>lower legs</td>\n",
              "      <td>assisted</td>\n",
              "      <td>https://v2.exercisedb.io/image/FHWElls92kFz7u</td>\n",
              "      <td>assisted lying calves stretch</td>\n",
              "      <td>calves</td>\n",
              "      <td>hamstrings</td>\n",
              "      <td>Lie on your back with your legs extended. Bend...</td>\n",
              "    </tr>\n",
              "    <tr>\n",
              "      <th>77</th>\n",
              "      <td>lower legs</td>\n",
              "      <td>band</td>\n",
              "      <td>https://v2.exercisedb.io/image/tgDhZRp45npWII</td>\n",
              "      <td>band single leg calf raise</td>\n",
              "      <td>calves</td>\n",
              "      <td>ankles, feet</td>\n",
              "      <td>Stand with your feet hip-width apart and place...</td>\n",
              "    </tr>\n",
              "    <tr>\n",
              "      <th>78</th>\n",
              "      <td>lower legs</td>\n",
              "      <td>band</td>\n",
              "      <td>https://v2.exercisedb.io/image/r1buBLtWssfNHS</td>\n",
              "      <td>band single leg reverse calf raise</td>\n",
              "      <td>calves</td>\n",
              "      <td>hamstrings, glutes</td>\n",
              "      <td>Stand with your feet hip-width apart and place...</td>\n",
              "    </tr>\n",
              "    <tr>\n",
              "      <th>90</th>\n",
              "      <td>lower legs</td>\n",
              "      <td>band</td>\n",
              "      <td>https://v2.exercisedb.io/image/TrXQWKtgFRJuDh</td>\n",
              "      <td>band two legs calf raise - (band under both le...</td>\n",
              "      <td>calves</td>\n",
              "      <td>ankles, feet</td>\n",
              "      <td>Stand with your feet shoulder-width apart and ...</td>\n",
              "    </tr>\n",
              "  </tbody>\n",
              "</table>\n",
              "</div>"
            ],
            "text/plain": [
              "      bodyPart    equipment                                         gifUrl  \\\n",
              "6   lower legs  body weight  https://v2.exercisedb.io/image/ivmTcSJsMlXJeK   \n",
              "16  lower legs     assisted  https://v2.exercisedb.io/image/FHWElls92kFz7u   \n",
              "77  lower legs         band  https://v2.exercisedb.io/image/tgDhZRp45npWII   \n",
              "78  lower legs         band  https://v2.exercisedb.io/image/r1buBLtWssfNHS   \n",
              "90  lower legs         band  https://v2.exercisedb.io/image/TrXQWKtgFRJuDh   \n",
              "\n",
              "                                                 name  target  \\\n",
              "6                                       ankle circles  calves   \n",
              "16                      assisted lying calves stretch  calves   \n",
              "77                         band single leg calf raise  calves   \n",
              "78                 band single leg reverse calf raise  calves   \n",
              "90  band two legs calf raise - (band under both le...  calves   \n",
              "\n",
              "      secondaryMuscles                                       instructions  \n",
              "6    ankle stabilizers  Sit on the ground with your legs extended in f...  \n",
              "16          hamstrings  Lie on your back with your legs extended. Bend...  \n",
              "77        ankles, feet  Stand with your feet hip-width apart and place...  \n",
              "78  hamstrings, glutes  Stand with your feet hip-width apart and place...  \n",
              "90        ankles, feet  Stand with your feet shoulder-width apart and ...  "
            ]
          },
          "execution_count": 166,
          "metadata": {},
          "output_type": "execute_result"
        }
      ],
      "source": [
        "lower_legs_data = data[data['bodyPart'] == 'lower legs']\n",
        "lower_legs_data.head()"
      ]
    },
    {
      "cell_type": "code",
      "execution_count": 167,
      "metadata": {},
      "outputs": [
        {
          "data": {
            "image/png": "[encoded data removed]",
            "text/plain": [
              "<Figure size 640x480 with 1 Axes>"
            ]
          },
          "metadata": {},
          "output_type": "display_data"
        }
      ],
      "source": [
        "ax = sns.countplot(data=lower_legs_data,y='equipment')\n",
        "ax.bar_label(ax.containers[0])\n",
        "plt.show()"
      ]
    },
    {
      "cell_type": "code",
      "execution_count": 168,
      "metadata": {},
      "outputs": [
        {
          "data": {
            "image/png": "[encoded data removed]",
            "text/plain": [
              "<Figure size 640x480 with 1 Axes>"
            ]
          },
          "metadata": {},
          "output_type": "display_data"
        }
      ],
      "source": [
        "ax = sns.countplot(data=lower_legs_data,y='target')\n",
        "ax.bar_label(ax.containers[0])\n",
        "plt.show()"
      ]
    },
    {
      "cell_type": "markdown",
      "metadata": {},
      "source": [
        "### Filter bodyPart 'back' data distribution in the dataset "
      ]
    },
    {
      "cell_type": "code",
      "execution_count": 169,
      "metadata": {},
      "outputs": [
        {
          "data": {
            "text/html": [
              "<div>\n",
              "<style scoped>\n",
              "    .dataframe tbody tr th:only-of-type {\n",
              "        vertical-align: middle;\n",
              "    }\n",
              "\n",
              "    .dataframe tbody tr th {\n",
              "        vertical-align: top;\n",
              "    }\n",
              "\n",
              "    .dataframe thead th {\n",
              "        text-align: right;\n",
              "    }\n",
              "</style>\n",
              "<table border=\"1\" class=\"dataframe\">\n",
              "  <thead>\n",
              "    <tr style=\"text-align: right;\">\n",
              "      <th></th>\n",
              "      <th>bodyPart</th>\n",
              "      <th>equipment</th>\n",
              "      <th>gifUrl</th>\n",
              "      <th>name</th>\n",
              "      <th>target</th>\n",
              "      <th>secondaryMuscles</th>\n",
              "      <th>instructions</th>\n",
              "    </tr>\n",
              "  </thead>\n",
              "  <tbody>\n",
              "    <tr>\n",
              "      <th>8</th>\n",
              "      <td>chest</td>\n",
              "      <td>body weight</td>\n",
              "      <td>https://v2.exercisedb.io/image/GSjHZGSiL1VbQ7</td>\n",
              "      <td>archer push up</td>\n",
              "      <td>pectorals</td>\n",
              "      <td>triceps, shoulders, core</td>\n",
              "      <td>Start in a push-up position with your hands sl...</td>\n",
              "    </tr>\n",
              "    <tr>\n",
              "      <th>13</th>\n",
              "      <td>chest</td>\n",
              "      <td>leverage machine</td>\n",
              "      <td>https://v2.exercisedb.io/image/AbxK1fjW5YdIBj</td>\n",
              "      <td>assisted chest dip (kneeling)</td>\n",
              "      <td>pectorals</td>\n",
              "      <td>triceps, shoulders</td>\n",
              "      <td>Adjust the machine to your desired height and ...</td>\n",
              "    </tr>\n",
              "    <tr>\n",
              "      <th>27</th>\n",
              "      <td>chest</td>\n",
              "      <td>assisted</td>\n",
              "      <td>https://v2.exercisedb.io/image/V4PlYYE0rlK7tY</td>\n",
              "      <td>assisted seated pectoralis major stretch with ...</td>\n",
              "      <td>pectorals</td>\n",
              "      <td>shoulders, triceps</td>\n",
              "      <td>Sit on a stability ball with your feet flat on...</td>\n",
              "    </tr>\n",
              "    <tr>\n",
              "      <th>34</th>\n",
              "      <td>chest</td>\n",
              "      <td>leverage machine</td>\n",
              "      <td>https://v2.exercisedb.io/image/9RWiaQoGBGogXv</td>\n",
              "      <td>assisted wide-grip chest dip (kneeling)</td>\n",
              "      <td>pectorals</td>\n",
              "      <td>triceps, shoulders</td>\n",
              "      <td>Adjust the machine to your desired height and ...</td>\n",
              "    </tr>\n",
              "    <tr>\n",
              "      <th>46</th>\n",
              "      <td>chest</td>\n",
              "      <td>band</td>\n",
              "      <td>https://v2.exercisedb.io/image/oyWqo0D8zSMbyD</td>\n",
              "      <td>band bench press</td>\n",
              "      <td>pectorals</td>\n",
              "      <td>triceps, shoulders</td>\n",
              "      <td>Lie flat on a bench with your feet flat on the...</td>\n",
              "    </tr>\n",
              "  </tbody>\n",
              "</table>\n",
              "</div>"
            ],
            "text/plain": [
              "   bodyPart         equipment                                         gifUrl  \\\n",
              "8     chest       body weight  https://v2.exercisedb.io/image/GSjHZGSiL1VbQ7   \n",
              "13    chest  leverage machine  https://v2.exercisedb.io/image/AbxK1fjW5YdIBj   \n",
              "27    chest          assisted  https://v2.exercisedb.io/image/V4PlYYE0rlK7tY   \n",
              "34    chest  leverage machine  https://v2.exercisedb.io/image/9RWiaQoGBGogXv   \n",
              "46    chest              band  https://v2.exercisedb.io/image/oyWqo0D8zSMbyD   \n",
              "\n",
              "                                                 name     target  \\\n",
              "8                                      archer push up  pectorals   \n",
              "13                      assisted chest dip (kneeling)  pectorals   \n",
              "27  assisted seated pectoralis major stretch with ...  pectorals   \n",
              "34            assisted wide-grip chest dip (kneeling)  pectorals   \n",
              "46                                   band bench press  pectorals   \n",
              "\n",
              "            secondaryMuscles  \\\n",
              "8   triceps, shoulders, core   \n",
              "13        triceps, shoulders   \n",
              "27        shoulders, triceps   \n",
              "34        triceps, shoulders   \n",
              "46        triceps, shoulders   \n",
              "\n",
              "                                         instructions  \n",
              "8   Start in a push-up position with your hands sl...  \n",
              "13  Adjust the machine to your desired height and ...  \n",
              "27  Sit on a stability ball with your feet flat on...  \n",
              "34  Adjust the machine to your desired height and ...  \n",
              "46  Lie flat on a bench with your feet flat on the...  "
            ]
          },
          "execution_count": 169,
          "metadata": {},
          "output_type": "execute_result"
        }
      ],
      "source": [
        "chest_data = data[data['bodyPart'] == 'chest']\n",
        "chest_data.head()"
      ]
    },
    {
      "cell_type": "code",
      "execution_count": 170,
      "metadata": {},
      "outputs": [
        {
          "data": {
            "image/png": "[encoded data removed]",
            "text/plain": [
              "<Figure size 640x480 with 1 Axes>"
            ]
          },
          "metadata": {},
          "output_type": "display_data"
        }
      ],
      "source": [
        "ax = sns.countplot(data=chest_data,y='equipment')\n",
        "ax.bar_label(ax.containers[0])\n",
        "plt.show()"
      ]
    },
    {
      "cell_type": "code",
      "execution_count": 171,
      "metadata": {},
      "outputs": [
        {
          "data": {
            "image/png": "[encoded data removed]",
            "text/plain": [
              "<Figure size 640x480 with 1 Axes>"
            ]
          },
          "metadata": {},
          "output_type": "display_data"
        }
      ],
      "source": [
        "ax = sns.countplot(data=chest_data,y='target')\n",
        "ax.bar_label(ax.containers[0])\n",
        "plt.show()"
      ]
    },
    {
      "cell_type": "markdown",
      "metadata": {},
      "source": [
        "### Filter bodyPart 'upper arms' data distribution in the dataset "
      ]
    },
    {
      "cell_type": "code",
      "execution_count": 172,
      "metadata": {},
      "outputs": [
        {
          "data": {
            "text/html": [
              "<div>\n",
              "<style scoped>\n",
              "    .dataframe tbody tr th:only-of-type {\n",
              "        vertical-align: middle;\n",
              "    }\n",
              "\n",
              "    .dataframe tbody tr th {\n",
              "        vertical-align: top;\n",
              "    }\n",
              "\n",
              "    .dataframe thead th {\n",
              "        text-align: right;\n",
              "    }\n",
              "</style>\n",
              "<table border=\"1\" class=\"dataframe\">\n",
              "  <thead>\n",
              "    <tr style=\"text-align: right;\">\n",
              "      <th></th>\n",
              "      <th>bodyPart</th>\n",
              "      <th>equipment</th>\n",
              "      <th>gifUrl</th>\n",
              "      <th>name</th>\n",
              "      <th>target</th>\n",
              "      <th>secondaryMuscles</th>\n",
              "      <th>instructions</th>\n",
              "    </tr>\n",
              "  </thead>\n",
              "  <tbody>\n",
              "    <tr>\n",
              "      <th>32</th>\n",
              "      <td>upper arms</td>\n",
              "      <td>assisted</td>\n",
              "      <td>https://v2.exercisedb.io/image/qnqFpisTx9R-gB</td>\n",
              "      <td>assisted standing triceps extension (with towel)</td>\n",
              "      <td>triceps</td>\n",
              "      <td>shoulders</td>\n",
              "      <td>Stand with your feet shoulder-width apart and ...</td>\n",
              "    </tr>\n",
              "    <tr>\n",
              "      <th>33</th>\n",
              "      <td>upper arms</td>\n",
              "      <td>leverage machine</td>\n",
              "      <td>https://v2.exercisedb.io/image/Wr9I3UD5-miI3Y</td>\n",
              "      <td>assisted triceps dip (kneeling)</td>\n",
              "      <td>triceps</td>\n",
              "      <td>chest, shoulders</td>\n",
              "      <td>Adjust the machine to your desired weight and ...</td>\n",
              "    </tr>\n",
              "    <tr>\n",
              "      <th>42</th>\n",
              "      <td>upper arms</td>\n",
              "      <td>band</td>\n",
              "      <td>https://v2.exercisedb.io/image/y5DNwJsa0ZCGV3</td>\n",
              "      <td>band alternating biceps curl</td>\n",
              "      <td>biceps</td>\n",
              "      <td>forearms</td>\n",
              "      <td>Stand with your feet shoulder-width apart and ...</td>\n",
              "    </tr>\n",
              "    <tr>\n",
              "      <th>50</th>\n",
              "      <td>upper arms</td>\n",
              "      <td>band</td>\n",
              "      <td>https://v2.exercisedb.io/image/bepXYwVrQpSP7W</td>\n",
              "      <td>band close-grip push-up</td>\n",
              "      <td>triceps</td>\n",
              "      <td>chest, shoulders</td>\n",
              "      <td>Place a band around your upper arms, just abov...</td>\n",
              "    </tr>\n",
              "    <tr>\n",
              "      <th>51</th>\n",
              "      <td>upper arms</td>\n",
              "      <td>band</td>\n",
              "      <td>https://v2.exercisedb.io/image/-FDJYdjMlHuHvl</td>\n",
              "      <td>band concentration curl</td>\n",
              "      <td>biceps</td>\n",
              "      <td>forearms</td>\n",
              "      <td>Sit on a bench or chair with your legs spread ...</td>\n",
              "    </tr>\n",
              "  </tbody>\n",
              "</table>\n",
              "</div>"
            ],
            "text/plain": [
              "      bodyPart         equipment  \\\n",
              "32  upper arms          assisted   \n",
              "33  upper arms  leverage machine   \n",
              "42  upper arms              band   \n",
              "50  upper arms              band   \n",
              "51  upper arms              band   \n",
              "\n",
              "                                           gifUrl  \\\n",
              "32  https://v2.exercisedb.io/image/qnqFpisTx9R-gB   \n",
              "33  https://v2.exercisedb.io/image/Wr9I3UD5-miI3Y   \n",
              "42  https://v2.exercisedb.io/image/y5DNwJsa0ZCGV3   \n",
              "50  https://v2.exercisedb.io/image/bepXYwVrQpSP7W   \n",
              "51  https://v2.exercisedb.io/image/-FDJYdjMlHuHvl   \n",
              "\n",
              "                                                name   target  \\\n",
              "32  assisted standing triceps extension (with towel)  triceps   \n",
              "33                   assisted triceps dip (kneeling)  triceps   \n",
              "42                      band alternating biceps curl   biceps   \n",
              "50                           band close-grip push-up  triceps   \n",
              "51                           band concentration curl   biceps   \n",
              "\n",
              "    secondaryMuscles                                       instructions  \n",
              "32         shoulders  Stand with your feet shoulder-width apart and ...  \n",
              "33  chest, shoulders  Adjust the machine to your desired weight and ...  \n",
              "42          forearms  Stand with your feet shoulder-width apart and ...  \n",
              "50  chest, shoulders  Place a band around your upper arms, just abov...  \n",
              "51          forearms  Sit on a bench or chair with your legs spread ...  "
            ]
          },
          "execution_count": 172,
          "metadata": {},
          "output_type": "execute_result"
        }
      ],
      "source": [
        "upper_arms_data = data[data['bodyPart'] == 'upper arms']\n",
        "upper_arms_data.head()"
      ]
    },
    {
      "cell_type": "code",
      "execution_count": 173,
      "metadata": {},
      "outputs": [
        {
          "data": {
            "image/png": "[encoded data removed]",
            "text/plain": [
              "<Figure size 640x480 with 1 Axes>"
            ]
          },
          "metadata": {},
          "output_type": "display_data"
        }
      ],
      "source": [
        "ax = sns.countplot(data=upper_arms_data,y='equipment')\n",
        "ax.bar_label(ax.containers[0])\n",
        "plt.show()"
      ]
    },
    {
      "cell_type": "code",
      "execution_count": 174,
      "metadata": {},
      "outputs": [
        {
          "data": {
            "image/png": "[encoded data removed]",
            "text/plain": [
              "<Figure size 640x480 with 1 Axes>"
            ]
          },
          "metadata": {},
          "output_type": "display_data"
        }
      ],
      "source": [
        "ax = sns.countplot(data=upper_arms_data,y='target')\n",
        "ax.bar_label(ax.containers[0])\n",
        "plt.show()"
      ]
    },
    {
      "cell_type": "markdown",
      "metadata": {},
      "source": [
        "### Filter bodyPart 'cardio' data distribution in the dataset "
      ]
    },
    {
      "cell_type": "code",
      "execution_count": 175,
      "metadata": {},
      "outputs": [
        {
          "data": {
            "text/html": [
              "<div>\n",
              "<style scoped>\n",
              "    .dataframe tbody tr th:only-of-type {\n",
              "        vertical-align: middle;\n",
              "    }\n",
              "\n",
              "    .dataframe tbody tr th {\n",
              "        vertical-align: top;\n",
              "    }\n",
              "\n",
              "    .dataframe thead th {\n",
              "        text-align: right;\n",
              "    }\n",
              "</style>\n",
              "<table border=\"1\" class=\"dataframe\">\n",
              "  <thead>\n",
              "    <tr style=\"text-align: right;\">\n",
              "      <th></th>\n",
              "      <th>bodyPart</th>\n",
              "      <th>equipment</th>\n",
              "      <th>gifUrl</th>\n",
              "      <th>name</th>\n",
              "      <th>target</th>\n",
              "      <th>secondaryMuscles</th>\n",
              "      <th>instructions</th>\n",
              "    </tr>\n",
              "  </thead>\n",
              "  <tbody>\n",
              "    <tr>\n",
              "      <th>35</th>\n",
              "      <td>cardio</td>\n",
              "      <td>body weight</td>\n",
              "      <td>https://v2.exercisedb.io/image/GzvxMK5EkJ6H43</td>\n",
              "      <td>astride jumps (male)</td>\n",
              "      <td>cardiovascular system</td>\n",
              "      <td>quadriceps, hamstrings, calves</td>\n",
              "      <td>Stand with your feet shoulder-width apart. Ben...</td>\n",
              "    </tr>\n",
              "    <tr>\n",
              "      <th>36</th>\n",
              "      <td>cardio</td>\n",
              "      <td>body weight</td>\n",
              "      <td>https://v2.exercisedb.io/image/akGmnMj1gqgJU3</td>\n",
              "      <td>back and forth step</td>\n",
              "      <td>cardiovascular system</td>\n",
              "      <td>quadriceps, hamstrings, glutes, calves</td>\n",
              "      <td>Stand with your feet shoulder-width apart. Ste...</td>\n",
              "    </tr>\n",
              "    <tr>\n",
              "      <th>239</th>\n",
              "      <td>cardio</td>\n",
              "      <td>body weight</td>\n",
              "      <td>https://v2.exercisedb.io/image/CU7ulGA569adpS</td>\n",
              "      <td>bear crawl</td>\n",
              "      <td>cardiovascular system</td>\n",
              "      <td>core, shoulders, triceps</td>\n",
              "      <td>Start on all fours with your hands directly un...</td>\n",
              "    </tr>\n",
              "    <tr>\n",
              "      <th>266</th>\n",
              "      <td>cardio</td>\n",
              "      <td>body weight</td>\n",
              "      <td>https://v2.exercisedb.io/image/Ouk-Qv9vZOZdwd</td>\n",
              "      <td>burpee</td>\n",
              "      <td>cardiovascular system</td>\n",
              "      <td>quadriceps, hamstrings, calves, shoulders, chest</td>\n",
              "      <td>Start in a standing position with your feet sh...</td>\n",
              "    </tr>\n",
              "    <tr>\n",
              "      <th>453</th>\n",
              "      <td>cardio</td>\n",
              "      <td>leverage machine</td>\n",
              "      <td>https://v2.exercisedb.io/image/eqnA9tzuKcNB5k</td>\n",
              "      <td>cycle cross trainer</td>\n",
              "      <td>cardiovascular system</td>\n",
              "      <td>quadriceps, hamstrings, glutes</td>\n",
              "      <td>Adjust the seat height and position yourself o...</td>\n",
              "    </tr>\n",
              "  </tbody>\n",
              "</table>\n",
              "</div>"
            ],
            "text/plain": [
              "    bodyPart         equipment                                         gifUrl  \\\n",
              "35    cardio       body weight  https://v2.exercisedb.io/image/GzvxMK5EkJ6H43   \n",
              "36    cardio       body weight  https://v2.exercisedb.io/image/akGmnMj1gqgJU3   \n",
              "239   cardio       body weight  https://v2.exercisedb.io/image/CU7ulGA569adpS   \n",
              "266   cardio       body weight  https://v2.exercisedb.io/image/Ouk-Qv9vZOZdwd   \n",
              "453   cardio  leverage machine  https://v2.exercisedb.io/image/eqnA9tzuKcNB5k   \n",
              "\n",
              "                     name                 target  \\\n",
              "35   astride jumps (male)  cardiovascular system   \n",
              "36    back and forth step  cardiovascular system   \n",
              "239            bear crawl  cardiovascular system   \n",
              "266                burpee  cardiovascular system   \n",
              "453   cycle cross trainer  cardiovascular system   \n",
              "\n",
              "                                     secondaryMuscles  \\\n",
              "35                     quadriceps, hamstrings, calves   \n",
              "36             quadriceps, hamstrings, glutes, calves   \n",
              "239                          core, shoulders, triceps   \n",
              "266  quadriceps, hamstrings, calves, shoulders, chest   \n",
              "453                    quadriceps, hamstrings, glutes   \n",
              "\n",
              "                                          instructions  \n",
              "35   Stand with your feet shoulder-width apart. Ben...  \n",
              "36   Stand with your feet shoulder-width apart. Ste...  \n",
              "239  Start on all fours with your hands directly un...  \n",
              "266  Start in a standing position with your feet sh...  \n",
              "453  Adjust the seat height and position yourself o...  "
            ]
          },
          "execution_count": 175,
          "metadata": {},
          "output_type": "execute_result"
        }
      ],
      "source": [
        "cardio_data = data[data['bodyPart'] == 'cardio']\n",
        "cardio_data.head()"
      ]
    },
    {
      "cell_type": "code",
      "execution_count": 176,
      "metadata": {},
      "outputs": [
        {
          "data": {
            "image/png": "[encoded data removed]",
            "text/plain": [
              "<Figure size 640x480 with 1 Axes>"
            ]
          },
          "metadata": {},
          "output_type": "display_data"
        }
      ],
      "source": [
        "ax = sns.countplot(data=cardio_data,y='equipment')\n",
        "ax.bar_label(ax.containers[0])\n",
        "plt.show()"
      ]
    },
    {
      "cell_type": "code",
      "execution_count": 177,
      "metadata": {},
      "outputs": [
        {
          "data": {
            "image/png": "[encoded data removed]",
            "text/plain": [
              "<Figure size 640x480 with 1 Axes>"
            ]
          },
          "metadata": {},
          "output_type": "display_data"
        }
      ],
      "source": [
        "ax = sns.countplot(data=cardio_data,y='target')\n",
        "ax.bar_label(ax.containers[0])\n",
        "plt.show()"
      ]
    },
    {
      "cell_type": "markdown",
      "metadata": {},
      "source": [
        "### Filter bodyPart 'shoulders' data distribution in the dataset "
      ]
    },
    {
      "cell_type": "code",
      "execution_count": 178,
      "metadata": {},
      "outputs": [
        {
          "data": {
            "text/html": [
              "<div>\n",
              "<style scoped>\n",
              "    .dataframe tbody tr th:only-of-type {\n",
              "        vertical-align: middle;\n",
              "    }\n",
              "\n",
              "    .dataframe tbody tr th {\n",
              "        vertical-align: top;\n",
              "    }\n",
              "\n",
              "    .dataframe thead th {\n",
              "        text-align: right;\n",
              "    }\n",
              "</style>\n",
              "<table border=\"1\" class=\"dataframe\">\n",
              "  <thead>\n",
              "    <tr style=\"text-align: right;\">\n",
              "      <th></th>\n",
              "      <th>bodyPart</th>\n",
              "      <th>equipment</th>\n",
              "      <th>gifUrl</th>\n",
              "      <th>name</th>\n",
              "      <th>target</th>\n",
              "      <th>secondaryMuscles</th>\n",
              "      <th>instructions</th>\n",
              "    </tr>\n",
              "  </thead>\n",
              "  <tbody>\n",
              "    <tr>\n",
              "      <th>54</th>\n",
              "      <td>shoulders</td>\n",
              "      <td>band</td>\n",
              "      <td>https://v2.exercisedb.io/image/Lnwg2eVOyiGGH1</td>\n",
              "      <td>band front lateral raise</td>\n",
              "      <td>delts</td>\n",
              "      <td>traps, upper back</td>\n",
              "      <td>Stand with your feet shoulder-width apart and ...</td>\n",
              "    </tr>\n",
              "    <tr>\n",
              "      <th>55</th>\n",
              "      <td>shoulders</td>\n",
              "      <td>band</td>\n",
              "      <td>https://v2.exercisedb.io/image/jbfxRRc0JKrcCT</td>\n",
              "      <td>band front raise</td>\n",
              "      <td>delts</td>\n",
              "      <td>triceps, upper back</td>\n",
              "      <td>Stand with your feet shoulder-width apart and ...</td>\n",
              "    </tr>\n",
              "    <tr>\n",
              "      <th>70</th>\n",
              "      <td>shoulders</td>\n",
              "      <td>band</td>\n",
              "      <td>https://v2.exercisedb.io/image/1Tsu9UbqOeYcwr</td>\n",
              "      <td>band reverse fly</td>\n",
              "      <td>delts</td>\n",
              "      <td>upper back, trapezius</td>\n",
              "      <td>Attach the band to a stationary object at ches...</td>\n",
              "    </tr>\n",
              "    <tr>\n",
              "      <th>74</th>\n",
              "      <td>shoulders</td>\n",
              "      <td>band</td>\n",
              "      <td>https://v2.exercisedb.io/image/t9gbH8wqasEmb0</td>\n",
              "      <td>band shoulder press</td>\n",
              "      <td>delts</td>\n",
              "      <td>triceps, upper back</td>\n",
              "      <td>Stand with your feet shoulder-width apart and ...</td>\n",
              "    </tr>\n",
              "    <tr>\n",
              "      <th>83</th>\n",
              "      <td>shoulders</td>\n",
              "      <td>band</td>\n",
              "      <td>https://v2.exercisedb.io/image/o1qy67cXNqa0S-</td>\n",
              "      <td>band standing rear delt row</td>\n",
              "      <td>delts</td>\n",
              "      <td>trapezius, rhomboids, biceps</td>\n",
              "      <td>Stand with your feet shoulder-width apart and ...</td>\n",
              "    </tr>\n",
              "  </tbody>\n",
              "</table>\n",
              "</div>"
            ],
            "text/plain": [
              "     bodyPart equipment                                         gifUrl  \\\n",
              "54  shoulders      band  https://v2.exercisedb.io/image/Lnwg2eVOyiGGH1   \n",
              "55  shoulders      band  https://v2.exercisedb.io/image/jbfxRRc0JKrcCT   \n",
              "70  shoulders      band  https://v2.exercisedb.io/image/1Tsu9UbqOeYcwr   \n",
              "74  shoulders      band  https://v2.exercisedb.io/image/t9gbH8wqasEmb0   \n",
              "83  shoulders      band  https://v2.exercisedb.io/image/o1qy67cXNqa0S-   \n",
              "\n",
              "                           name target              secondaryMuscles  \\\n",
              "54     band front lateral raise  delts             traps, upper back   \n",
              "55             band front raise  delts           triceps, upper back   \n",
              "70             band reverse fly  delts         upper back, trapezius   \n",
              "74          band shoulder press  delts           triceps, upper back   \n",
              "83  band standing rear delt row  delts  trapezius, rhomboids, biceps   \n",
              "\n",
              "                                         instructions  \n",
              "54  Stand with your feet shoulder-width apart and ...  \n",
              "55  Stand with your feet shoulder-width apart and ...  \n",
              "70  Attach the band to a stationary object at ches...  \n",
              "74  Stand with your feet shoulder-width apart and ...  \n",
              "83  Stand with your feet shoulder-width apart and ...  "
            ]
          },
          "execution_count": 178,
          "metadata": {},
          "output_type": "execute_result"
        }
      ],
      "source": [
        "shoulders_data = data[data['bodyPart'] == 'shoulders']\n",
        "shoulders_data.head()"
      ]
    },
    {
      "cell_type": "code",
      "execution_count": 179,
      "metadata": {},
      "outputs": [
        {
          "data": {
            "image/png": "[encoded data removed]",
            "text/plain": [
              "<Figure size 640x480 with 1 Axes>"
            ]
          },
          "metadata": {},
          "output_type": "display_data"
        }
      ],
      "source": [
        "ax = sns.countplot(data=shoulders_data,y='equipment')\n",
        "ax.bar_label(ax.containers[0])\n",
        "plt.show()"
      ]
    },
    {
      "cell_type": "code",
      "execution_count": 180,
      "metadata": {},
      "outputs": [
        {
          "data": {
            "image/png": "[encoded data removed]",
            "text/plain": [
              "<Figure size 640x480 with 1 Axes>"
            ]
          },
          "metadata": {},
          "output_type": "display_data"
        }
      ],
      "source": [
        "ax = sns.countplot(data=shoulders_data,y='target')\n",
        "ax.bar_label(ax.containers[0])\n",
        "plt.show()"
      ]
    },
    {
      "cell_type": "markdown",
      "metadata": {},
      "source": [
        "### Filter bodyPart 'lower arms' data distribution in the dataset "
      ]
    },
    {
      "cell_type": "code",
      "execution_count": 181,
      "metadata": {},
      "outputs": [
        {
          "data": {
            "text/html": [
              "<div>\n",
              "<style scoped>\n",
              "    .dataframe tbody tr th:only-of-type {\n",
              "        vertical-align: middle;\n",
              "    }\n",
              "\n",
              "    .dataframe tbody tr th {\n",
              "        vertical-align: top;\n",
              "    }\n",
              "\n",
              "    .dataframe thead th {\n",
              "        text-align: right;\n",
              "    }\n",
              "</style>\n",
              "<table border=\"1\" class=\"dataframe\">\n",
              "  <thead>\n",
              "    <tr style=\"text-align: right;\">\n",
              "      <th></th>\n",
              "      <th>bodyPart</th>\n",
              "      <th>equipment</th>\n",
              "      <th>gifUrl</th>\n",
              "      <th>name</th>\n",
              "      <th>target</th>\n",
              "      <th>secondaryMuscles</th>\n",
              "      <th>instructions</th>\n",
              "    </tr>\n",
              "  </thead>\n",
              "  <tbody>\n",
              "    <tr>\n",
              "      <th>71</th>\n",
              "      <td>lower arms</td>\n",
              "      <td>band</td>\n",
              "      <td>https://v2.exercisedb.io/image/sP6B0BzyAwnsyC</td>\n",
              "      <td>band reverse wrist curl</td>\n",
              "      <td>forearms</td>\n",
              "      <td>forearms</td>\n",
              "      <td>Sit on a bench or chair with your feet flat on...</td>\n",
              "    </tr>\n",
              "    <tr>\n",
              "      <th>94</th>\n",
              "      <td>lower arms</td>\n",
              "      <td>band</td>\n",
              "      <td>https://v2.exercisedb.io/image/RQUBteDgupiwgl</td>\n",
              "      <td>band wrist curl</td>\n",
              "      <td>forearms</td>\n",
              "      <td>biceps, triceps</td>\n",
              "      <td>Sit on a bench or chair with your feet flat on...</td>\n",
              "    </tr>\n",
              "    <tr>\n",
              "      <th>156</th>\n",
              "      <td>lower arms</td>\n",
              "      <td>barbell</td>\n",
              "      <td>https://v2.exercisedb.io/image/t0FbvEEv0O7zgQ</td>\n",
              "      <td>barbell palms down wrist curl over a bench</td>\n",
              "      <td>forearms</td>\n",
              "      <td>biceps, brachialis</td>\n",
              "      <td>Sit on a bench with your feet flat on the grou...</td>\n",
              "    </tr>\n",
              "    <tr>\n",
              "      <th>157</th>\n",
              "      <td>lower arms</td>\n",
              "      <td>barbell</td>\n",
              "      <td>https://v2.exercisedb.io/image/MASH24WRX3M7PG</td>\n",
              "      <td>barbell palms up wrist curl over a bench</td>\n",
              "      <td>forearms</td>\n",
              "      <td>biceps, shoulders</td>\n",
              "      <td>Sit on a bench with your feet flat on the grou...</td>\n",
              "    </tr>\n",
              "    <tr>\n",
              "      <th>170</th>\n",
              "      <td>lower arms</td>\n",
              "      <td>barbell</td>\n",
              "      <td>https://v2.exercisedb.io/image/E2MZVcCDUbHMN9</td>\n",
              "      <td>barbell revers wrist curl v. 2</td>\n",
              "      <td>forearms</td>\n",
              "      <td>biceps, brachialis</td>\n",
              "      <td>Sit on a bench with your feet flat on the grou...</td>\n",
              "    </tr>\n",
              "  </tbody>\n",
              "</table>\n",
              "</div>"
            ],
            "text/plain": [
              "       bodyPart equipment                                         gifUrl  \\\n",
              "71   lower arms      band  https://v2.exercisedb.io/image/sP6B0BzyAwnsyC   \n",
              "94   lower arms      band  https://v2.exercisedb.io/image/RQUBteDgupiwgl   \n",
              "156  lower arms   barbell  https://v2.exercisedb.io/image/t0FbvEEv0O7zgQ   \n",
              "157  lower arms   barbell  https://v2.exercisedb.io/image/MASH24WRX3M7PG   \n",
              "170  lower arms   barbell  https://v2.exercisedb.io/image/E2MZVcCDUbHMN9   \n",
              "\n",
              "                                           name    target    secondaryMuscles  \\\n",
              "71                      band reverse wrist curl  forearms            forearms   \n",
              "94                              band wrist curl  forearms     biceps, triceps   \n",
              "156  barbell palms down wrist curl over a bench  forearms  biceps, brachialis   \n",
              "157    barbell palms up wrist curl over a bench  forearms   biceps, shoulders   \n",
              "170              barbell revers wrist curl v. 2  forearms  biceps, brachialis   \n",
              "\n",
              "                                          instructions  \n",
              "71   Sit on a bench or chair with your feet flat on...  \n",
              "94   Sit on a bench or chair with your feet flat on...  \n",
              "156  Sit on a bench with your feet flat on the grou...  \n",
              "157  Sit on a bench with your feet flat on the grou...  \n",
              "170  Sit on a bench with your feet flat on the grou...  "
            ]
          },
          "execution_count": 181,
          "metadata": {},
          "output_type": "execute_result"
        }
      ],
      "source": [
        "lower_arms_data = data[data['bodyPart'] == 'lower arms']\n",
        "lower_arms_data.head()"
      ]
    },
    {
      "cell_type": "code",
      "execution_count": 182,
      "metadata": {},
      "outputs": [
        {
          "data": {
            "image/png": "[encoded data removed]",
            "text/plain": [
              "<Figure size 640x480 with 1 Axes>"
            ]
          },
          "metadata": {},
          "output_type": "display_data"
        }
      ],
      "source": [
        "ax = sns.countplot(data=lower_arms_data,y='equipment')\n",
        "ax.bar_label(ax.containers[0])\n",
        "plt.show()"
      ]
    },
    {
      "cell_type": "code",
      "execution_count": 183,
      "metadata": {},
      "outputs": [
        {
          "data": {
            "image/png": "[encoded data removed]",
            "text/plain": [
              "<Figure size 640x480 with 1 Axes>"
            ]
          },
          "metadata": {},
          "output_type": "display_data"
        }
      ],
      "source": [
        "ax = sns.countplot(data=lower_arms_data,y='target')\n",
        "ax.bar_label(ax.containers[0])\n",
        "plt.show()"
      ]
    },
    {
      "cell_type": "markdown",
      "metadata": {},
      "source": [
        "### Filter bodyPart 'neck' data distribution in the dataset "
      ]
    },
    {
      "cell_type": "code",
      "execution_count": 184,
      "metadata": {},
      "outputs": [
        {
          "data": {
            "text/html": [
              "<div>\n",
              "<style scoped>\n",
              "    .dataframe tbody tr th:only-of-type {\n",
              "        vertical-align: middle;\n",
              "    }\n",
              "\n",
              "    .dataframe tbody tr th {\n",
              "        vertical-align: top;\n",
              "    }\n",
              "\n",
              "    .dataframe thead th {\n",
              "        text-align: right;\n",
              "    }\n",
              "</style>\n",
              "<table border=\"1\" class=\"dataframe\">\n",
              "  <thead>\n",
              "    <tr style=\"text-align: right;\">\n",
              "      <th></th>\n",
              "      <th>bodyPart</th>\n",
              "      <th>equipment</th>\n",
              "      <th>gifUrl</th>\n",
              "      <th>name</th>\n",
              "      <th>target</th>\n",
              "      <th>secondaryMuscles</th>\n",
              "      <th>instructions</th>\n",
              "    </tr>\n",
              "  </thead>\n",
              "  <tbody>\n",
              "    <tr>\n",
              "      <th>1027</th>\n",
              "      <td>neck</td>\n",
              "      <td>body weight</td>\n",
              "      <td>https://v2.exercisedb.io/image/SYJVmmiYxfzdlI</td>\n",
              "      <td>neck side stretch</td>\n",
              "      <td>levator scapulae</td>\n",
              "      <td>trapezius, sternocleidomastoid</td>\n",
              "      <td>Stand or sit up straight with your shoulders r...</td>\n",
              "    </tr>\n",
              "    <tr>\n",
              "      <th>1139</th>\n",
              "      <td>neck</td>\n",
              "      <td>body weight</td>\n",
              "      <td>https://v2.exercisedb.io/image/SL03AL7XKM6M0L</td>\n",
              "      <td>side push neck stretch</td>\n",
              "      <td>levator scapulae</td>\n",
              "      <td>trapezius, sternocleidomastoid</td>\n",
              "      <td>Stand or sit up straight with your shoulders r...</td>\n",
              "    </tr>\n",
              "  </tbody>\n",
              "</table>\n",
              "</div>"
            ],
            "text/plain": [
              "     bodyPart    equipment                                         gifUrl  \\\n",
              "1027     neck  body weight  https://v2.exercisedb.io/image/SYJVmmiYxfzdlI   \n",
              "1139     neck  body weight  https://v2.exercisedb.io/image/SL03AL7XKM6M0L   \n",
              "\n",
              "                        name            target  \\\n",
              "1027       neck side stretch  levator scapulae   \n",
              "1139  side push neck stretch  levator scapulae   \n",
              "\n",
              "                    secondaryMuscles  \\\n",
              "1027  trapezius, sternocleidomastoid   \n",
              "1139  trapezius, sternocleidomastoid   \n",
              "\n",
              "                                           instructions  \n",
              "1027  Stand or sit up straight with your shoulders r...  \n",
              "1139  Stand or sit up straight with your shoulders r...  "
            ]
          },
          "execution_count": 184,
          "metadata": {},
          "output_type": "execute_result"
        }
      ],
      "source": [
        "neck_data = data[data['bodyPart'] == 'neck']\n",
        "neck_data.head()"
      ]
    },
    {
      "cell_type": "code",
      "execution_count": 185,
      "metadata": {},
      "outputs": [
        {
          "data": {
            "image/png": "[encoded data removed]",
            "text/plain": [
              "<Figure size 640x480 with 1 Axes>"
            ]
          },
          "metadata": {},
          "output_type": "display_data"
        }
      ],
      "source": [
        "ax = sns.countplot(data=neck_data,y='equipment')\n",
        "ax.bar_label(ax.containers[0])\n",
        "plt.show()"
      ]
    },
    {
      "cell_type": "code",
      "execution_count": 186,
      "metadata": {},
      "outputs": [
        {
          "data": {
            "image/png": "[encoded data removed]",
            "text/plain": [
              "<Figure size 640x480 with 1 Axes>"
            ]
          },
          "metadata": {},
          "output_type": "display_data"
        }
      ],
      "source": [
        "ax = sns.countplot(data=neck_data,y='target')\n",
        "ax.bar_label(ax.containers[0])\n",
        "plt.show()"
      ]
    },
    {
      "cell_type": "code",
      "execution_count": 187,
      "metadata": {},
      "outputs": [
        {
          "data": {
            "text/html": [
              "<div>\n",
              "<style scoped>\n",
              "    .dataframe tbody tr th:only-of-type {\n",
              "        vertical-align: middle;\n",
              "    }\n",
              "\n",
              "    .dataframe tbody tr th {\n",
              "        vertical-align: top;\n",
              "    }\n",
              "\n",
              "    .dataframe thead th {\n",
              "        text-align: right;\n",
              "    }\n",
              "</style>\n",
              "<table border=\"1\" class=\"dataframe\">\n",
              "  <thead>\n",
              "    <tr style=\"text-align: right;\">\n",
              "      <th></th>\n",
              "      <th>bodyPart</th>\n",
              "      <th>equipment</th>\n",
              "      <th>gifUrl</th>\n",
              "      <th>name</th>\n",
              "      <th>target</th>\n",
              "      <th>secondaryMuscles</th>\n",
              "      <th>instructions</th>\n",
              "    </tr>\n",
              "  </thead>\n",
              "  <tbody>\n",
              "    <tr>\n",
              "      <th>0</th>\n",
              "      <td>waist</td>\n",
              "      <td>body weight</td>\n",
              "      <td>https://v2.exercisedb.io/image/MOnK4iG0MEt9h8</td>\n",
              "      <td>3/4 sit-up</td>\n",
              "      <td>abs</td>\n",
              "      <td>hip flexors, lower back</td>\n",
              "      <td>Lie flat on your back with your knees bent and...</td>\n",
              "    </tr>\n",
              "    <tr>\n",
              "      <th>1</th>\n",
              "      <td>waist</td>\n",
              "      <td>body weight</td>\n",
              "      <td>https://v2.exercisedb.io/image/PERWLDGUxVbpHS</td>\n",
              "      <td>45° side bend</td>\n",
              "      <td>abs</td>\n",
              "      <td>obliques</td>\n",
              "      <td>Stand with your feet shoulder-width apart and ...</td>\n",
              "    </tr>\n",
              "    <tr>\n",
              "      <th>2</th>\n",
              "      <td>waist</td>\n",
              "      <td>body weight</td>\n",
              "      <td>https://v2.exercisedb.io/image/PLr4yo3j-f1amp</td>\n",
              "      <td>air bike</td>\n",
              "      <td>abs</td>\n",
              "      <td>hip flexors</td>\n",
              "      <td>Lie flat on your back with your hands placed b...</td>\n",
              "    </tr>\n",
              "    <tr>\n",
              "      <th>3</th>\n",
              "      <td>upper legs</td>\n",
              "      <td>body weight</td>\n",
              "      <td>https://v2.exercisedb.io/image/XPQwM7HECjgNFE</td>\n",
              "      <td>all fours squad stretch</td>\n",
              "      <td>quads</td>\n",
              "      <td>hamstrings, glutes</td>\n",
              "      <td>Start on all fours with your hands directly un...</td>\n",
              "    </tr>\n",
              "    <tr>\n",
              "      <th>4</th>\n",
              "      <td>waist</td>\n",
              "      <td>body weight</td>\n",
              "      <td>https://v2.exercisedb.io/image/5nYph4eUGNiEdf</td>\n",
              "      <td>alternate heel touchers</td>\n",
              "      <td>abs</td>\n",
              "      <td>obliques</td>\n",
              "      <td>Lie flat on your back with your knees bent and...</td>\n",
              "    </tr>\n",
              "  </tbody>\n",
              "</table>\n",
              "</div>"
            ],
            "text/plain": [
              "     bodyPart    equipment                                         gifUrl  \\\n",
              "0       waist  body weight  https://v2.exercisedb.io/image/MOnK4iG0MEt9h8   \n",
              "1       waist  body weight  https://v2.exercisedb.io/image/PERWLDGUxVbpHS   \n",
              "2       waist  body weight  https://v2.exercisedb.io/image/PLr4yo3j-f1amp   \n",
              "3  upper legs  body weight  https://v2.exercisedb.io/image/XPQwM7HECjgNFE   \n",
              "4       waist  body weight  https://v2.exercisedb.io/image/5nYph4eUGNiEdf   \n",
              "\n",
              "                      name target         secondaryMuscles  \\\n",
              "0               3/4 sit-up    abs  hip flexors, lower back   \n",
              "1            45° side bend    abs                 obliques   \n",
              "2                 air bike    abs              hip flexors   \n",
              "3  all fours squad stretch  quads       hamstrings, glutes   \n",
              "4  alternate heel touchers    abs                 obliques   \n",
              "\n",
              "                                        instructions  \n",
              "0  Lie flat on your back with your knees bent and...  \n",
              "1  Stand with your feet shoulder-width apart and ...  \n",
              "2  Lie flat on your back with your hands placed b...  \n",
              "3  Start on all fours with your hands directly un...  \n",
              "4  Lie flat on your back with your knees bent and...  "
            ]
          },
          "execution_count": 187,
          "metadata": {},
          "output_type": "execute_result"
        }
      ],
      "source": [
        "data.head()"
      ]
    },
    {
      "cell_type": "markdown",
      "metadata": {},
      "source": [
        "### Load another dataset with exercise levels"
      ]
    },
    {
      "cell_type": "code",
      "execution_count": 188,
      "metadata": {},
      "outputs": [],
      "source": [
        "dt = pd.read_csv('Datasets/megaGymDataset.csv')"
      ]
    },
    {
      "cell_type": "code",
      "execution_count": 189,
      "metadata": {},
      "outputs": [
        {
          "data": {
            "text/html": [
              "<div>\n",
              "<style scoped>\n",
              "    .dataframe tbody tr th:only-of-type {\n",
              "        vertical-align: middle;\n",
              "    }\n",
              "\n",
              "    .dataframe tbody tr th {\n",
              "        vertical-align: top;\n",
              "    }\n",
              "\n",
              "    .dataframe thead th {\n",
              "        text-align: right;\n",
              "    }\n",
              "</style>\n",
              "<table border=\"1\" class=\"dataframe\">\n",
              "  <thead>\n",
              "    <tr style=\"text-align: right;\">\n",
              "      <th></th>\n",
              "      <th>Unnamed: 0</th>\n",
              "      <th>Title</th>\n",
              "      <th>Desc</th>\n",
              "      <th>Type</th>\n",
              "      <th>BodyPart</th>\n",
              "      <th>Equipment</th>\n",
              "      <th>Level</th>\n",
              "      <th>Rating</th>\n",
              "      <th>RatingDesc</th>\n",
              "    </tr>\n",
              "  </thead>\n",
              "  <tbody>\n",
              "    <tr>\n",
              "      <th>0</th>\n",
              "      <td>0</td>\n",
              "      <td>Partner plank band row</td>\n",
              "      <td>The partner plank band row is an abdominal exe...</td>\n",
              "      <td>Strength</td>\n",
              "      <td>Abdominals</td>\n",
              "      <td>Bands</td>\n",
              "      <td>Intermediate</td>\n",
              "      <td>0.0</td>\n",
              "      <td>NaN</td>\n",
              "    </tr>\n",
              "    <tr>\n",
              "      <th>1</th>\n",
              "      <td>1</td>\n",
              "      <td>Banded crunch isometric hold</td>\n",
              "      <td>The banded crunch isometric hold is an exercis...</td>\n",
              "      <td>Strength</td>\n",
              "      <td>Abdominals</td>\n",
              "      <td>Bands</td>\n",
              "      <td>Intermediate</td>\n",
              "      <td>NaN</td>\n",
              "      <td>NaN</td>\n",
              "    </tr>\n",
              "    <tr>\n",
              "      <th>2</th>\n",
              "      <td>2</td>\n",
              "      <td>FYR Banded Plank Jack</td>\n",
              "      <td>The banded plank jack is a variation on the pl...</td>\n",
              "      <td>Strength</td>\n",
              "      <td>Abdominals</td>\n",
              "      <td>Bands</td>\n",
              "      <td>Intermediate</td>\n",
              "      <td>NaN</td>\n",
              "      <td>NaN</td>\n",
              "    </tr>\n",
              "    <tr>\n",
              "      <th>3</th>\n",
              "      <td>3</td>\n",
              "      <td>Banded crunch</td>\n",
              "      <td>The banded crunch is an exercise targeting the...</td>\n",
              "      <td>Strength</td>\n",
              "      <td>Abdominals</td>\n",
              "      <td>Bands</td>\n",
              "      <td>Intermediate</td>\n",
              "      <td>NaN</td>\n",
              "      <td>NaN</td>\n",
              "    </tr>\n",
              "    <tr>\n",
              "      <th>4</th>\n",
              "      <td>4</td>\n",
              "      <td>Crunch</td>\n",
              "      <td>The crunch is a popular core exercise targetin...</td>\n",
              "      <td>Strength</td>\n",
              "      <td>Abdominals</td>\n",
              "      <td>Bands</td>\n",
              "      <td>Intermediate</td>\n",
              "      <td>NaN</td>\n",
              "      <td>NaN</td>\n",
              "    </tr>\n",
              "  </tbody>\n",
              "</table>\n",
              "</div>"
            ],
            "text/plain": [
              "   Unnamed: 0                         Title  \\\n",
              "0           0        Partner plank band row   \n",
              "1           1  Banded crunch isometric hold   \n",
              "2           2         FYR Banded Plank Jack   \n",
              "3           3                 Banded crunch   \n",
              "4           4                        Crunch   \n",
              "\n",
              "                                                Desc      Type    BodyPart  \\\n",
              "0  The partner plank band row is an abdominal exe...  Strength  Abdominals   \n",
              "1  The banded crunch isometric hold is an exercis...  Strength  Abdominals   \n",
              "2  The banded plank jack is a variation on the pl...  Strength  Abdominals   \n",
              "3  The banded crunch is an exercise targeting the...  Strength  Abdominals   \n",
              "4  The crunch is a popular core exercise targetin...  Strength  Abdominals   \n",
              "\n",
              "  Equipment         Level  Rating RatingDesc  \n",
              "0     Bands  Intermediate     0.0        NaN  \n",
              "1     Bands  Intermediate     NaN        NaN  \n",
              "2     Bands  Intermediate     NaN        NaN  \n",
              "3     Bands  Intermediate     NaN        NaN  \n",
              "4     Bands  Intermediate     NaN        NaN  "
            ]
          },
          "execution_count": 189,
          "metadata": {},
          "output_type": "execute_result"
        }
      ],
      "source": [
        "dt.head()"
      ]
    },
    {
      "cell_type": "markdown",
      "metadata": {},
      "source": [
        "### Drop unnecessary columns"
      ]
    },
    {
      "cell_type": "code",
      "execution_count": 190,
      "metadata": {},
      "outputs": [],
      "source": [
        "dt = dt[['Title', 'Level']]"
      ]
    },
    {
      "cell_type": "code",
      "execution_count": 191,
      "metadata": {},
      "outputs": [
        {
          "data": {
            "text/html": [
              "<div>\n",
              "<style scoped>\n",
              "    .dataframe tbody tr th:only-of-type {\n",
              "        vertical-align: middle;\n",
              "    }\n",
              "\n",
              "    .dataframe tbody tr th {\n",
              "        vertical-align: top;\n",
              "    }\n",
              "\n",
              "    .dataframe thead th {\n",
              "        text-align: right;\n",
              "    }\n",
              "</style>\n",
              "<table border=\"1\" class=\"dataframe\">\n",
              "  <thead>\n",
              "    <tr style=\"text-align: right;\">\n",
              "      <th></th>\n",
              "      <th>Title</th>\n",
              "      <th>Level</th>\n",
              "    </tr>\n",
              "  </thead>\n",
              "  <tbody>\n",
              "    <tr>\n",
              "      <th>0</th>\n",
              "      <td>Partner plank band row</td>\n",
              "      <td>Intermediate</td>\n",
              "    </tr>\n",
              "    <tr>\n",
              "      <th>1</th>\n",
              "      <td>Banded crunch isometric hold</td>\n",
              "      <td>Intermediate</td>\n",
              "    </tr>\n",
              "    <tr>\n",
              "      <th>2</th>\n",
              "      <td>FYR Banded Plank Jack</td>\n",
              "      <td>Intermediate</td>\n",
              "    </tr>\n",
              "    <tr>\n",
              "      <th>3</th>\n",
              "      <td>Banded crunch</td>\n",
              "      <td>Intermediate</td>\n",
              "    </tr>\n",
              "    <tr>\n",
              "      <th>4</th>\n",
              "      <td>Crunch</td>\n",
              "      <td>Intermediate</td>\n",
              "    </tr>\n",
              "  </tbody>\n",
              "</table>\n",
              "</div>"
            ],
            "text/plain": [
              "                          Title         Level\n",
              "0        Partner plank band row  Intermediate\n",
              "1  Banded crunch isometric hold  Intermediate\n",
              "2         FYR Banded Plank Jack  Intermediate\n",
              "3                 Banded crunch  Intermediate\n",
              "4                        Crunch  Intermediate"
            ]
          },
          "execution_count": 191,
          "metadata": {},
          "output_type": "execute_result"
        }
      ],
      "source": [
        "dt.head()"
      ]
    },
    {
      "cell_type": "markdown",
      "metadata": {},
      "source": [
        "### Train a logistic regression model to predict exersice level"
      ]
    },
    {
      "cell_type": "code",
      "execution_count": 192,
      "metadata": {},
      "outputs": [
        {
          "name": "stdout",
          "output_type": "stream",
          "text": [
            "Accuracy: 0.8458904109589042\n",
            "              precision    recall  f1-score   support\n",
            "\n",
            "    Beginner       0.62      0.22      0.33        95\n",
            "      Expert       0.00      0.00      0.00         3\n",
            "Intermediate       0.86      0.97      0.91       486\n",
            "\n",
            "    accuracy                           0.85       584\n",
            "   macro avg       0.49      0.40      0.41       584\n",
            "weighted avg       0.82      0.85      0.81       584\n",
            "\n"
          ]
        }
      ],
      "source": [
        "# Importing necessary libraries\n",
        "from sklearn.feature_extraction.text import TfidfVectorizer\n",
        "from sklearn.linear_model import LogisticRegression\n",
        "from sklearn.model_selection import train_test_split\n",
        "from sklearn.metrics import accuracy_score, classification_report\n",
        "\n",
        "# Preprocessing the data\n",
        "X = dt['Title']\n",
        "y = dt['Level']\n",
        "\n",
        "# Vectorization using TF-IDF\n",
        "tfidf = TfidfVectorizer()\n",
        "X_tfidf = tfidf.fit_transform(X)\n",
        "\n",
        "# Splitting the dataset into training and testing sets\n",
        "X_train, X_test, y_train, y_test = train_test_split(X_tfidf, y, test_size = 0.2, random_state = 42)\n",
        "\n",
        "# Training the model\n",
        "model = LogisticRegression()\n",
        "model.fit(X_train, y_train)\n",
        "\n",
        "# Evaluating the model\n",
        "y_pred = model.predict(X_test)\n",
        "accuracy = accuracy_score(y_test, y_pred)\n",
        "print(\"Accuracy:\", accuracy)\n",
        "print(classification_report(y_test, y_pred))"
      ]
    },
    {
      "cell_type": "markdown",
      "metadata": {},
      "source": [
        "### Confusion matrix for LR model"
      ]
    },
    {
      "cell_type": "code",
      "execution_count": 193,
      "metadata": {},
      "outputs": [
        {
          "data": {
            "image/png": "[encoded data removed]",
            "text/plain": [
              "<Figure size 400x400 with 1 Axes>"
            ]
          },
          "metadata": {},
          "output_type": "display_data"
        }
      ],
      "source": [
        "from sklearn.metrics import confusion_matrix # Importing confusion matrix\n",
        "\n",
        "cf = confusion_matrix(y_test,y_pred) # Create a confusion matrix\n",
        "plt.figure(figsize=(4, 4))\n",
        "sns.heatmap(cf, annot=True, fmt='d', cmap='Blues', cbar=False) \n",
        "plt.xlabel('Predicted labels')\n",
        "plt.ylabel('True labels')\n",
        "plt.title('Confusion Matrix')\n",
        "plt.show()"
      ]
    },
    {
      "cell_type": "markdown",
      "metadata": {},
      "source": [
        "### Add predicted levels to the main dataset"
      ]
    },
    {
      "cell_type": "code",
      "execution_count": 194,
      "metadata": {},
      "outputs": [
        {
          "data": {
            "text/html": [
              "<div>\n",
              "<style scoped>\n",
              "    .dataframe tbody tr th:only-of-type {\n",
              "        vertical-align: middle;\n",
              "    }\n",
              "\n",
              "    .dataframe tbody tr th {\n",
              "        vertical-align: top;\n",
              "    }\n",
              "\n",
              "    .dataframe thead th {\n",
              "        text-align: right;\n",
              "    }\n",
              "</style>\n",
              "<table border=\"1\" class=\"dataframe\">\n",
              "  <thead>\n",
              "    <tr style=\"text-align: right;\">\n",
              "      <th></th>\n",
              "      <th>bodyPart</th>\n",
              "      <th>equipment</th>\n",
              "      <th>gifUrl</th>\n",
              "      <th>name</th>\n",
              "      <th>target</th>\n",
              "      <th>secondaryMuscles</th>\n",
              "      <th>instructions</th>\n",
              "      <th>Predicted_Level</th>\n",
              "    </tr>\n",
              "  </thead>\n",
              "  <tbody>\n",
              "    <tr>\n",
              "      <th>0</th>\n",
              "      <td>waist</td>\n",
              "      <td>body weight</td>\n",
              "      <td>https://v2.exercisedb.io/image/MOnK4iG0MEt9h8</td>\n",
              "      <td>3/4 sit-up</td>\n",
              "      <td>abs</td>\n",
              "      <td>hip flexors, lower back</td>\n",
              "      <td>Lie flat on your back with your knees bent and...</td>\n",
              "      <td>Intermediate</td>\n",
              "    </tr>\n",
              "    <tr>\n",
              "      <th>1</th>\n",
              "      <td>waist</td>\n",
              "      <td>body weight</td>\n",
              "      <td>https://v2.exercisedb.io/image/PERWLDGUxVbpHS</td>\n",
              "      <td>45° side bend</td>\n",
              "      <td>abs</td>\n",
              "      <td>obliques</td>\n",
              "      <td>Stand with your feet shoulder-width apart and ...</td>\n",
              "      <td>Intermediate</td>\n",
              "    </tr>\n",
              "    <tr>\n",
              "      <th>2</th>\n",
              "      <td>waist</td>\n",
              "      <td>body weight</td>\n",
              "      <td>https://v2.exercisedb.io/image/PLr4yo3j-f1amp</td>\n",
              "      <td>air bike</td>\n",
              "      <td>abs</td>\n",
              "      <td>hip flexors</td>\n",
              "      <td>Lie flat on your back with your hands placed b...</td>\n",
              "      <td>Intermediate</td>\n",
              "    </tr>\n",
              "    <tr>\n",
              "      <th>3</th>\n",
              "      <td>upper legs</td>\n",
              "      <td>body weight</td>\n",
              "      <td>https://v2.exercisedb.io/image/XPQwM7HECjgNFE</td>\n",
              "      <td>all fours squad stretch</td>\n",
              "      <td>quads</td>\n",
              "      <td>hamstrings, glutes</td>\n",
              "      <td>Start on all fours with your hands directly un...</td>\n",
              "      <td>Intermediate</td>\n",
              "    </tr>\n",
              "    <tr>\n",
              "      <th>4</th>\n",
              "      <td>waist</td>\n",
              "      <td>body weight</td>\n",
              "      <td>https://v2.exercisedb.io/image/5nYph4eUGNiEdf</td>\n",
              "      <td>alternate heel touchers</td>\n",
              "      <td>abs</td>\n",
              "      <td>obliques</td>\n",
              "      <td>Lie flat on your back with your knees bent and...</td>\n",
              "      <td>Intermediate</td>\n",
              "    </tr>\n",
              "    <tr>\n",
              "      <th>...</th>\n",
              "      <td>...</td>\n",
              "      <td>...</td>\n",
              "      <td>...</td>\n",
              "      <td>...</td>\n",
              "      <td>...</td>\n",
              "      <td>...</td>\n",
              "      <td>...</td>\n",
              "      <td>...</td>\n",
              "    </tr>\n",
              "    <tr>\n",
              "      <th>1319</th>\n",
              "      <td>chest</td>\n",
              "      <td>body weight</td>\n",
              "      <td>https://v2.exercisedb.io/image/XQn4pU9HRquS2b</td>\n",
              "      <td>wide-grip chest dip on high parallel bars</td>\n",
              "      <td>pectorals</td>\n",
              "      <td>triceps, shoulders</td>\n",
              "      <td>Position yourself on the parallel bars with yo...</td>\n",
              "      <td>Intermediate</td>\n",
              "    </tr>\n",
              "    <tr>\n",
              "      <th>1320</th>\n",
              "      <td>waist</td>\n",
              "      <td>body weight</td>\n",
              "      <td>https://v2.exercisedb.io/image/ZLPKUAaiObH-2X</td>\n",
              "      <td>wind sprints</td>\n",
              "      <td>abs</td>\n",
              "      <td>quadriceps, hamstrings, calves</td>\n",
              "      <td>Find an open space or a track to perform the e...</td>\n",
              "      <td>Intermediate</td>\n",
              "    </tr>\n",
              "    <tr>\n",
              "      <th>1321</th>\n",
              "      <td>upper legs</td>\n",
              "      <td>body weight</td>\n",
              "      <td>https://v2.exercisedb.io/image/3A5fPe5oCr2EwN</td>\n",
              "      <td>world greatest stretch</td>\n",
              "      <td>hamstrings</td>\n",
              "      <td>glutes, quadriceps, calves</td>\n",
              "      <td>Start in a lunge position with your right foot...</td>\n",
              "      <td>Intermediate</td>\n",
              "    </tr>\n",
              "    <tr>\n",
              "      <th>1322</th>\n",
              "      <td>lower arms</td>\n",
              "      <td>body weight</td>\n",
              "      <td>https://v2.exercisedb.io/image/o8lN2wxaJZIzlF</td>\n",
              "      <td>wrist circles</td>\n",
              "      <td>forearms</td>\n",
              "      <td>hands, wrists</td>\n",
              "      <td>Extend your arms straight out in front of you....</td>\n",
              "      <td>Beginner</td>\n",
              "    </tr>\n",
              "    <tr>\n",
              "      <th>1323</th>\n",
              "      <td>lower arms</td>\n",
              "      <td>weighted</td>\n",
              "      <td>https://v2.exercisedb.io/image/bpHngD4xNKxD6u</td>\n",
              "      <td>wrist rollerer</td>\n",
              "      <td>forearms</td>\n",
              "      <td>biceps, triceps</td>\n",
              "      <td>Attach a weight to one end of a rope or bar. H...</td>\n",
              "      <td>Beginner</td>\n",
              "    </tr>\n",
              "  </tbody>\n",
              "</table>\n",
              "<p>1324 rows × 8 columns</p>\n",
              "</div>"
            ],
            "text/plain": [
              "        bodyPart    equipment                                         gifUrl  \\\n",
              "0          waist  body weight  https://v2.exercisedb.io/image/MOnK4iG0MEt9h8   \n",
              "1          waist  body weight  https://v2.exercisedb.io/image/PERWLDGUxVbpHS   \n",
              "2          waist  body weight  https://v2.exercisedb.io/image/PLr4yo3j-f1amp   \n",
              "3     upper legs  body weight  https://v2.exercisedb.io/image/XPQwM7HECjgNFE   \n",
              "4          waist  body weight  https://v2.exercisedb.io/image/5nYph4eUGNiEdf   \n",
              "...          ...          ...                                            ...   \n",
              "1319       chest  body weight  https://v2.exercisedb.io/image/XQn4pU9HRquS2b   \n",
              "1320       waist  body weight  https://v2.exercisedb.io/image/ZLPKUAaiObH-2X   \n",
              "1321  upper legs  body weight  https://v2.exercisedb.io/image/3A5fPe5oCr2EwN   \n",
              "1322  lower arms  body weight  https://v2.exercisedb.io/image/o8lN2wxaJZIzlF   \n",
              "1323  lower arms     weighted  https://v2.exercisedb.io/image/bpHngD4xNKxD6u   \n",
              "\n",
              "                                           name      target  \\\n",
              "0                                    3/4 sit-up         abs   \n",
              "1                                 45° side bend         abs   \n",
              "2                                      air bike         abs   \n",
              "3                       all fours squad stretch       quads   \n",
              "4                       alternate heel touchers         abs   \n",
              "...                                         ...         ...   \n",
              "1319  wide-grip chest dip on high parallel bars   pectorals   \n",
              "1320                               wind sprints         abs   \n",
              "1321                     world greatest stretch  hamstrings   \n",
              "1322                              wrist circles    forearms   \n",
              "1323                             wrist rollerer    forearms   \n",
              "\n",
              "                    secondaryMuscles  \\\n",
              "0            hip flexors, lower back   \n",
              "1                           obliques   \n",
              "2                        hip flexors   \n",
              "3                 hamstrings, glutes   \n",
              "4                           obliques   \n",
              "...                              ...   \n",
              "1319              triceps, shoulders   \n",
              "1320  quadriceps, hamstrings, calves   \n",
              "1321      glutes, quadriceps, calves   \n",
              "1322                   hands, wrists   \n",
              "1323                 biceps, triceps   \n",
              "\n",
              "                                           instructions Predicted_Level  \n",
              "0     Lie flat on your back with your knees bent and...    Intermediate  \n",
              "1     Stand with your feet shoulder-width apart and ...    Intermediate  \n",
              "2     Lie flat on your back with your hands placed b...    Intermediate  \n",
              "3     Start on all fours with your hands directly un...    Intermediate  \n",
              "4     Lie flat on your back with your knees bent and...    Intermediate  \n",
              "...                                                 ...             ...  \n",
              "1319  Position yourself on the parallel bars with yo...    Intermediate  \n",
              "1320  Find an open space or a track to perform the e...    Intermediate  \n",
              "1321  Start in a lunge position with your right foot...    Intermediate  \n",
              "1322  Extend your arms straight out in front of you....        Beginner  \n",
              "1323  Attach a weight to one end of a rope or bar. H...        Beginner  \n",
              "\n",
              "[1324 rows x 8 columns]"
            ]
          },
          "execution_count": 194,
          "metadata": {},
          "output_type": "execute_result"
        }
      ],
      "source": [
        "# Preprocess the data\n",
        "X_new = data['name']\n",
        "\n",
        "tfidf = TfidfVectorizer()\n",
        "tfidf.fit(X)  # Fit the TF-IDF vectorizer\n",
        "X_new_tfidf = tfidf.transform(X_new)\n",
        "\n",
        "# Predict difficulty levels\n",
        "predicted_levels = model.predict(X_new_tfidf)\n",
        "\n",
        "# Add predicted levels to the new dataset\n",
        "data['Predicted_Level'] = predicted_levels\n",
        "\n",
        "data\n"
      ]
    },
    {
      "cell_type": "markdown",
      "metadata": {},
      "source": [
        "### Train random forrest classifier model to classify exercises"
      ]
    },
    {
      "cell_type": "code",
      "execution_count": 195,
      "metadata": {},
      "outputs": [],
      "source": [
        "from sklearn.ensemble import RandomForestClassifier\n",
        "from sklearn.model_selection import train_test_split\n",
        "import pickle\n",
        "\n",
        "# Preprocess the data\n",
        "data = pd.get_dummies(data, columns=['bodyPart', 'equipment', 'target']) # One-hot encoding\n",
        "\n",
        "# Split the data into features and target\n",
        "X = data.drop(columns=['name', 'secondaryMuscles', 'Predicted_Level', 'gifUrl', 'instructions'])\n",
        "y = data[['name', 'secondaryMuscles', 'Predicted_Level', 'gifUrl', 'instructions']]\n",
        "\n",
        "# Split the data into training and testing sets\n",
        "X_train, X_test, y_train, y_test = train_test_split(X, y, test_size=None, random_state=42)\n",
        "\n",
        "# Train the model\n",
        "model = RandomForestClassifier(n_estimators=100, random_state=42)\n",
        "model.fit(X_train, y_train)\n",
        "\n",
        "# Save the model to a pickle file\n",
        "with open(\"exercise_model.pkl\", \"wb\") as f:\n",
        "    pickle.dump((model), f)"
      ]
    },
    {
      "cell_type": "markdown",
      "metadata": {},
      "source": [
        "### Loading pickle file and classify exersice using user inputs"
      ]
    },
    {
      "cell_type": "code",
      "execution_count": 196,
      "metadata": {},
      "outputs": [
        {
          "name": "stdout",
          "output_type": "stream",
          "text": [
            "Please provide the following information:\n",
            "\n",
            "Exercise Details:\n",
            "Name: 45° side bend\n",
            "Secondary Muscles: hip flexors\n",
            "Predicted Level: Intermediate\n",
            "GIF URL: https://v2.exercisedb.io/image/PERWLDGUxVbpHS\n",
            "Instructions: Lie flat on your back with your knees bent and feet flat on the ground. Place your hands behind your head with your elbows pointing outwards. Engaging your abs, slowly lift your upper body off the ground, curling forward until your torso is at a 45-degree angle. Pause for a moment at the top, then slowly lower your upper body back down to the starting position. Repeat for the desired number of repetitions.\n"
          ]
        }
      ],
      "source": [
        "# Load the model from the pickle file\n",
        "with open(\"exercise_model.pkl\", \"rb\") as f:\n",
        "    model = pickle.load(f)\n",
        "\n",
        "# User inputs\n",
        "print(\"Please provide the following information:\")\n",
        "body_part = input(\"Body Part: \")\n",
        "equipment = input(\"Equipment: \")\n",
        "target = input(\"Target: \")\n",
        "\n",
        "# Create user inputs dictionary\n",
        "user_inputs = {\n",
        "    f'bodyPart_{body_part}': 1,\n",
        "    f'equipment_{equipment}': 1,\n",
        "    f'target_{target}': 1\n",
        "}\n",
        "\n",
        "# Create DataFrame from user inputs\n",
        "input_df = pd.DataFrame([user_inputs])\n",
        "\n",
        "# Get the column names used during training\n",
        "training_columns = model.feature_names_in_.tolist()\n",
        "\n",
        "# Reindexing to ensure all required columns are present\n",
        "input_df = input_df.reindex(columns=training_columns, fill_value=0)\n",
        "\n",
        "# Make predictions\n",
        "predictions = model.predict(input_df)\n",
        "\n",
        "# Output the predictions\n",
        "print(\"\\nExercise Details:\")\n",
        "print(\"Name:\", predictions[0][0])\n",
        "print(\"Secondary Muscles:\", predictions[0][1])\n",
        "print(\"Predicted Level:\", predictions[0][2])\n",
        "print(\"GIF URL:\", predictions[0][3])\n",
        "print(\"Instructions:\", predictions[0][4])\n"
      ]
    }
  ],
  "metadata": {
    "colab": {
      "provenance": []
    },
    "kernelspec": {
      "display_name": "Python 3",
      "name": "python3"
    },
    "language_info": {
      "codemirror_mode": {
        "name": "ipython",
        "version": 3
      },
      "file_extension": ".py",
      "mimetype": "text/x-python",
      "name": "python",
      "nbconvert_exporter": "python",
      "pygments_lexer": "ipython3",
      "version": "3.11.5"
    }
  },
  "nbformat": 4,
  "nbformat_minor": 0
}
