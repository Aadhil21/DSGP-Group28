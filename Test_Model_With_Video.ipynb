{
 "cells": [
  {
   "cell_type": "code",
   "execution_count": 1,
   "id": "initial_id",
   "metadata": {
    "collapsed": true,
    "ExecuteTime": {
     "end_time": "2024-02-18T11:22:50.175426600Z",
     "start_time": "2024-02-18T11:22:31.269364200Z"
    }
   },
   "outputs": [],
   "source": [
    "import pandas as pd\n",
    "import cv2\n",
    "import os\n",
    "import mediapipe as mp\n",
    "import time\n",
    "import matplotlib.pyplot as plt"
   ]
  },
  {
   "cell_type": "code",
   "outputs": [],
   "source": [
    "import pickle\n",
    "model_filename = 'Model/model.pkl'\n",
    "knn = pickle.load(open(model_filename, 'rb'))"
   ],
   "metadata": {
    "collapsed": false,
    "ExecuteTime": {
     "end_time": "2024-02-18T11:22:51.030365300Z",
     "start_time": "2024-02-18T11:22:50.179934Z"
    }
   },
   "id": "463b7ed135021224",
   "execution_count": 2
  },
  {
   "cell_type": "code",
   "outputs": [],
   "source": [
    "mp_pose = mp.solutions.pose\n",
    "mp_drawing = mp.solutions.drawing_utils\n",
    "pose = mp_pose.Pose(min_detection_confidence=0.6,\n",
    "                    min_tracking_confidence=0.6,\n",
    "                    static_image_mode=False,\n",
    "                    smooth_landmarks=True,\n",
    "                    model_complexity=2)"
   ],
   "metadata": {
    "collapsed": false,
    "ExecuteTime": {
     "end_time": "2024-02-18T11:22:51.144349400Z",
     "start_time": "2024-02-18T11:22:51.039656400Z"
    }
   },
   "id": "345c93cdc6d08ad",
   "execution_count": 3
  },
  {
   "cell_type": "code",
   "outputs": [],
   "source": [
    "video_name = 'WPushUp2.mp4'\n",
    "video_path = 'Videos/' + video_name"
   ],
   "metadata": {
    "collapsed": false,
    "ExecuteTime": {
     "end_time": "2024-02-18T11:22:51.176641800Z",
     "start_time": "2024-02-18T11:22:51.148784200Z"
    }
   },
   "id": "8db11cd4e19df357",
   "execution_count": 4
  },
  {
   "cell_type": "code",
   "outputs": [],
   "source": [
    "frame_count = 0\n",
    "frame_numbers = []\n",
    "data_dict = {}\n",
    "desired_width = 480\n",
    "desired_height = 360"
   ],
   "metadata": {
    "collapsed": false,
    "ExecuteTime": {
     "end_time": "2024-02-18T11:22:51.198272800Z",
     "start_time": "2024-02-18T11:22:51.162931200Z"
    }
   },
   "id": "6696bed904831603",
   "execution_count": 5
  },
  {
   "cell_type": "code",
   "outputs": [],
   "source": [
    "cap = cv2.VideoCapture(video_path)"
   ],
   "metadata": {
    "collapsed": false,
    "ExecuteTime": {
     "end_time": "2024-02-18T11:22:51.362537400Z",
     "start_time": "2024-02-18T11:22:51.178773700Z"
    }
   },
   "id": "b0737e96353805c1",
   "execution_count": 6
  },
  {
   "cell_type": "code",
   "outputs": [],
   "source": [
    "# Assuming df is your DataFrame\n",
    "def calculate_angle(row):\n",
    "    import math\n",
    "    row = abs(row)\n",
    "\n",
    "    # Accessing columns by their index positions (0 to 5) from the row\n",
    "    radians = math.atan2(row[5] - row[3], row[4] - row[2]) - math.atan2(row[1] - row[3], row[0] - row[2])\n",
    "    angle = math.degrees(radians)\n",
    "    if angle < 0:\n",
    "        angle += 360\n",
    "    return angle"
   ],
   "metadata": {
    "collapsed": false,
    "ExecuteTime": {
     "end_time": "2024-02-18T11:22:51.394064400Z",
     "start_time": "2024-02-18T11:22:51.368109700Z"
    }
   },
   "id": "827f588081029041",
   "execution_count": 7
  },
  {
   "cell_type": "code",
   "outputs": [],
   "source": [
    "while cap.isOpened():\n",
    "    success, image = cap.read()\n",
    "    if not success:\n",
    "        break\n",
    "\n",
    "    # Increment frame_count\n",
    "    frame_count += 1\n",
    "    print(f'Processing frame {frame_count}')\n",
    "\n",
    "    # Resize the frame to the desired width and height\n",
    "    image = cv2.resize(image, (desired_width, desired_height))\n",
    "\n",
    "    # Convert the image from BGR to RGB\n",
    "    image_rgb = cv2.cvtColor(image, cv2.COLOR_BGR2RGB)\n",
    "\n",
    "    results = pose.process(image_rgb)\n",
    "\n",
    "    if results.pose_landmarks:\n",
    "\n",
    "        frame_numbers.append(frame_count)\n",
    "        data_dict = {f\"{landmark.name}_Point_x\": [] for landmark in mp_pose.PoseLandmark}\n",
    "        data_dict.update({f\"{landmark.name}_Point_y\": [] for landmark in mp_pose.PoseLandmark})\n",
    "        data_dict.update({f\"{landmark.name}_Point_z\": [] for landmark in mp_pose.PoseLandmark})\n",
    "        data_dict.update({f\"{landmark.name}_visibility\": [] for landmark in mp_pose.PoseLandmark})\n",
    "\n",
    "        for landmark in mp_pose.PoseLandmark:\n",
    "            x_list_name = f\"{landmark.name}_Point_x\"\n",
    "            y_list_name = f\"{landmark.name}_Point_y\"\n",
    "            z_list_name = f\"{landmark.name}_Point_z\"\n",
    "            visibility_list_name = f\"{landmark.name}_visibility\"\n",
    "\n",
    "            data_dict[x_list_name].append(results.pose_landmarks.landmark[landmark].x)\n",
    "            data_dict[y_list_name].append(results.pose_landmarks.landmark[landmark].y)\n",
    "            data_dict[z_list_name].append(results.pose_landmarks.landmark[landmark].z)\n",
    "            data_dict[visibility_list_name].append(results.pose_landmarks.landmark[landmark].visibility)\n",
    "                \n",
    "        df = pd.DataFrame(data_dict)\n",
    "        Angles_df = pd.DataFrame()\n",
    "            \n",
    "        Angle_At_Right_Elbow = df[[\n",
    "            'RIGHT_WRIST_Point_x', 'RIGHT_WRIST_Point_y',\n",
    "            'RIGHT_ELBOW_Point_x', 'RIGHT_ELBOW_Point_y',\n",
    "            'RIGHT_SHOULDER_Point_x', 'RIGHT_SHOULDER_Point_y'\n",
    "        ]]\n",
    "        \n",
    "        Angles_df['Angle_At_Right_Elbow'] = Angle_At_Right_Elbow.apply(calculate_angle, axis=1)\n",
    "        \n",
    "        Angle_At_Left_Elbow = df[[\n",
    "            'LEFT_WRIST_Point_x', 'LEFT_WRIST_Point_y',\n",
    "            'LEFT_ELBOW_Point_x', 'LEFT_ELBOW_Point_y',\n",
    "            'LEFT_SHOULDER_Point_x', 'LEFT_SHOULDER_Point_y'\n",
    "        ]]\n",
    "        Angles_df['Angle_At_Left_Elbow'] = Angle_At_Left_Elbow.apply(calculate_angle, axis=1)\n",
    "        \n",
    "        # Calculate angle at right shoulder\n",
    "        Angle_At_Right_Shoulder = df[[\n",
    "            'RIGHT_ELBOW_Point_x', 'RIGHT_ELBOW_Point_y',\n",
    "            'RIGHT_SHOULDER_Point_x', 'RIGHT_SHOULDER_Point_y',\n",
    "            'RIGHT_HIP_Point_x', 'RIGHT_HIP_Point_y'\n",
    "        ]]\n",
    "        Angles_df['Angle_At_Right_Shoulder'] = Angle_At_Right_Shoulder.apply(calculate_angle, axis=1)\n",
    "        \n",
    "        # Calculate angle at left shoulder\n",
    "        Angle_At_Left_Shoulder = df[[\n",
    "            'LEFT_ELBOW_Point_x', 'LEFT_ELBOW_Point_y',\n",
    "            'LEFT_SHOULDER_Point_x', 'LEFT_SHOULDER_Point_y',\n",
    "            'LEFT_HIP_Point_x', 'LEFT_HIP_Point_y'\n",
    "        ]]\n",
    "        Angles_df['Angle_At_Left_Shoulder'] = Angle_At_Left_Shoulder.apply(calculate_angle, axis=1)\n",
    "        \n",
    "        # Calculate angle at right knee (example)\n",
    "        Angle_At_Right_Knee = df[[\n",
    "            'RIGHT_HIP_Point_x', 'RIGHT_HIP_Point_y',\n",
    "            'RIGHT_KNEE_Point_x', 'RIGHT_KNEE_Point_y',\n",
    "            'RIGHT_ANKLE_Point_x', 'RIGHT_ANKLE_Point_y'\n",
    "        ]]\n",
    "        Angles_df['Angle_At_Right_Knee'] = Angle_At_Right_Knee.apply(calculate_angle, axis=1)\n",
    "        \n",
    "        # Calculate angle at left knee (example)\n",
    "        Angle_At_Left_Knee = df[[\n",
    "            'LEFT_HIP_Point_x', 'LEFT_HIP_Point_y',\n",
    "            'LEFT_KNEE_Point_x', 'LEFT_KNEE_Point_y',\n",
    "            'LEFT_ANKLE_Point_x', 'LEFT_ANKLE_Point_y'\n",
    "        ]]\n",
    "        Angles_df['Angle_At_Left_Knee'] = Angle_At_Left_Knee.apply(calculate_angle, axis=1)\n",
    "        \n",
    "        # Calculate angle at right hip\n",
    "        Angle_At_Right_Hip = df[[\n",
    "            'RIGHT_SHOULDER_Point_x', 'RIGHT_SHOULDER_Point_y',\n",
    "            'RIGHT_HIP_Point_x', 'RIGHT_HIP_Point_y',\n",
    "            'RIGHT_KNEE_Point_x', 'RIGHT_KNEE_Point_y'\n",
    "        ]]\n",
    "        Angles_df['Angle_At_Right_Hip'] = Angle_At_Right_Hip.apply(calculate_angle, axis=1)\n",
    "        \n",
    "        # Calculate angle at left hip\n",
    "        Angle_At_Left_Hip = df[[\n",
    "            'LEFT_SHOULDER_Point_x', 'LEFT_SHOULDER_Point_y',\n",
    "            'LEFT_HIP_Point_x', 'LEFT_HIP_Point_y',\n",
    "            'LEFT_KNEE_Point_x', 'LEFT_KNEE_Point_y'\n",
    "        ]]\n",
    "        Angles_df['Angle_At_Left_Hip'] = Angle_At_Left_Hip.apply(calculate_angle, axis=1)\n",
    "        \n",
    "        # Calculate angle at neck (example)\n",
    "        Angle_At_Neck = df[[\n",
    "            'LEFT_SHOULDER_Point_x', 'LEFT_SHOULDER_Point_y',\n",
    "            'NOSE_Point_x', 'NOSE_Point_y',\n",
    "            'RIGHT_SHOULDER_Point_x', 'RIGHT_SHOULDER_Point_y'\n",
    "        ]]\n",
    "        Angles_df['Angle_At_Neck'] = Angle_At_Neck.apply(calculate_angle, axis=1)\n",
    "        \n",
    "        prediction = knn.predict(Angles_df)\n",
    "        \n",
    "        image_bgr = cv2.cvtColor(image_rgb, cv2.COLOR_RGB2BGR)\n",
    "        \n",
    "        cv2.putText(image_bgr, f\"Prediction: {prediction}\", (10, 30), cv2.FONT_HERSHEY_SIMPLEX, 1, (0, 0, 0), 2)\n",
    "\n",
    "        cv2.imshow('MediaPipe Pose', image_bgr)\n",
    "\n",
    "    if cv2.waitKey(1) & 0xFF == ord('q'):\n",
    "        break\n",
    "\n",
    "cap.release()\n",
    "cv2.destroyAllWindows()"
   ],
   "metadata": {
    "collapsed": false
   },
   "id": "9d8dcd57a2eec536",
   "execution_count": null
  },
  {
   "cell_type": "code",
   "outputs": [],
   "source": [
    "cap.release()\n",
    "cv2.destroyAllWindows()"
   ],
   "metadata": {
    "collapsed": false,
    "ExecuteTime": {
     "end_time": "2024-02-18T11:23:47.828050900Z",
     "start_time": "2024-02-18T11:23:47.788097200Z"
    }
   },
   "id": "b936e7521e558ef",
   "execution_count": 11
  },
  {
   "cell_type": "code",
   "outputs": [],
   "source": [],
   "metadata": {
    "collapsed": false,
    "ExecuteTime": {
     "end_time": "2024-02-18T11:23:34.383894600Z",
     "start_time": "2024-02-18T11:23:34.305215500Z"
    }
   },
   "id": "a282ddf4123a1857",
   "execution_count": 9
  }
 ],
 "metadata": {
  "kernelspec": {
   "display_name": "Python 3",
   "language": "python",
   "name": "python3"
  },
  "language_info": {
   "codemirror_mode": {
    "name": "ipython",
    "version": 2
   },
   "file_extension": ".py",
   "mimetype": "text/x-python",
   "name": "python",
   "nbconvert_exporter": "python",
   "pygments_lexer": "ipython2",
   "version": "2.7.6"
  }
 },
 "nbformat": 4,
 "nbformat_minor": 5
}
